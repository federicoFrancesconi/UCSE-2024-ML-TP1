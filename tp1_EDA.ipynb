{
 "cells": [
  {
   "cell_type": "markdown",
   "id": "9c8f79e8-3d7f-4f90-b893-4a2d1612d838",
   "metadata": {},
   "source": [
    "# Machine Learning - TP 1: Exploratory Data Analalysis (EDA)\n",
    "## Diccionario de datos\n",
    "El [Dataset empleado](https://www.kaggle.com/datasets/mexwell/drug-consumption-classification) recopila información de 1885 sujetos, donde se recopila información al respecto y se indica que frecuencia de consumo posee de determinada sustancia"
   ]
  },
  {
   "cell_type": "markdown",
   "id": "3dda2fd2-3146-4fd6-b183-a8aa52c4bd1f",
   "metadata": {},
   "source": [
    "<table>\n",
    "  <tr>\n",
    "    <th><b>Variable</b></th>\n",
    "    <th><b>Definición</b></th>\n",
    "    <th><b>Posibles valores</b></th>\n",
    "  </tr>\n",
    "  <tr>\n",
    "    <td>ID</td>\n",
    "    <td>Default dataset ID</td>\n",
    "    <td></td>\n",
    "  </tr>\n",
    "  <tr>\n",
    "    <td>Age</td>\n",
    "    <td>Edad del participante</td>\n",
    "    <td>\n",
    "      <b>-0.95197</b> = 18-24 <br>\n",
    "      <b>-0.07854</b> = 25 - 34 <br>\n",
    "      <b> 0.49788</b> = 35 - 44 <br>\n",
    "      <b> 1.09449</b> = 45 - 54 <br>\n",
    "      <b> 1.82213</b> = 55 - 64 <br>\n",
    "      <b> 2.59171</b> = 65+\n",
    "    </td>\n",
    "  </tr>\n",
    "  <tr>\n",
    "    <td>Gender</td>\n",
    "      <td>Genero del participante</td>\n",
    "      <td>\n",
    "         <b> 0.48246</b> = Female <br>\n",
    "         <b>-0.48246</b>=  'Male' <br>\n",
    "      </td>\n",
    "  </tr>\n",
    " <tr>\n",
    "     <td>Education</td>\n",
    "     <td> Nivel de educacion maximo alcanzado por el participante</td>\n",
    "     <td>\n",
    "        <b>-2.43591</b>: Left School Before 16 years <br>\n",
    "        <b>-1.73790</b>: Left School at 16 years <br>\n",
    "        <b>-1.43719</b>: Left School at 17 years <br>\n",
    "        <b>-1.22751</b>: Left School at 18 years <br>\n",
    "        <b>-0.61113</b>: Some College, No Certificate Or Degree <br>\n",
    "        <b>-0.05921</b>: Professional Certificate/Diploma <br>\n",
    "        <b> 0.45468</b>: University Degree <br>\n",
    "        <b> 1.16365</b>: Masters Degree <br>\n",
    "        <b> 1.98437</b>: Doctorate Degree\n",
    "     </td>\n",
    "<tr>\n",
    "    <td>Country</td>\n",
    "    <td> Pais de residencia del participante</td>\n",
    "    <td>\n",
    "        <b>-0.09765</b>: Australia <br>\n",
    "        <b> 0.24923</b>: Canada <br>\n",
    "        <b>-0.46841</b>: New Zealand <br>\n",
    "        <b>-0.28519</b>: Other <br>\n",
    "        <b> 0.21128</b>: Republic of Ireland <br>\n",
    "        <b> 0.96082</b>: UK <br>\n",
    "        <b>-0.57009</b>: USA\n",
    "    </td>\n",
    " </tr>\n",
    "<tr>\n",
    "    <td>Ethnicity</td>\n",
    "    <td>Etnia del participante</td>\n",
    "    <td>\n",
    "        <b>-0.50212</b>: Asian <br>\n",
    "        <b>-1.10702</b>: Black <br>\n",
    "        <b> 1.90725</b>: Mixed-Black/Asian <br>\n",
    "        <b> 0.12600</b>: Mixed-White/Asian <br>\n",
    "        <b>-0.22166</b>: Mixed-White/Black <br>\n",
    "        <b> 0.11440</b>: Other <br>\n",
    "        <b>-0.31685</b>: White\n",
    "    </td>\n",
    "</tr>\n",
    "    <tr>\n",
    "        <td>Nscore</td>\n",
    "        <td>Nivel de neuroticismo de una persona</td>\n",
    "        <td> Valores entre -3.46436 y 3.27393</td>\n",
    "    </tr>\n",
    "    <tr>\n",
    "        <td>Escore</td>\n",
    "        <td>nivel de extroversión</td>\n",
    "        <td> Valores entre -3.27393 y 3.27393</td>\n",
    "    </tr>\n",
    "    <tr>\n",
    "        <td>Oscore</td>\n",
    "        <td>nivel de apertura a nuevas experiencias</td>\n",
    "        <td> Valores entre -3.27393 y 2.90161</td>\n",
    "    </tr>\n",
    "    <tr>\n",
    "        <td>Ascore</td>\n",
    "        <td>nivel de tendencia a ser compasivo, cooperativo y considerado con los demás</td>\n",
    "        <td> Valores entre -3.46436 y 3.46436</td>\n",
    "    </tr>\n",
    "    <tr>\n",
    "        <td>Cscore</td>\n",
    "        <td>nivel de responsabilidad o autocontrol</td>\n",
    "        <td> Valores entre -3.46436\t y 3.46436</td>\n",
    "    </tr>\n",
    "    <tr>\n",
    "        <td>Impulsive</td>\n",
    "        <td>nivel de impulsividad</td>\n",
    "        <td> Valores entre -2.55524 y 2.90161</td>\n",
    "    </tr>\n",
    "    <tr>\n",
    "        <td>Sensation</td>\n",
    "        <td>nivel de sensibilidad o capacidad para captar estímulos físicos</td>\n",
    "        <td> Valores entre -2.07848 y 1.92173</td>\n",
    "    </tr>\n",
    "    <tr>\n",
    "        <td> Substances</td>\n",
    "        <td> 18 sustancias legales e ilegales listadas</td>\n",
    "        <td>\n",
    "            <b>CL0</b>: Never Used <br>\n",
    "            <b>CL1</b>: Used over a Decade Ago <br>\n",
    "            <b>CL2</b>: Used in Last Decade <br>\n",
    "            <b>CL3</b>: Used in Last Year <br>\n",
    "            <b>CL4</b>: Used in Last Month <br>\n",
    "            <b>CL5</b>: Used in Last Week <br>\n",
    "            <b>CL6</b>: Used in Last Day\n",
    "        </td>\n",
    "    </tr>\n",
    "        \n",
    "</table>"
   ]
  },
  {
   "cell_type": "markdown",
   "id": "856946cc-4b9b-4906-8d9e-a76c0edecd63",
   "metadata": {},
   "source": [
    "## Notas sobre las variables\n",
    "**Nscore** : Un puntaje alto en Nscore sugiere que la persona es más propensa a tener reacciones emocionales intensas y a percibir situaciones cotidianas como estresantes. Por el contrario, un puntaje bajo indica una mayor estabilidad emocional y menor susceptibilidad al estrés.\n",
    "\n",
    "**Escore** : Un puntaje alto en Escore indica que la persona es sociable, activa y enérgica, disfrutando de la compañía de otros y participando en actividades sociales. Un puntaje bajo sugiere una tendencia hacia la introversión, prefiriendo la soledad, la reflexión y las actividades más tranquilas.\n",
    "\n",
    "**Oscore** :  Un puntaje alto en Oscore indica una persona imaginativa, con interés en ideas novedosas, el arte, y la aventura. Por el contrario, un puntaje bajo sugiere una preferencia por la rutina, lo familiar, y un enfoque más convencional hacia la vida.\n",
    "\n",
    "**Ascore** : Un puntaje alto en Ascore indica que la persona es empática, confiada y se lleva bien con los demás, priorizando la armonía en las relaciones. Un puntaje bajo sugiere que la persona puede ser más competitiva, escéptica o confrontativa, con menos preocupación por complacer a otros.\n",
    "\n",
    "**Cscore** : Un puntaje alto en Cscore sugiere que la persona es meticulosa, confiable y orientada a objetivos, con una fuerte ética de trabajo y un buen manejo del tiempo. Un puntaje bajo indica una tendencia hacia la desorganización, la procrastinación y una menor atención a los detalles.\n",
    "\n",
    "**Impulsivness** : Un puntaje alto indica que el individuo es mas propenso a actuar de manera impusliva (realizar acciones sin meditar previamente).\n",
    "\n",
    "**Sensation** : El puntaje obtenido indica el grado de sensibilidad del individuo ante estimulos."
   ]
  },
  {
   "cell_type": "markdown",
   "id": "f3d61312-4c36-4659-b6c7-91a8cbecc20b",
   "metadata": {},
   "source": [
    "## Dependencias"
   ]
  },
  {
   "cell_type": "code",
   "execution_count": null,
   "id": "33d2b6ee-9b09-4525-8167-82b2af85d9dc",
   "metadata": {},
   "outputs": [],
   "source": [
    "import pandas as pd\n",
    "import seaborn as sns\n",
    "import matplotlib.pyplot as plt"
   ]
  },
  {
   "cell_type": "markdown",
   "id": "c7847266-81e8-4ebd-b35a-719117b01d3b",
   "metadata": {},
   "source": [
    "## Importación de Dataset"
   ]
  },
  {
   "cell_type": "code",
   "execution_count": null,
   "id": "e6f12a2a-99f3-4304-8a0e-0828df60c545",
   "metadata": {},
   "outputs": [],
   "source": [
    "#Importamos el dataset\n",
    "data = pd.read_csv('./drug_consumption.csv')\n",
    "\n",
    "# Renombramos las columnas\n",
    "renamed_columns = {\n",
    "    'ID': 'id',\n",
    "    'Age': 'age',\n",
    "    'Gender': 'gender',\n",
    "    'Education': 'education',\n",
    "    'Country': 'country',\n",
    "    'Ethnicity': 'ethnicity',\n",
    "    'Nscore': 'n_score',\n",
    "    'Escore': 'e_score',\n",
    "    'Oscore': 'o_score',\n",
    "    'Ascore': 'a_score',\n",
    "    'Cscore': 'c_score',\n",
    "    'Impulsive': 'impulsive',\n",
    "    'SS': 'ss',\n",
    "    'Alcohol': 'alcohol',\n",
    "    'Amphet': 'amphet',\n",
    "    'Amyl': 'amyl',\n",
    "    'Benzos': 'benzos',\n",
    "    'Caff': 'caff',\n",
    "    'Cannabis': 'cannabis',\n",
    "    'Choc': 'choc',\n",
    "    'Coke': 'coke',\n",
    "    'Crack': 'crack',\n",
    "    'Ecstasy': 'ecstasy',\n",
    "    'Heroin': 'heroin',\n",
    "    'Ketamine': 'ketamine',\n",
    "    'Legalh': 'legalh',\n",
    "    'LSD': 'lsd',\n",
    "    'Meth': 'meth',\n",
    "    'Mushrooms': 'mushrooms',\n",
    "    'Nicotine': 'nicotine',\n",
    "    'Semer': 'semer',\n",
    "    'VSA': 'vsa'\n",
    "}\n",
    "\n",
    "data.rename(columns=renamed_columns, inplace=True)\n",
    "\n",
    "# Filtrar variables que no se utilizarán\n",
    "data = data[[\"age\", \"gender\", \"education\", \"country\", \"ethnicity\", \"n_score\", \"e_score\", \"o_score\", \"a_score\", \"c_score\", \"impulsive\", \"coke\"]]"
   ]
  },
  {
   "cell_type": "code",
   "execution_count": null,
   "id": "1b8a18a5-9c65-4c12-a49c-a3d1a27929c2",
   "metadata": {},
   "outputs": [],
   "source": [
    "data.sample(9)"
   ]
  },
  {
   "cell_type": "markdown",
   "id": "f1a6791a-2556-478f-8c85-584930dac986",
   "metadata": {},
   "source": [
    "## Análisis de variables de entrada"
   ]
  },
  {
   "cell_type": "markdown",
   "id": "f556e9bc-7e28-4399-8485-c44265bd82e6",
   "metadata": {},
   "source": [
    "### Tipos de datos"
   ]
  },
  {
   "cell_type": "code",
   "execution_count": null,
   "id": "8da37eaa-0578-4de0-b011-43666f8c878e",
   "metadata": {},
   "outputs": [],
   "source": [
    "data.dtypes"
   ]
  },
  {
   "cell_type": "markdown",
   "id": "3c16c9ef-d1d9-4811-8bf9-3d61c2878041",
   "metadata": {},
   "source": [
    "Vemos que todas las variables de entrada son de tipo float"
   ]
  },
  {
   "cell_type": "markdown",
   "id": "0ec9030d-9c6d-4d0a-a231-9d937c68a433",
   "metadata": {},
   "source": [
    "### Age"
   ]
  },
  {
   "cell_type": "markdown",
   "id": "e53d78cf-9629-4271-9db0-20e5cb761374",
   "metadata": {},
   "source": [
    "Lo primero es mapear la edad al rango original para que se entienda mejor"
   ]
  },
  {
   "cell_type": "code",
   "execution_count": null,
   "id": "f8ecaad7-7066-4e01-a64b-47328d16cfa6",
   "metadata": {},
   "outputs": [],
   "source": [
    "#Definimos la funcion de mapeo\n",
    "age_mapping = {\n",
    "    -0.95197: \"18-24\",\n",
    "    -0.07854: \"25-34\",\n",
    "    0.49788: \"35-44\",\n",
    "    1.09449: \"45-54\",\n",
    "    1.82213: \"55-64\",\n",
    "    2.59171: \"65+\"\n",
    "}\n",
    "\n",
    "#Mapeamos la edad en un nuevo csv\n",
    "edad_mapeada = data.copy()\n",
    "edad_mapeada['age'] = edad_mapeada['age'].map(age_mapping)"
   ]
  },
  {
   "cell_type": "code",
   "execution_count": null,
   "id": "ece45eba-2bc6-447c-a4d8-8a9eb05750e6",
   "metadata": {},
   "outputs": [],
   "source": [
    "edad_mapeada.age.describe()"
   ]
  },
  {
   "cell_type": "markdown",
   "id": "8ba3fed1-f764-4b0d-ad48-bbedcbdbe681",
   "metadata": {},
   "source": [
    "Para comprender la distribución de las edades, podemos contar los individuos de cada rango etáreo"
   ]
  },
  {
   "cell_type": "code",
   "execution_count": null,
   "id": "be4d693b-6b7e-4125-9397-a0b9a8487d5c",
   "metadata": {},
   "outputs": [],
   "source": [
    "edad_mapeada.age.value_counts()"
   ]
  },
  {
   "cell_type": "code",
   "execution_count": null,
   "id": "21b53f2e-0039-4ff1-a5a2-12a9110a83e6",
   "metadata": {},
   "outputs": [],
   "source": [
    "# Defino el orden de las edades\n",
    "order = ['18-24', '25-34', '35-44', '45-54', '55-64', '65+']\n",
    "hue_order = ['CL0', 'CL1', 'CL2', 'CL3', 'CL4', 'CL5', 'CL6']\n",
    "\n",
    "sns.countplot(data=edad_mapeada, x='age', hue='coke', order=order, hue_order=hue_order)\n",
    "plt.xlabel('Age')\n",
    "plt.ylabel('Count')\n",
    "plt.title('Relación entre la edad y el consumo de cocaína')\n",
    "plt.show()"
   ]
  },
  {
   "cell_type": "markdown",
   "id": "c0ae72da-6022-4be1-b757-46408627ff52",
   "metadata": {},
   "source": [
    "Solo podemos decir que hay un consumo más frecuente en los jóvenes"
   ]
  },
  {
   "cell_type": "markdown",
   "id": "99a593be-2f12-4220-b167-f81fe6b0d20d",
   "metadata": {},
   "source": [
    "### Gender"
   ]
  },
  {
   "cell_type": "markdown",
   "id": "bb43184a-6fa6-45dc-b0cb-35b8081091bd",
   "metadata": {},
   "source": [
    "Tenemos sólo dos valores numéricos en este caso, que representan masculino y femenino"
   ]
  },
  {
   "cell_type": "code",
   "execution_count": null,
   "id": "72513303-f6da-4379-821e-a47423252ffa",
   "metadata": {},
   "outputs": [],
   "source": [
    "data.gender.value_counts()"
   ]
  },
  {
   "cell_type": "markdown",
   "id": "48508faa-3975-4745-b2ea-1c3320fda05c",
   "metadata": {},
   "source": [
    "Además vemos que el balance es casi perfecto"
   ]
  },
  {
   "cell_type": "code",
   "execution_count": null,
   "id": "800a053b-07ce-44ed-acd4-5feeec847362",
   "metadata": {},
   "outputs": [],
   "source": [
    "# Seleccionamos las columnas para analizar la relación\n",
    "df_gender_coke = data[['gender', 'coke']]\n",
    "\n",
    "mapping_gender = {\n",
    "    0.48246: \"female\",\n",
    "    -0.48246: \"male\"\n",
    "}\n",
    "\n",
    "#Mapeamos el genero\n",
    "df_gender_coke_mapped = df_gender_coke.copy()\n",
    "df_gender_coke_mapped['gender'] = df_gender_coke_mapped['gender'].map(mapping_gender)\n",
    "df_gender_coke_mapped"
   ]
  },
  {
   "cell_type": "code",
   "execution_count": null,
   "id": "3a43a7f1-8fe2-477e-b4a5-298351c73f08",
   "metadata": {},
   "outputs": [],
   "source": [
    "# Agrupamos por tipo de consumo y género para contar la cantidad de ocurrencias\n",
    "counts = df_gender_coke_mapped.groupby(['coke', 'gender']).size().unstack()\n",
    "\n",
    "# Generamos un grafico de barras adyacentes\n",
    "counts.plot(kind='bar', stacked=False)\n",
    "\n",
    "plt.xlabel('Consumo')\n",
    "plt.ylabel('Casos')\n",
    "plt.title('Consumo de Cocaína por Género')\n",
    "plt.xticks(rotation=0)\n",
    "plt.legend(title='Género')\n",
    "plt.show()"
   ]
  },
  {
   "cell_type": "markdown",
   "id": "2f7dea2a-b040-4f5f-a5ce-3f53246ec498",
   "metadata": {},
   "source": [
    "Evidentemente los hombres consumen más cocaína que las mujeres"
   ]
  },
  {
   "cell_type": "markdown",
   "id": "f0969522-1b1b-4d05-8191-1361e41c5dae",
   "metadata": {},
   "source": [
    "### Education"
   ]
  },
  {
   "cell_type": "code",
   "execution_count": null,
   "id": "3d6c1201-909e-47e0-ade7-b2c43f9c5b9f",
   "metadata": {},
   "outputs": [],
   "source": [
    "# Filtramos coke y education que son las variables de interés, y mappeamos a valores entendibles\n",
    "df_education_coke = data[['education','coke']]\n",
    "\n",
    "education_mapping = {\n",
    "-2.43591: 'Dejo -16',\n",
    "-1.73790: 'Dejo 16',\n",
    "-1.43719: 'Dejo 17',\n",
    "-1.22751: 'Dejo 18',\n",
    "-0.61113: 'Secundario',\n",
    "-0.05921: 'Terciario',\n",
    "0.45468: 'Universitario',\n",
    "1.16365: 'Maestría',\n",
    "1.98437: 'Doctorado',\n",
    "}\n",
    "\n",
    "#Mapeamos la educacion\n",
    "df_education_coke_mapped = df_education_coke.copy()\n",
    "df_education_coke_mapped['education'] = df_education_coke_mapped['education'].map(education_mapping)\n",
    "df_education_coke_mapped"
   ]
  },
  {
   "cell_type": "code",
   "execution_count": null,
   "id": "6171420d-43a7-48df-8f73-14f369cd7823",
   "metadata": {},
   "outputs": [],
   "source": [
    "# Hacemos explícito el orden de educación\n",
    "education_order = ['Dejo -16', 'Dejo 16', 'Dejo 17', 'Dejo 18', 'Secundario', 'Terciario', 'Universitario', 'Maestría', 'Doctorado']\n",
    "\n",
    "# Para aplicar el orden convertimos la columna education a columna Categórica\n",
    "df_education_coke_mapped['education'] = pd.Categorical(df_education_coke_mapped['education'], categories=education_order, ordered=True)\n",
    "\n",
    "df_education_coke_mapped.education.value_counts().sort_index()"
   ]
  },
  {
   "cell_type": "code",
   "execution_count": null,
   "id": "e469e844-44e8-4c63-8a73-f95edd169c0c",
   "metadata": {},
   "outputs": [],
   "source": [
    "# Contamos la cantidad de cada categoria por nivel educativo\n",
    "df_cantidad_consumo_x_educacion = df_education_coke_mapped.groupby(['education', 'coke'], observed=False).size().unstack()\n",
    "\n",
    "# Generamos un grafico de barras apiladas\n",
    "df_cantidad_consumo_x_educacion.plot.bar(stacked=True)\n",
    "\n",
    "plt.xlabel('Nivel Educativo')\n",
    "plt.ylabel('Consumidores')\n",
    "plt.title('Consumo de cocaína por Nivel Educativo')\n",
    "plt.xticks(rotation=45)\n",
    "plt.show()"
   ]
  },
  {
   "cell_type": "markdown",
   "id": "f8271f22-7776-453c-aed8-308f2e45fd08",
   "metadata": {},
   "source": [
    "### Country"
   ]
  },
  {
   "cell_type": "code",
   "execution_count": null,
   "id": "b54b4ee1-6118-437a-9321-02d666d7bb39",
   "metadata": {},
   "outputs": [],
   "source": [
    "# Filtramos coke y country que son las variables de interés\n",
    "df_country_coke = data[['country','coke']]\n",
    "\n",
    "# Mapeamos country para que se entienda mejor\n",
    "country_mapping = {\n",
    "    -0.09765: 'Australia',\n",
    "    0.24923: 'Canada',\n",
    "    -0.46841: 'New Zealand',\n",
    "    -0.28519: 'Other',\n",
    "    0.21128: 'Republic of Ireland',\n",
    "    0.96082: 'UK',\n",
    "    -0.57009: 'USA'\n",
    "}\n",
    "\n",
    "df_country_coke_mapped = df_country_coke.copy()\n",
    "df_country_coke_mapped['country'] = df_country_coke_mapped['country'].map(country_mapping)\n",
    "\n",
    "df_country_coke_mapped.sample(10)"
   ]
  },
  {
   "cell_type": "code",
   "execution_count": null,
   "id": "15cd990f-a0b2-4219-b861-1b0a567bf652",
   "metadata": {},
   "outputs": [],
   "source": [
    "df_country_coke_mapped.country.value_counts().plot.bar(stacked=False)"
   ]
  },
  {
   "cell_type": "markdown",
   "id": "3d9aefdd-2050-4d60-be86-d236c52d8b13",
   "metadata": {},
   "source": [
    "La columna country está completamente desbalanceada, habiendo registros más que nada de Reino Unido y Estados Unidos"
   ]
  },
  {
   "cell_type": "markdown",
   "id": "d586bed8-9277-4360-9e80-21a69b98a86c",
   "metadata": {},
   "source": [
    "Para analizar la proporción de consumo dentro de cada país, podemos hacer gráficos de torta"
   ]
  },
  {
   "cell_type": "code",
   "execution_count": null,
   "id": "ea713a9a-9041-4091-95c8-c481619ae2c4",
   "metadata": {},
   "outputs": [],
   "source": [
    "cantidad_coke_x_pais = df_country_coke_mapped.groupby(['coke','country']).size().unstack()\n",
    "\n",
    "print(cantidad_coke_x_pais)"
   ]
  },
  {
   "cell_type": "code",
   "execution_count": null,
   "id": "f2a772b3-c47d-477d-a63d-8970f58c323e",
   "metadata": {},
   "outputs": [],
   "source": [
    "cantidad_coke_x_pais.plot.pie(subplots=True, figsize=(11, 10), autopct='%1.1f%%', startangle=90, layout=(3, 3))\n",
    "\n",
    "plt.tight_layout()\n",
    "plt.show()"
   ]
  },
  {
   "cell_type": "markdown",
   "id": "3e1a6807-6b71-40ef-bb43-8c45955814f3",
   "metadata": {},
   "source": [
    "El consumo de cocaina en Estados Unidos es mucho mayor que en Reino Unido"
   ]
  },
  {
   "cell_type": "markdown",
   "id": "c033d486-7c97-48b1-91bc-0b572c12afcc",
   "metadata": {},
   "source": [
    "### Ethnicity"
   ]
  },
  {
   "cell_type": "code",
   "execution_count": null,
   "id": "06b2860b-4813-43a0-bfe2-91774321f3ac",
   "metadata": {},
   "outputs": [],
   "source": [
    "# Filtramos ethnicity y coke que son las variables de interés\n",
    "df_ethnicity_coke = data[['ethnicity','coke']]\n",
    "\n",
    "ethnicity_mapping = {\n",
    "    -0.50212: 'Asian',\n",
    "    -1.10702: 'Black',\n",
    "    1.90725: 'Mixed-Black/Asian',\n",
    "    0.12600: 'Mixed-White/Asian',\n",
    "    -0.22166: 'Mixed-White/Black',\n",
    "    0.11440: 'Other',\n",
    "    -0.31685: 'White'\n",
    "}\n",
    "\n",
    "# Mapeamos a valores entendibles\n",
    "df_ethnicity_coke_mapped = df_ethnicity_coke.copy()\n",
    "df_ethnicity_coke_mapped['ethnicity'] = df_ethnicity_coke_mapped['ethnicity'].map(ethnicity_mapping)"
   ]
  },
  {
   "cell_type": "code",
   "execution_count": null,
   "id": "28e8b804-63e1-4ce1-af9b-38422694ee3c",
   "metadata": {},
   "outputs": [],
   "source": [
    "# Agrupamos para conocer el consumo puntual por cada etnia\n",
    "cantidad_coke_x_etnia = df_ethnicity_coke_mapped.groupby(['coke', 'ethnicity']).size().unstack()\n",
    "\n",
    "# Mostramos el df\n",
    "print(cantidad_coke_x_etnia)"
   ]
  },
  {
   "cell_type": "code",
   "execution_count": null,
   "id": "0d25a939-7aeb-4a96-afac-06c18cdfb3b0",
   "metadata": {},
   "outputs": [],
   "source": [
    "cantidad_coke_x_etnia.transpose().plot.barh(stacked=True);"
   ]
  },
  {
   "cell_type": "markdown",
   "id": "9bf6c1fa-d6e0-4fae-ab18-eeecd25eba33",
   "metadata": {},
   "source": [
    "Observamos que el conjunto de datos está desbalanceado siendo 'white' la etnia predominante"
   ]
  },
  {
   "cell_type": "code",
   "execution_count": null,
   "id": "8fbcc7aa-b6d3-42c4-9aed-e6205a2558b8",
   "metadata": {},
   "outputs": [],
   "source": [
    "# Generamos un gráfico de tortas igual al que hicimos con los países\n",
    "cantidad_coke_x_etnia.plot.pie(subplots=True, figsize=(11, 10), autopct='%1.1f%%', startangle=90, layout=(3, 3))\n",
    "\n",
    "plt.tight_layout()\n",
    "plt.show()"
   ]
  },
  {
   "cell_type": "markdown",
   "id": "c9f0312a-b7db-4298-9550-37589b4ab37d",
   "metadata": {},
   "source": [
    "### Nscore"
   ]
  },
  {
   "cell_type": "markdown",
   "id": "c62c7afa-beb7-4360-985f-59bf8d330a9b",
   "metadata": {},
   "source": [
    "### Escore"
   ]
  },
  {
   "cell_type": "markdown",
   "id": "ca768da5-f5a1-4c68-b4d9-1175ff8d272f",
   "metadata": {},
   "source": [
    "### Oscore"
   ]
  },
  {
   "cell_type": "markdown",
   "id": "6dd1c6ea-1c05-4783-aab7-98f38824a63a",
   "metadata": {},
   "source": [
    "### Ascore"
   ]
  },
  {
   "cell_type": "markdown",
   "id": "69efe92e-af1a-475a-9da1-3e0014c0918e",
   "metadata": {},
   "source": [
    "### Cscore"
   ]
  },
  {
   "cell_type": "markdown",
   "id": "626b4b72-29e9-4825-b5d4-8b143580cbce",
   "metadata": {},
   "source": [
    "### Impulsive"
   ]
  },
  {
   "cell_type": "markdown",
   "id": "60953f28-51ec-4c84-85d0-4a0012a34f4b",
   "metadata": {},
   "source": [
    "### Correlación"
   ]
  },
  {
   "cell_type": "code",
   "execution_count": null,
   "id": "07d7db64-f9c5-4061-bf95-6ec1437b0d5c",
   "metadata": {},
   "outputs": [],
   "source": [
    "datos = pd.read_csv('./drug_consumption.csv')\n",
    "columnas = datos.iloc[:, 1:13]\n",
    "correlacion = columnas.corr()\n",
    "sns.heatmap(correlacion, annot=True, cmap='coolwarm')\n",
    "plt.show()"
   ]
  },
  {
   "cell_type": "code",
   "execution_count": null,
   "id": "3ab26f8b-3e6e-4fc8-aa80-6c6a3e436280",
   "metadata": {},
   "outputs": [],
   "source": []
  }
 ],
 "metadata": {
  "kernelspec": {
   "display_name": "Python 3 (ipykernel)",
   "language": "python",
   "name": "python3"
  },
  "language_info": {
   "codemirror_mode": {
    "name": "ipython",
    "version": 3
   },
   "file_extension": ".py",
   "mimetype": "text/x-python",
   "name": "python",
   "nbconvert_exporter": "python",
   "pygments_lexer": "ipython3",
   "version": "3.12.5"
  }
 },
 "nbformat": 4,
 "nbformat_minor": 5
}
