{
 "cells": [
  {
   "cell_type": "markdown",
   "id": "9c8f79e8-3d7f-4f90-b893-4a2d1612d838",
   "metadata": {},
   "source": [
    "# Machine Learning - TP 1: Exploratory Data Analalysis (EDA)"
   ]
  },
  {
   "cell_type": "markdown",
   "id": "0e14bdb1-e66b-47f1-9ea5-e8453fcdd18d",
   "metadata": {},
   "source": [
    "![Calavera hecha con Cocaína](https://cdn.anaheimlighthouse.com/wp-content/uploads/2022/05/Can-You-Die-From-Cocaine-The-Lethal-Truth-About-This-Dangerous-Drug-2.jpg)"
   ]
  },
  {
   "cell_type": "markdown",
   "id": "8dfe3be4-be77-46c2-9e07-51342b61f9e7",
   "metadata": {},
   "source": [
    "## Diccionario de datos\n",
    "El [Dataset empleado](https://www.kaggle.com/datasets/mexwell/drug-consumption-classification) recopila información de 1885 sujetos, detallando la ultima vez que cada uno consumió una sustancia determinada"
   ]
  },
  {
   "cell_type": "markdown",
   "id": "3dda2fd2-3146-4fd6-b183-a8aa52c4bd1f",
   "metadata": {},
   "source": [
    "<table>\n",
    "  <tr>\n",
    "    <th><b>Variable</b></th>\n",
    "    <th><b>Definición</b></th>\n",
    "    <th><b>Posibles valores</b></th>\n",
    "  </tr>\n",
    "  <tr>\n",
    "    <td>ID</td>\n",
    "    <td>ID por defecto del dataset</td>\n",
    "    <td></td>\n",
    "  </tr>\n",
    "  <tr>\n",
    "    <td>Age</td>\n",
    "    <td>Edad del participante</td>\n",
    "    <td>\n",
    "      <b>-0.95197</b> = 18 - 24 <br>\n",
    "      <b>-0.07854</b> = 25 - 34 <br>\n",
    "      <b> 0.49788</b> = 35 - 44 <br>\n",
    "      <b> 1.09449</b> = 45 - 54 <br>\n",
    "      <b> 1.82213</b> = 55 - 64 <br>\n",
    "      <b> 2.59171</b> = 65+\n",
    "    </td>\n",
    "  </tr>\n",
    "  <tr>\n",
    "    <td>Gender</td>\n",
    "      <td>Género del participante</td>\n",
    "      <td>\n",
    "         <b> 0.48246</b> = Female <br>\n",
    "         <b>-0.48246</b> = Male <br>\n",
    "      </td>\n",
    "  </tr>\n",
    " <tr>\n",
    "     <td>Education</td>\n",
    "     <td>Nivel de educación máximo alcanzado por el participante</td>\n",
    "     <td>\n",
    "        <b>-2.43591</b>: Left School Before 16 years <br>\n",
    "        <b>-1.73790</b>: Left School at 16 years <br>\n",
    "        <b>-1.43719</b>: Left School at 17 years <br>\n",
    "        <b>-1.22751</b>: Left School at 18 years <br>\n",
    "        <b>-0.61113</b>: Some College, No Certificate Or Degree <br>\n",
    "        <b>-0.05921</b>: Professional Certificate/Diploma <br>\n",
    "        <b> 0.45468</b>: University Degree <br>\n",
    "        <b> 1.16365</b>: Masters Degree <br>\n",
    "        <b> 1.98437</b>: Doctorate Degree\n",
    "     </td>\n",
    "  </tr>\n",
    "<tr>\n",
    "    <td>Country</td>\n",
    "    <td>País de residencia del participante</td>\n",
    "    <td>\n",
    "        <b>-0.09765</b>: Australia <br>\n",
    "        <b> 0.24923</b>: Canada <br>\n",
    "        <b>-0.46841</b>: New Zealand <br>\n",
    "        <b>-0.28519</b>: Other <br>\n",
    "        <b> 0.21128</b>: Republic of Ireland <br>\n",
    "        <b> 0.96082</b>: UK <br>\n",
    "        <b>-0.57009</b>: USA\n",
    "    </td>\n",
    " </tr>\n",
    "<tr>\n",
    "    <td>Ethnicity</td>\n",
    "    <td>Etnia del participante</td>\n",
    "    <td>\n",
    "        <b>-0.50212</b>: Asian <br>\n",
    "        <b>-1.10702</b>: Black <br>\n",
    "        <b> 1.90725</b>: Mixed-Black/Asian <br>\n",
    "        <b> 0.12600</b>: Mixed-White/Asian <br>\n",
    "        <b>-0.22166</b>: Mixed-White/Black <br>\n",
    "        <b> 0.11440</b>: Other <br>\n",
    "        <b>-0.31685</b>: White\n",
    "    </td>\n",
    "</tr>\n",
    "    <tr>\n",
    "        <td>Nscore</td>\n",
    "        <td>Nivel de neuroticismo de una persona</td>\n",
    "        <td>Valores entre -3.46436 y 3.27393</td>\n",
    "    </tr>\n",
    "    <tr>\n",
    "        <td>Escore</td>\n",
    "        <td>Nivel de extroversión</td>\n",
    "        <td>Valores entre -3.27393 y 3.27393</td>\n",
    "    </tr>\n",
    "    <tr>\n",
    "        <td>Oscore</td>\n",
    "        <td>Nivel de apertura a nuevas experiencias</td>\n",
    "        <td>Valores entre -3.27393 y 2.90161</td>\n",
    "    </tr>\n",
    "    <tr>\n",
    "        <td>Ascore</td>\n",
    "        <td>Nivel de tendencia a ser compasivo, cooperativo y considerado con los demás</td>\n",
    "        <td>Valores entre -3.46436 y 3.46436</td>\n",
    "    </tr>\n",
    "    <tr>\n",
    "        <td>Cscore</td>\n",
    "        <td>Nivel de responsabilidad o autocontrol</td>\n",
    "        <td>Valores entre -3.46436 y 3.46436</td>\n",
    "    </tr>\n",
    "    <tr>\n",
    "        <td>Impulsive</td>\n",
    "        <td>Nivel de impulsividad</td>\n",
    "        <td>Valores entre -2.55524 y 2.90161</td>\n",
    "    </tr>\n",
    "    <tr>\n",
    "        <td>Sensation</td>\n",
    "        <td>Nivel de sensibilidad o capacidad para captar estímulos físicos</td>\n",
    "        <td>Valores entre -2.07848 y 1.92173</td>\n",
    "    </tr>\n",
    "    <tr>\n",
    "        <td>Substances</td>\n",
    "        <td>18 sustancias legales e ilegales listadas</td>\n",
    "        <td>\n",
    "            <b>CL0</b>: Never Used <br>\n",
    "            <b>CL1</b>: Used over a Decade Ago <br>\n",
    "            <b>CL2</b>: Used in Last Decade <br>\n",
    "            <b>CL3</b>: Used in Last Year <br>\n",
    "            <b>CL4</b>: Used in Last Month <br>\n",
    "            <b>CL5</b>: Used in Last Week <br>\n",
    "            <b>CL6</b>: Used in Last Day\n",
    "        </td>\n",
    "    </tr>\n",
    "</table>\n"
   ]
  },
  {
   "cell_type": "markdown",
   "id": "856946cc-4b9b-4906-8d9e-a76c0edecd63",
   "metadata": {},
   "source": [
    "## Notas sobre las variables\n",
    "**Age**: Empleada como variable de entrada.\n",
    "\n",
    "**Gender**: Empleada como variable de entrada.\n",
    "\n",
    "**Education**: Empleada como variable de entrada.\n",
    "\n",
    "**Country**: Empleada como variable de entrada.\n",
    "\n",
    "**Ethnicity**: Empleada como variable de entrada.\n",
    "\n",
    "**Nscore**: Un puntaje alto en Nscore sugiere que la persona es más propensa a tener reacciones emocionales intensas y a percibir situaciones cotidianas como estresantes. Por el contrario, un puntaje bajo indica una mayor estabilidad emocional y menor susceptibilidad al estrés. Empleada como variable de entrada.  \n",
    "\n",
    "**Escore**: Un puntaje alto en Escore indica que la persona es sociable, activa y enérgica, disfrutando de la compañía de otros y participando en actividades sociales. Un puntaje bajo sugiere una tendencia hacia la introversión, prefiriendo la soledad, la reflexión y las actividades más tranquilas. Empleada como variable de entrada.  \n",
    "\n",
    "**Oscore**: Un puntaje alto en Oscore indica una persona imaginativa, con interés en ideas novedosas, el arte y la aventura. Por el contrario, un puntaje bajo sugiere una preferencia por la rutina, lo familiar y un enfoque más convencional hacia la vida. Empleada como variable de entrada.  \n",
    "\n",
    "**Ascore**: Un puntaje alto en Ascore indica que la persona es empática, confiada y se lleva bien con los demás, priorizando la armonía en las relaciones. Un puntaje bajo sugiere que la persona puede ser más competitiva, escéptica o confrontativa, con menos preocupación por complacer a otros. Empleada como variable de entrada.  \n",
    "\n",
    "**Cscore**: Un puntaje alto en Cscore sugiere que la persona es meticulosa, confiable y orientada a objetivos, con una fuerte ética de trabajo y un buen manejo del tiempo. Un puntaje bajo indica una tendencia hacia la desorganización, la procrastinación y una menor atención a los detalles. Empleada como variable de entrada.  \n",
    "\n",
    "**Impulsives**: Un puntaje alto indica que el individuo es más propenso a actuar de manera impulsiva (realizar acciones sin meditar previamente). Empleada como variable de entrada.  \n",
    "\n",
    "**Sensation**: El puntaje obtenido indica el grado de sensibilidad del individuo ante estímulos. Empleada como variable de entrada.  \n",
    "\n",
    "**Coke**: Indica la última vez que un individuo ha consumido cocaína. Empleada como variable de salida. \n",
    "\n",
    "**Substances** : Todas las sustancias del dataset fueron descartadas, excepto coke"
   ]
  },
  {
   "cell_type": "markdown",
   "id": "f3d61312-4c36-4659-b6c7-91a8cbecc20b",
   "metadata": {},
   "source": [
    "### Dependencias"
   ]
  },
  {
   "cell_type": "code",
   "execution_count": null,
   "id": "0f6b639b-3990-4bc9-89de-0c4a522e61c9",
   "metadata": {},
   "outputs": [],
   "source": [
    "import pandas as pd\n",
    "import numpy as np\n",
    "import seaborn as sns\n",
    "import matplotlib.pyplot as plt"
   ]
  },
  {
   "cell_type": "code",
   "execution_count": null,
   "id": "1dc60cfc-a474-43f0-8bd6-737345207fb6",
   "metadata": {},
   "outputs": [],
   "source": [
    "# Definimos una variable \"semilla\", para usar con random a lo largo del notebook\n",
    "semilla = 13"
   ]
  },
  {
   "cell_type": "code",
   "execution_count": null,
   "id": "ac8bc877-7019-4922-b9d9-1003594be034",
   "metadata": {},
   "outputs": [],
   "source": [
    "# Ignoramos los warnings de tipo FutureWarning\n",
    "import warnings\n",
    "warnings.simplefilter(action='ignore', category=FutureWarning)"
   ]
  },
  {
   "cell_type": "markdown",
   "id": "c7847266-81e8-4ebd-b35a-719117b01d3b",
   "metadata": {},
   "source": [
    "### Importación de Dataset"
   ]
  },
  {
   "cell_type": "code",
   "execution_count": null,
   "id": "e6f12a2a-99f3-4304-8a0e-0828df60c545",
   "metadata": {},
   "outputs": [],
   "source": [
    "#Importamos el dataset\n",
    "data_original = pd.read_csv('./drug_consumption.csv')\n",
    "\n",
    "# Renombramos las columnas\n",
    "renamed_columns = {\n",
    "    'ID': 'id',\n",
    "    'Age': 'age',\n",
    "    'Gender': 'gender',\n",
    "    'Education': 'education',\n",
    "    'Country': 'country',\n",
    "    'Ethnicity': 'ethnicity',\n",
    "    'Nscore': 'n_score',\n",
    "    'Escore': 'e_score',\n",
    "    'Oscore': 'o_score',\n",
    "    'Ascore': 'a_score',\n",
    "    'Cscore': 'c_score',\n",
    "    'Impulsive': 'impulsive',\n",
    "    'SS': 'sensibility',\n",
    "    'Coke': 'coke',\n",
    "}\n",
    "\n",
    "data_original.rename(columns=renamed_columns, inplace=True)\n",
    "\n",
    "# Dejamos únicamente las variables que usaremos\n",
    "data_original = data_original[[\"age\", \"gender\", \"education\", \"country\", \"ethnicity\", \"n_score\", \"e_score\", \"o_score\", \"a_score\", \"c_score\", \"impulsive\", \"sensibility\", \"coke\"]]\n",
    "data = data_original.copy()"
   ]
  },
  {
   "cell_type": "code",
   "execution_count": null,
   "id": "1b8a18a5-9c65-4c12-a49c-a3d1a27929c2",
   "metadata": {},
   "outputs": [],
   "source": [
    "data.sample(9)"
   ]
  },
  {
   "cell_type": "markdown",
   "id": "ed5e0e38-df71-4e58-91d9-a9fc7d7247a6",
   "metadata": {},
   "source": [
    "Debido a que muchas variables son numéricas cuando en realidad representan etiquetas, reemplazamos los valores para que el análisis en general sea entendible"
   ]
  },
  {
   "cell_type": "code",
   "execution_count": null,
   "id": "4d352bc7-e76a-4837-9158-68d9ee703da9",
   "metadata": {},
   "outputs": [],
   "source": [
    "# Reemplazamos la edad\n",
    "age_mapping = {\n",
    "          -0.95197: '18-24',\n",
    "          -0.07854: '25-34',\n",
    "          0.49788: '35-44',\n",
    "          1.09449: '45-54',\n",
    "          1.82213: '55-64',\n",
    "          2.59171: '65+'\n",
    "          }\n",
    "data['age'] = data['age'].replace(age_mapping)\n",
    "\n",
    "# Reemplazamos el género\n",
    "gender_mapping = {\n",
    "            0.48246: 'Female',\n",
    "            -0.48246: 'Male'\n",
    "            }\n",
    "data['gender'] = data['gender'].replace(gender_mapping)\n",
    "\n",
    "# Reemplazamos la educación\n",
    "education_mapping = {\n",
    "            -2.43591: 'Left School Before 16 years',\n",
    "            -1.73790: 'Left School at 16 years',\n",
    "            -1.43719: 'Left School at 17 years',\n",
    "            -1.22751: 'Left School at 18 years',\n",
    "            -0.61113: 'Some College, No Certificate Or Degree',\n",
    "            -0.05921: 'Professional Certificate/ Diploma',\n",
    "            0.45468: 'University Degree',\n",
    "            1.16365: 'Masters Degree',\n",
    "            1.98437: 'Doctorate Degree',\n",
    "            }\n",
    "data['education'] = data['education'].replace(education_mapping)\n",
    "\n",
    "# Reemplazamos el país\n",
    "country_mapping = {\n",
    "            -0.09765: 'Australia',\n",
    "            0.24923: 'Canada',\n",
    "            -0.46841: 'New Zealand',\n",
    "            -0.28519: 'Other',\n",
    "            0.21128: 'Ireland',\n",
    "            0.96082: 'UK',\n",
    "            -0.57009: 'USA'\n",
    "            }\n",
    "data['country'] = data['country'].replace(country_mapping)\n",
    "\n",
    "# Reemplazamos la etnia\n",
    "ethnicity_mapping = {\n",
    "            -0.50212: 'Asian',\n",
    "            -1.10702: 'Black',\n",
    "            1.90725: 'Black/Asian',\n",
    "            0.12600: 'White/Asian',\n",
    "            -0.22166: 'White/Black',\n",
    "            0.11440: 'Other',\n",
    "            -0.31685: 'White'\n",
    "            }\n",
    "data['ethnicity'] = data['ethnicity'].replace(ethnicity_mapping)\n",
    "\n",
    "# Reemplazamos la variable de salida Coke\n",
    "usage_mapping = {\n",
    "    'CL0': 'Never',\n",
    "    'CL1': 'A Decade Ago',\n",
    "    'CL2': 'Last Decade',\n",
    "    'CL3': 'Last Year',\n",
    "    'CL4': 'Last Month',\n",
    "    'CL5': 'Last Week',\n",
    "    'CL6': 'Last Day',\n",
    "    }\n",
    "data['coke'] = data['coke'].replace(usage_mapping)"
   ]
  },
  {
   "cell_type": "markdown",
   "id": "d4218670",
   "metadata": {},
   "source": [
    "## Descripción general de los datos"
   ]
  },
  {
   "cell_type": "code",
   "execution_count": null,
   "id": "73b84ee2",
   "metadata": {},
   "outputs": [],
   "source": [
    "data.shape, data.drop_duplicates().shape"
   ]
  },
  {
   "cell_type": "markdown",
   "id": "cd7fca03",
   "metadata": {},
   "source": [
    "### Tipos de datos"
   ]
  },
  {
   "cell_type": "code",
   "execution_count": null,
   "id": "5974482f",
   "metadata": {},
   "outputs": [],
   "source": [
    "data.dtypes"
   ]
  },
  {
   "cell_type": "code",
   "execution_count": null,
   "id": "b13e06fc",
   "metadata": {},
   "outputs": [],
   "source": [
    "data.sample(3)"
   ]
  },
  {
   "cell_type": "markdown",
   "id": "8aa30b0b",
   "metadata": {},
   "source": [
    "### Identificación de valores nulos"
   ]
  },
  {
   "cell_type": "code",
   "execution_count": null,
   "id": "dac40ff4",
   "metadata": {},
   "outputs": [],
   "source": [
    "data.isnull().sum()"
   ]
  },
  {
   "cell_type": "markdown",
   "id": "5b8f16e7",
   "metadata": {},
   "source": [
    "El conjunto de datos no posee valores nulos."
   ]
  },
  {
   "cell_type": "markdown",
   "id": "632ea6d2",
   "metadata": {},
   "source": [
    "## Análisis de la variable de salida\n",
    "\n",
    "Inicialmente analizamos las variables de salida según el último consumo indicado."
   ]
  },
  {
   "cell_type": "code",
   "execution_count": null,
   "id": "acae2736",
   "metadata": {},
   "outputs": [],
   "source": [
    "data.coke.value_counts().plot.bar(title= \"Proporción de consumidores\")"
   ]
  },
  {
   "cell_type": "code",
   "execution_count": null,
   "id": "89a81cdf",
   "metadata": {},
   "outputs": [],
   "source": [
    "# Definir las categorías para separar entre consumidores y no consumidores\n",
    "Never = ['Never']\n",
    "AlmostOnce = ['A Decade Ago','Last Decade','Last Year','Last Month','Last Week','Last Day',]\n",
    "Consumo_recategorizado = data[['coke']].copy()\n",
    "# Agrupamos en consumidores y no consumidores\n",
    "Consumo_recategorizado['coke'] = Consumo_recategorizado['coke'].apply(lambda x: 'Never' if x in Never else 'At least once')\n",
    "Consumo_recategorizado.coke.value_counts().plot.bar(title= \"Proporción de consumidores\")"
   ]
  },
  {
   "cell_type": "code",
   "execution_count": null,
   "id": "14323ca2",
   "metadata": {},
   "outputs": [],
   "source": [
    "Consumo_recategorizado.coke.value_counts(normalize=True).plot.bar(title= \"Consumidores vs No consumidores\")"
   ]
  },
  {
   "cell_type": "markdown",
   "id": "12589eb7",
   "metadata": {},
   "source": [
    "Podemos ver una mayor presencia de personas que nunca consumieron la sustancia que de personas que si lo hicieron."
   ]
  },
  {
   "cell_type": "markdown",
   "id": "f1a6791a-2556-478f-8c85-584930dac986",
   "metadata": {},
   "source": [
    "## Análisis de variables de entrada"
   ]
  },
  {
   "cell_type": "markdown",
   "id": "0ec9030d-9c6d-4d0a-a231-9d937c68a433",
   "metadata": {},
   "source": [
    "### Age"
   ]
  },
  {
   "cell_type": "code",
   "execution_count": null,
   "id": "ece45eba-2bc6-447c-a4d8-8a9eb05750e6",
   "metadata": {},
   "outputs": [],
   "source": [
    "data.age.describe()"
   ]
  },
  {
   "cell_type": "markdown",
   "id": "8ba3fed1-f764-4b0d-ad48-bbedcbdbe681",
   "metadata": {},
   "source": [
    "Para comprender la distribución de las edades, podemos contar los individuos de cada rango etáreo"
   ]
  },
  {
   "cell_type": "code",
   "execution_count": null,
   "id": "be4d693b-6b7e-4125-9397-a0b9a8487d5c",
   "metadata": {},
   "outputs": [],
   "source": [
    "data.age.value_counts()"
   ]
  },
  {
   "cell_type": "code",
   "execution_count": null,
   "id": "21b53f2e-0039-4ff1-a5a2-12a9110a83e6",
   "metadata": {},
   "outputs": [],
   "source": [
    "# Filtramos el df\n",
    "df_age = data[['age','coke']]\n",
    "\n",
    "# Defino el orden en el que quiero que se visualicen las edades y el consumo\n",
    "age_order = ['18-24', '25-34', '35-44', '45-54', '55-64', '65+']\n",
    "coke_order = ['Never', 'A Decade Ago', 'Last Decade', 'Last Year', 'Last Month', 'Last Week', 'Last Day']\n",
    "colors_coke = { 'Never': 'blue', 'A Decade Ago': 'orange', 'Last Decade': 'green', 'Last Year' : 'red', 'Last Month' : 'purple', 'Last Week': 'brown', 'Last Day': 'black'}\n",
    "sns.countplot(data=df_age, x='age', hue='coke', order=age_order, hue_order=coke_order, palette = colors_coke)\n",
    "plt.xlabel('Edad')\n",
    "plt.ylabel('Casos')\n",
    "plt.title('Relación entre la edad y el consumo de cocaína')\n",
    "plt.show()"
   ]
  },
  {
   "cell_type": "markdown",
   "id": "c0ae72da-6022-4be1-b757-46408627ff52",
   "metadata": {},
   "source": [
    "Notamos que en el caso de los jóvenes, el consumo es más reciente, y a medida que la persona crece, es más probable que el consumo haya sido en el pasado lejano."
   ]
  },
  {
   "cell_type": "markdown",
   "id": "509f9ffb-6a60-4411-834a-4fb5764c71ac",
   "metadata": {},
   "source": [
    "**Posible Transformación**: Tenemos 6 valores posibles para la edad, por lo que podríamos pensar en un one-hot encoder. Sin embargo, al ser una variable ordinal, tranquilamente podríamos mapear cada rango al valor de la mediana del mismo, y luego escalar."
   ]
  },
  {
   "cell_type": "markdown",
   "id": "99a593be-2f12-4220-b167-f81fe6b0d20d",
   "metadata": {},
   "source": [
    "### Gender"
   ]
  },
  {
   "cell_type": "code",
   "execution_count": null,
   "id": "72513303-f6da-4379-821e-a47423252ffa",
   "metadata": {},
   "outputs": [],
   "source": [
    "data.gender.value_counts()"
   ]
  },
  {
   "cell_type": "markdown",
   "id": "48508faa-3975-4745-b2ea-1c3320fda05c",
   "metadata": {},
   "source": [
    "Vemos que el balance es casi perfecto"
   ]
  },
  {
   "cell_type": "code",
   "execution_count": null,
   "id": "2780af19-8ca8-495f-895a-dd72bd9f4a84",
   "metadata": {},
   "outputs": [],
   "source": [
    "# Agrupamos el dataframe por consumo y género\n",
    "consumo_x_genero = data.groupby(['coke', 'gender']).size().unstack()\n",
    "\n",
    "print(consumo_x_genero)"
   ]
  },
  {
   "cell_type": "code",
   "execution_count": null,
   "id": "3a43a7f1-8fe2-477e-b4a5-298351c73f08",
   "metadata": {},
   "outputs": [],
   "source": [
    "# Definimos el orden correcto de la variable coke\n",
    "consumo_x_genero = consumo_x_genero.loc[coke_order]\n",
    "\n",
    "colors_genders = {'Male': 'blue', 'Female': 'pink'}\n",
    "# Generamos un grafico de barras adyacentes\n",
    "consumo_x_genero.plot(kind='barh', stacked=False, color=[colors_genders[col] for col in consumo_x_genero.columns] )\n",
    "\n",
    "plt.xlabel('Casos')\n",
    "plt.ylabel('Frecuencia')\n",
    "plt.title('Consumo de Cocaína por Género')\n",
    "plt.xticks(rotation=0)\n",
    "plt.legend(title='Género')\n",
    "\n",
    "plt.tight_layout()\n",
    "plt.show()"
   ]
  },
  {
   "cell_type": "markdown",
   "id": "2f7dea2a-b040-4f5f-a5ce-3f53246ec498",
   "metadata": {},
   "source": [
    "Se evidencia un mayor consumo en hombres que en mujeres."
   ]
  },
  {
   "cell_type": "markdown",
   "id": "94ec44e8-1434-4a3c-a084-9578d91dca36",
   "metadata": {},
   "source": [
    "**Posible transformación**: En este caso, tenemos una columna con dos valores posibles. Está claro que debemos usar un one-hot encoder, que sería lo mismo que mapear los strings 'male' y 'female' a valores binarios."
   ]
  },
  {
   "cell_type": "markdown",
   "id": "f0969522-1b1b-4d05-8191-1361e41c5dae",
   "metadata": {},
   "source": [
    "### Education"
   ]
  },
  {
   "cell_type": "markdown",
   "id": "6b347ea3-f1c0-4da1-9cdb-6e8f036bd13e",
   "metadata": {},
   "source": [
    "Primero analizamos la distribución de la variable"
   ]
  },
  {
   "cell_type": "code",
   "execution_count": null,
   "id": "bab5e659-1e62-4542-bfe0-16ee15ee4fe4",
   "metadata": {},
   "outputs": [],
   "source": [
    "data.education.describe()"
   ]
  },
  {
   "cell_type": "code",
   "execution_count": null,
   "id": "6171420d-43a7-48df-8f73-14f369cd7823",
   "metadata": {},
   "outputs": [],
   "source": [
    "# Nos quedamos solo con las columnas que nos interesan\n",
    "df_education = data[['education','coke']]\n",
    "\n",
    "# Hacemos explícito el orden de educación\n",
    "education_order = [\n",
    "    'Left School Before 16 years',\n",
    "    'Left School at 16 years',\n",
    "    'Left School at 17 years',\n",
    "    'Left School at 18 years',\n",
    "    'Some College, No Certificate Or Degree',\n",
    "    'Professional Certificate/ Diploma',\n",
    "    'University Degree',\n",
    "    'Masters Degree',\n",
    "    'Doctorate Degree'\n",
    "]\n",
    "\n",
    "# Para aplicar el orden convertimos la columna education a columna Categórica\n",
    "df_education_converted = df_education.copy()\n",
    "df_education_converted['education'] = pd.Categorical(df_education_converted['education'], categories=education_order, ordered=True)\n",
    "\n",
    "df_education_converted.education.value_counts().sort_index()"
   ]
  },
  {
   "cell_type": "code",
   "execution_count": null,
   "id": "e469e844-44e8-4c63-8a73-f95edd169c0c",
   "metadata": {},
   "outputs": [],
   "source": [
    "# Contamos la cantidad de cada categoria por nivel educativo\n",
    "df_consumo_x_educacion = df_education_converted.groupby(['education', 'coke'], observed=False).size().unstack()\n",
    "\n",
    "colors = [colors_coke[col] for col in df_consumo_x_educacion.columns]\n",
    "# Generamos un grafico de barras apiladas\n",
    "df_consumo_x_educacion.plot.barh(stacked=True, color = colors)\n",
    "\n",
    "plt.xlabel('Consumo')\n",
    "plt.ylabel('Nivel Educativo')\n",
    "plt.title('Consumo de cocaína por Nivel Educativo')\n",
    "plt.show()"
   ]
  },
  {
   "cell_type": "markdown",
   "id": "59dfa9dd-b1c2-443f-918f-93a4db9945ae",
   "metadata": {},
   "source": [
    "**Posible transformación:** Sucede algo similar a lo que ocurre con la edad. Al ser una variable ordinal, podemos escalar los valores posibles para el nivel educativo, conservando una única columna, pero ahora numérica."
   ]
  },
  {
   "cell_type": "markdown",
   "id": "f8271f22-7776-453c-aed8-308f2e45fd08",
   "metadata": {},
   "source": [
    "### Country"
   ]
  },
  {
   "cell_type": "code",
   "execution_count": null,
   "id": "b54b4ee1-6118-437a-9321-02d666d7bb39",
   "metadata": {},
   "outputs": [],
   "source": [
    "# Filtramos coke y country que son las variables de interés\n",
    "df_country = data[['country','coke']]\n",
    "\n",
    "df_country.sample(10)"
   ]
  },
  {
   "cell_type": "code",
   "execution_count": null,
   "id": "15cd990f-a0b2-4219-b861-1b0a567bf652",
   "metadata": {},
   "outputs": [],
   "source": [
    "# Hacemos un gráfico para analizar la distribución de los datos\n",
    "df_country.country.value_counts().plot.barh(stacked=False)\n",
    "\n",
    "plt.ylabel('País')\n",
    "plt.title('Encuestados por país')\n",
    "plt.show()"
   ]
  },
  {
   "cell_type": "markdown",
   "id": "3d9aefdd-2050-4d60-be86-d236c52d8b13",
   "metadata": {},
   "source": [
    "La columna country está completamente desbalanceada, habiendo registros más que nada de Reino Unido y Estados Unidos"
   ]
  },
  {
   "cell_type": "markdown",
   "id": "d586bed8-9277-4360-9e80-21a69b98a86c",
   "metadata": {},
   "source": [
    "Para analizar la proporción de consumo dentro de cada país, podemos hacer gráficos de torta"
   ]
  },
  {
   "cell_type": "code",
   "execution_count": null,
   "id": "ea713a9a-9041-4091-95c8-c481619ae2c4",
   "metadata": {},
   "outputs": [],
   "source": [
    "consumo_x_pais = df_country.groupby(['coke','country']).size().unstack()\n",
    "print(consumo_x_pais)"
   ]
  },
  {
   "cell_type": "code",
   "execution_count": null,
   "id": "f2a772b3-c47d-477d-a63d-8970f58c323e",
   "metadata": {},
   "outputs": [],
   "source": [
    "consumo_x_pais.plot.pie(subplots=True, figsize=(10, 15), autopct=None, startangle=90, layout=(4, 2))\n",
    "\n",
    "plt.tight_layout()\n",
    "plt.show()"
   ]
  },
  {
   "cell_type": "markdown",
   "id": "3e1a6807-6b71-40ef-bb43-8c45955814f3",
   "metadata": {},
   "source": [
    "Se evidencia un consumo mayor en Estados Unidos con respecto a los demás países"
   ]
  },
  {
   "cell_type": "markdown",
   "id": "5b64ae15-1c15-4052-8507-bde2539edf0c",
   "metadata": {},
   "source": [
    "**Posible transformación:** no hay relación de orden entre los países, es una variable nominal. En este caso, aplicamos un one-hot encoder, teniendo una columna binaria para cada país."
   ]
  },
  {
   "cell_type": "markdown",
   "id": "c033d486-7c97-48b1-91bc-0b572c12afcc",
   "metadata": {},
   "source": [
    "### Ethnicity"
   ]
  },
  {
   "cell_type": "code",
   "execution_count": null,
   "id": "28e8b804-63e1-4ce1-af9b-38422694ee3c",
   "metadata": {},
   "outputs": [],
   "source": [
    "# Agrupamos para conocer el consumo puntual por cada etnia\n",
    "consumo_x_etnia = data.groupby(['coke', 'ethnicity']).size().unstack()\n",
    "\n",
    "# Mostramos el df\n",
    "print(consumo_x_etnia)"
   ]
  },
  {
   "cell_type": "code",
   "execution_count": null,
   "id": "0d25a939-7aeb-4a96-afac-06c18cdfb3b0",
   "metadata": {},
   "outputs": [],
   "source": [
    "consumo_x_etnia.transpose().plot.barh(stacked=True, color = colors);"
   ]
  },
  {
   "cell_type": "markdown",
   "id": "9bf6c1fa-d6e0-4fae-ab18-eeecd25eba33",
   "metadata": {},
   "source": [
    "Observamos que el conjunto de datos está desbalanceado siendo 'white' la etnia predominante"
   ]
  },
  {
   "cell_type": "code",
   "execution_count": null,
   "id": "8fbcc7aa-b6d3-42c4-9aed-e6205a2558b8",
   "metadata": {},
   "outputs": [],
   "source": [
    "# Generamos un gráfico de tortas igual al que hicimos con los países, para ver la proporción de consumo dentro de cada etnia\n",
    "consumo_x_etnia.plot.pie(subplots=True, figsize=(10, 15), autopct=None, startangle=90, layout=(4, 2))\n",
    "\n",
    "plt.tight_layout()\n",
    "plt.show()"
   ]
  },
  {
   "cell_type": "markdown",
   "id": "f19f7b21-33ee-4656-a2fe-8dfb9a6bfddb",
   "metadata": {},
   "source": [
    "**Posible transformación**: de la misma forma que con la variable 'country', podemos aplicar un one-hot encoder"
   ]
  },
  {
   "cell_type": "markdown",
   "id": "c9f0312a-b7db-4298-9550-37589b4ab37d",
   "metadata": {},
   "source": [
    "### Nscore"
   ]
  },
  {
   "cell_type": "code",
   "execution_count": null,
   "id": "dc608c34-a739-4108-8bc4-f1b39093d098",
   "metadata": {},
   "outputs": [],
   "source": [
    "data.n_score.describe()"
   ]
  },
  {
   "cell_type": "code",
   "execution_count": null,
   "id": "eb505ddb-f6f0-4ffa-af2e-f2c082165f8c",
   "metadata": {},
   "outputs": [],
   "source": [
    "# Vemos los valores que toma n_score para el dataset\n",
    "valores_unicos = data.n_score.unique()\n",
    "\n",
    "print(valores_unicos)"
   ]
  },
  {
   "cell_type": "code",
   "execution_count": null,
   "id": "cb819bef-00a0-4d40-a002-b6c68871930e",
   "metadata": {},
   "outputs": [],
   "source": [
    "cantidad_valores_unicos = valores_unicos.size\n",
    "data.n_score.plot.hist(bins=cantidad_valores_unicos)"
   ]
  },
  {
   "cell_type": "code",
   "execution_count": null,
   "id": "e3234bf2-a480-4a4d-9e57-ef1b83b2a978",
   "metadata": {},
   "outputs": [],
   "source": [
    "consumo_x_nscore = data[['coke','n_score']]\n",
    "print(consumo_x_nscore)"
   ]
  },
  {
   "cell_type": "code",
   "execution_count": null,
   "id": "1076ac32-4f4c-48c5-acf1-7a8020e94c51",
   "metadata": {},
   "outputs": [],
   "source": [
    "# Ordenamos la frecuencia de consumo en el gráfico\n",
    "sns.boxplot(x='coke', y='n_score', data=consumo_x_nscore, order=coke_order)\n",
    "\n",
    "plt.xlabel('Consumo')\n",
    "plt.ylabel('N Score')\n",
    "plt.title('Consumo por Neuroticismo')\n",
    "\n",
    "plt.xticks(rotation=45)\n",
    "\n",
    "plt.tight_layout()\n",
    "plt.show()"
   ]
  },
  {
   "cell_type": "markdown",
   "id": "21b45a87-2d93-4f22-a86e-cff6e7b573ba",
   "metadata": {},
   "source": [
    "Observamos que se forma una ligera tendencia: mayor neuroticismo, más reciente fue el consumo"
   ]
  },
  {
   "cell_type": "markdown",
   "id": "c62c7afa-beb7-4360-985f-59bf8d330a9b",
   "metadata": {},
   "source": [
    "### Escore"
   ]
  },
  {
   "cell_type": "code",
   "execution_count": null,
   "id": "ac4709f1-c193-4ac0-8960-0ad3edc3fcbe",
   "metadata": {},
   "outputs": [],
   "source": [
    "# Vemos los valores que toma e_score para el dataset\n",
    "valores_unicos = data.e_score.unique()\n",
    "\n",
    "print(valores_unicos)"
   ]
  },
  {
   "cell_type": "code",
   "execution_count": null,
   "id": "61b968fc-f117-4903-8996-a893f8ba090a",
   "metadata": {},
   "outputs": [],
   "source": [
    "cantidad_valores_unicos = valores_unicos.size\n",
    "data.e_score.plot.hist(bins=cantidad_valores_unicos)"
   ]
  },
  {
   "cell_type": "code",
   "execution_count": null,
   "id": "f3c632a1-d42f-49dc-9d67-c08ea7d83554",
   "metadata": {},
   "outputs": [],
   "source": [
    "consumo_x_escore = data[['coke','e_score']]\n",
    "\n",
    "# Ordenamos la frecuencia de consumo en el gráfico\n",
    "sns.boxplot(x='coke', y='e_score', data=consumo_x_escore, order=coke_order)\n",
    "\n",
    "plt.xlabel('Consumo')\n",
    "plt.ylabel('E Score')\n",
    "plt.title('Consumo por Extroversión')\n",
    "\n",
    "plt.xticks(rotation=45)\n",
    "\n",
    "plt.tight_layout()\n",
    "plt.show()"
   ]
  },
  {
   "cell_type": "markdown",
   "id": "390d06b2-6214-444b-a1ff-8b60a360f0fe",
   "metadata": {},
   "source": [
    "No encontramos una relación explícita"
   ]
  },
  {
   "cell_type": "markdown",
   "id": "ca768da5-f5a1-4c68-b4d9-1175ff8d272f",
   "metadata": {},
   "source": [
    "### Oscore"
   ]
  },
  {
   "cell_type": "code",
   "execution_count": null,
   "id": "61193dbd-36cf-4310-b113-b7c32fa83f51",
   "metadata": {},
   "outputs": [],
   "source": [
    "# Vemos los valores que toma o_score para el dataset\n",
    "valores_unicos = data.o_score.unique()\n",
    "\n",
    "print(valores_unicos)"
   ]
  },
  {
   "cell_type": "code",
   "execution_count": null,
   "id": "a0369722-3d8e-4bb9-8685-527807c4d99b",
   "metadata": {},
   "outputs": [],
   "source": [
    "cantidad_valores_unicos = valores_unicos.size\n",
    "data.o_score.plot.hist(bins=cantidad_valores_unicos)"
   ]
  },
  {
   "cell_type": "code",
   "execution_count": null,
   "id": "f95c32f0-6fb4-4aa6-b53b-966a3e0c0851",
   "metadata": {},
   "outputs": [],
   "source": [
    "consumo_x_oscore = data[['coke','o_score']]\n",
    "\n",
    "# Ordenamos la frecuencia de consumo en el gráfico\n",
    "sns.boxplot(x='coke', y='o_score', data=consumo_x_oscore, order=coke_order)\n",
    "\n",
    "plt.xlabel('Consumo')\n",
    "plt.ylabel('O Score')\n",
    "plt.title('Consumo por Apertura a Nuevas Experiencias')\n",
    "\n",
    "plt.xticks(rotation=45)\n",
    "\n",
    "plt.tight_layout()\n",
    "plt.show()"
   ]
  },
  {
   "cell_type": "markdown",
   "id": "6dd1c6ea-1c05-4783-aab7-98f38824a63a",
   "metadata": {},
   "source": [
    "### Ascore"
   ]
  },
  {
   "cell_type": "code",
   "execution_count": null,
   "id": "f6eec814-2c17-4a4e-93a9-e3e934421b18",
   "metadata": {},
   "outputs": [],
   "source": [
    "# Vemos los valores que toma a_score para el dataset\n",
    "valores_unicos = data.a_score.unique()\n",
    "\n",
    "print(valores_unicos)"
   ]
  },
  {
   "cell_type": "code",
   "execution_count": null,
   "id": "b139f0de-7b2c-4714-b42e-47234f9b54f1",
   "metadata": {},
   "outputs": [],
   "source": [
    "cantidad_valores_unicos = valores_unicos.size\n",
    "data.a_score.plot.hist(bins=cantidad_valores_unicos)"
   ]
  },
  {
   "cell_type": "code",
   "execution_count": null,
   "id": "56627f6e-03ad-4c92-99c7-002b082d3d84",
   "metadata": {},
   "outputs": [],
   "source": [
    "consumo_x_ascore = data[['coke','a_score']]\n",
    "\n",
    "# Ordenamos la frecuencia de consumo en el gráfico\n",
    "sns.boxplot(x='coke', y='a_score', data=consumo_x_ascore, order=coke_order)\n",
    "\n",
    "plt.xlabel('Consumo')\n",
    "plt.ylabel('A Score')\n",
    "plt.title('Consumo por Nivel de Empatía')\n",
    "\n",
    "plt.xticks(rotation=45)\n",
    "\n",
    "plt.tight_layout()\n",
    "plt.show()"
   ]
  },
  {
   "cell_type": "markdown",
   "id": "826f2a18-8bdb-4b68-9b39-156247ea9880",
   "metadata": {},
   "source": [
    "Podemos ver una ligera disminución en el A-score a medida que el consumo es más reciente."
   ]
  },
  {
   "cell_type": "markdown",
   "id": "69efe92e-af1a-475a-9da1-3e0014c0918e",
   "metadata": {},
   "source": [
    "### Cscore"
   ]
  },
  {
   "cell_type": "code",
   "execution_count": null,
   "id": "85e98dbd-f6f9-48af-9ab3-908517b65f29",
   "metadata": {},
   "outputs": [],
   "source": [
    "variable = 'c_score'\n",
    "\n",
    "# Vemos los valores que toma c_score para el dataset\n",
    "valores_unicos = data[variable].unique()\n",
    "\n",
    "print(valores_unicos)"
   ]
  },
  {
   "cell_type": "code",
   "execution_count": null,
   "id": "4c2f5120-5e45-44a4-bdee-2ad23dcb2180",
   "metadata": {},
   "outputs": [],
   "source": [
    "cantidad_valores_unicos = valores_unicos.size\n",
    "data[variable].plot.hist(bins=cantidad_valores_unicos)"
   ]
  },
  {
   "cell_type": "code",
   "execution_count": null,
   "id": "bb6a30b6-58ba-4c2d-aba2-0c242235c870",
   "metadata": {},
   "outputs": [],
   "source": [
    "consumo_x_variable = data[['coke',variable]]\n",
    "\n",
    "# Ordenamos la frecuencia de consumo en el gráfico\n",
    "sns.boxplot(x='coke', y=variable, data=consumo_x_variable, order=coke_order)\n",
    "\n",
    "plt.xlabel('Consumo')\n",
    "plt.ylabel('C Score')\n",
    "plt.title('Consumo por Autocontrol')\n",
    "\n",
    "plt.xticks(rotation=45)\n",
    "\n",
    "plt.tight_layout()\n",
    "plt.show()"
   ]
  },
  {
   "cell_type": "markdown",
   "id": "90b7e03d-3bc9-462c-8762-83f5a227b5ed",
   "metadata": {},
   "source": [
    "Quizás las personas que consumieron cocaína el día anterior presentan efectos residuales y creen tener un buen autocontrol."
   ]
  },
  {
   "cell_type": "markdown",
   "id": "626b4b72-29e9-4825-b5d4-8b143580cbce",
   "metadata": {},
   "source": [
    "### Impulsive"
   ]
  },
  {
   "cell_type": "code",
   "execution_count": null,
   "id": "df69b190-b86e-45cd-8e9d-d856b8d174d9",
   "metadata": {},
   "outputs": [],
   "source": [
    "variable = 'impulsive'\n",
    "\n",
    "# Vemos los valores que toma impulsive para el dataset\n",
    "valores_unicos = data[variable].unique()\n",
    "\n",
    "print(valores_unicos)"
   ]
  },
  {
   "cell_type": "code",
   "execution_count": null,
   "id": "30fbd839-d989-428b-b5e5-2724f9b182cc",
   "metadata": {},
   "outputs": [],
   "source": [
    "cantidad_valores_unicos = valores_unicos.size\n",
    "data[variable].plot.hist(bins=cantidad_valores_unicos)"
   ]
  },
  {
   "cell_type": "code",
   "execution_count": null,
   "id": "651dc9e6-eb91-4cb5-95d4-58143b8dbdd7",
   "metadata": {},
   "outputs": [],
   "source": [
    "consumo_x_variable = data[['coke',variable]]\n",
    "\n",
    "# Ordenamos la frecuencia de consumo en el gráfico\n",
    "sns.boxplot(x='coke', y=variable, data=consumo_x_variable, order=coke_order)\n",
    "\n",
    "plt.xlabel('Consumo')\n",
    "plt.ylabel('Nivel de Impulsividad')\n",
    "plt.title('Consumo por Impulsividad')\n",
    "\n",
    "plt.xticks(rotation=45)\n",
    "\n",
    "plt.tight_layout()\n",
    "plt.show()"
   ]
  },
  {
   "cell_type": "markdown",
   "id": "bd0123f2-2a38-4ed8-8a56-97ea5696af66",
   "metadata": {},
   "source": [
    "Podemos apreciar mayores valores de impulsividad a medida que el consumo es más reciente. Esto puede deberse a que el consumo de cocaína altera la producción de dopamina en el cerebro y produce una disminución del autocontrol, generando comportamientos más impulsivos en el individuo."
   ]
  },
  {
   "cell_type": "markdown",
   "id": "ea72863b-eb7b-41fb-b5ee-9ee748876191",
   "metadata": {},
   "source": [
    "### Sensation"
   ]
  },
  {
   "cell_type": "code",
   "execution_count": null,
   "id": "5a7bdfc6-abda-463a-9b29-93c4524bcc76",
   "metadata": {},
   "outputs": [],
   "source": [
    "variable = 'sensibility'\n",
    "\n",
    "# Vemos los valores que toma sensation para el dataset\n",
    "valores_unicos = data[variable].unique()\n",
    "\n",
    "print(valores_unicos)"
   ]
  },
  {
   "cell_type": "code",
   "execution_count": null,
   "id": "39a4a018-ee41-415f-a8bc-0e6d8b6ea528",
   "metadata": {},
   "outputs": [],
   "source": [
    "cantidad_valores_unicos = valores_unicos.size\n",
    "data[variable].plot.hist(bins=cantidad_valores_unicos)"
   ]
  },
  {
   "cell_type": "code",
   "execution_count": null,
   "id": "78d33d43-6f95-4429-bcb3-832cb6444bf1",
   "metadata": {},
   "outputs": [],
   "source": [
    "consumo_x_variable = data[['coke',variable]]\n",
    "\n",
    "# Ordenamos la frecuencia de consumo en el gráfico\n",
    "sns.boxplot(x='coke', y=variable, data=consumo_x_variable, order=coke_order)\n",
    "\n",
    "plt.xlabel('Consumo')\n",
    "plt.ylabel('Nivel de Sensibilidad')\n",
    "plt.title('Consumo por Sensibilidad')\n",
    "\n",
    "plt.xticks(rotation=45)\n",
    "\n",
    "plt.tight_layout()\n",
    "plt.show()"
   ]
  },
  {
   "cell_type": "markdown",
   "id": "e504cbc7-5f18-4211-8cd3-0f3a270fca9b",
   "metadata": {},
   "source": [
    "### Posible transformación para variables psicológicas\n",
    "Las 7 variables psicológicas son numéricas, y respetan una distribución con media en cero. Todas tienen un desvío que las hace tener valores mínimos en -3 y máximos en 3, excepto para 'sensation', que el valor pasa a ser 2.\n",
    "No parece necesario hacer ningún tipo de pre-procesado sobre estas columnas."
   ]
  },
  {
   "cell_type": "markdown",
   "id": "60953f28-51ec-4c84-85d0-4a0012a34f4b",
   "metadata": {},
   "source": [
    "## Correlación"
   ]
  },
  {
   "cell_type": "code",
   "execution_count": null,
   "id": "07d7db64-f9c5-4061-bf95-6ec1437b0d5c",
   "metadata": {},
   "outputs": [],
   "source": [
    "column_to_encode = 'coke'\n",
    "#columnas = data.iloc[:, 5:12]\n",
    "data_encoded = pd.get_dummies(data[1:12], columns=[column_to_encode])\n",
    "def calculate_average_age(age_range):\n",
    "    if age_range == '65+':\n",
    "        return 65 \n",
    "    else:\n",
    "        min_age, max_age = map(int, age_range.split('-'))\n",
    "        return (min_age + max_age) / 2\n",
    "\n",
    "data_encoded['Age_prom'] = data_encoded['age'].apply(calculate_average_age)\n",
    "#print(data_encoded)\n",
    "columns_to_use = [col for col in data_encoded.columns if col != 'age' and col != 'gender' and col != 'ethnicity' and col != 'country' and col != 'education']\n",
    "#print(columns_to_use)\n",
    "correlacion = data_encoded[columns_to_use].corr()\n",
    "#print(correlacion)\n",
    "sns.heatmap(correlacion, annot=True, cmap='coolwarm', fmt='.2f')\n",
    "plt.show()\n"
   ]
  },
  {
   "cell_type": "markdown",
   "id": "566c6883-fe5c-44aa-8f45-3eb156de0d16",
   "metadata": {},
   "source": [
    "# Análisis del diagrama de correlación\n",
    "Podemos afirmar que no hay datos redundantes (columnas repetidas)\n",
    "\n",
    "## Observaciones generales:\n",
    "\n",
    "• **Impulsividad y Sensibilidad**: La fuerte correlación positiva entre estas dos variables indica que las personas impulsivas tienden a ser más sensibles. Esto sugiere una relación entre la búsqueda de sensaciones intensas y la dificultad para controlar los impulsos.\n",
    "\n",
    "• **Neuroticismo y Apertura**: La correlación negativa entre neuroticismo y apertura sugiere que las personas más neuróticas suelen ser menos abiertas a nuevas experiencias. Esto podría indicar una mayor vulnerabilidad a la ansiedad y al estrés, y una menor disposición a explorar nuevas opciones. A su vez una mayor apertura a nuevas experiencias, combinado con un individuo que no presenta dificultades antes situaciones estresantes o de dificultad, podría derivar en un individuo que no percibe las drogas como algo necesariamente dañino\n",
    "\n",
    "• **Apertura y Sensibilidad**: Aunque menos pronunciada, la correlación positiva entre o_score y sensibility sugiere que las personas más abiertas a nuevas experiencias también pueden ser más sensibles. La combinación de estas dos variables podría llevar a los individuos a la búsqueda de sensaciones intensas mediante el consumo de sustancias\n",
    "\n",
    "•  **Neuroticismo y Extroversión**: Existe una correlación negativa entre estos dos rasgos. Esto significa que las personas con altos niveles de neuroticismo tienden a ser menos extrovertidas\n",
    "\n",
    "• **Consciencia e Impulsividad**: La correlación negativa entre estos dos rasgos es lógica. Las personas más conscientes suelen ser más controladas y menos impulsivas.\n",
    "\n",
    "## Con respecto al consumo:\n",
    "\n",
    "• **Neuroticismo**: Existe una relación negativa débil con el consumo de cocaína en el último año. Esto podría sugerir un aumento de la ansiedad y el miedo a confrontar ciertas situaciones por la abstinencia. También podría significar que los individuos comenzaron a presentar estos síntomas a partir del consumo de la sustancia, la cual decidieron abandonar por ello.\n",
    "\n",
    "• **Extraversión**: Muestra una relación positiva con el consumo de cocaína en el último año. Este podría ser un indicio de que los individuos que presentan una mayor interacción social pueden tender al consumo en ciertos contextos.\n",
    "\n",
    "• **Apertura**: Existe una relación positiva fuerte con el consumo de cocaína en el último año. Las personas más abiertas a nuevas experiencias podrían ser más propensas a probar sustancias.\n",
    "\n",
    "• **Amabilidad**: Muestra una relación negativa fuerte con el consumo de cocaína en general. Las personas más amables y cooperativas podrían ser menos propensas a consumir cocaína.\n",
    "\n",
    "## Explorando las posibles causas:\n",
    "\n",
    "• Búsqueda de sensaciones: La combinación de impulsividad y sensibilidad podría ser un indicador de una búsqueda constante de sensaciones intensas, que la cocaína puede proporcionar de forma rápida y potente.\n",
    "\n",
    "• **Automedicación**: El alto neuroticismo podría llevar a las personas a utilizar la cocaína como un mecanismo de afrontamiento para aliviar síntomas como la ansiedad y la depresión.\n",
    "\n",
    "• **Alta prestación a nuevas experiencias**:  La alta apertura a nuevas experiencias podría llevar a las personas a la busqueda de estímulos externos en las drogas para poder experimentar sensaciones nuevas.\n",
    "\n",
    "\n",
    "\n",
    "## Posibles preguntas para el proveedor del DataSet\n",
    "\n",
    "• ¿Por qué se optó por utilizar los 5 grandes rasgos de la personalidad?\n",
    "\n",
    "• ¿Se optó en algún momento por incluír variables que representen el estatus o clase social del individuo? \n",
    "\n",
    "• ¿Cómo fue seleccionado el grupo de personas participante de este conjunto de datos?\n",
    "\n",
    "• ¿Se excluyeron datos en el dataset final? Si la respuesta es sí, ¿por qué?\n",
    "\n",
    "• ¿Bajo qué criterios fueron seleccionadas las sustancias presentes en el dataset?\n"
   ]
  },
  {
   "cell_type": "markdown",
   "id": "3c8aed78-a2a5-48d8-be15-386424c8ebf9",
   "metadata": {},
   "source": [
    "# Hipótesis sobre los datos"
   ]
  },
  {
   "cell_type": "markdown",
   "id": "b748d78c-aa31-484f-98cc-0192c5823068",
   "metadata": {},
   "source": [
    "## ¿Mientras mayor es la edad de la persona, más grande es la posibilidad de que haya consumido cocaína?\n",
    "\n",
    "Es algo que parece lógico a simple vista, dado que una persona con más años de vida tiene a su vez más tiempo para haber experimentado con drogas.\n",
    "\n",
    "La realidad es que el dataset está bastante desbalanceado respecto a la edad, y hay pocas muestras de adultos mayores en comparación con los jóvenes"
   ]
  },
  {
   "cell_type": "code",
   "execution_count": null,
   "id": "6e99ef0b-8f6a-4605-b8ab-5eeadb3a85aa",
   "metadata": {},
   "outputs": [],
   "source": [
    "cantidad_por_edad = df_age.copy()\n",
    "\n",
    "# Usamos el mismo dataset que cuando hicimos el análisis de variables de entrada\n",
    "cantidad_por_edad.age.value_counts().plot.bar(stacked=False)\n",
    "\n",
    "plt.xlabel('Edad')\n",
    "plt.title('Cantidad de encuestados por edad')\n",
    "plt.show()"
   ]
  },
  {
   "cell_type": "markdown",
   "id": "3bab0e4d-2c0c-4deb-8d92-7a88dfc38064",
   "metadata": {},
   "source": [
    "Sin embargo, lo que sí podemos hacer es agrupar coke en dos valores (nunca consumió y alguna vez consumió), y visualizarlo con esas dos salidas. Lo más ilustrativo es usar gráficos de torta."
   ]
  },
  {
   "cell_type": "code",
   "execution_count": null,
   "id": "90d4b7ee-4ffb-4c02-8e64-6358fef09ff5",
   "metadata": {},
   "outputs": [],
   "source": [
    "# Primero mapeamos los valores de coke, donde 'Never' queda de la misma manera\n",
    "at_least_once = 'At Least Once'\n",
    "consumo_binario_mapping = {\n",
    "    'A Decade Ago': at_least_once,\n",
    "    'Last Decade': at_least_once,\n",
    "    'Last Year': at_least_once,\n",
    "    'Last Month': at_least_once,\n",
    "    'Last Week': at_least_once,\n",
    "    'Last Day': at_least_once,\n",
    "    }\n",
    "\n",
    "consumo_por_edad = df_age.copy()\n",
    "consumo_por_edad['coke'] = consumo_por_edad['coke'].replace(consumo_binario_mapping)\n",
    "\n",
    "consumo_por_edad"
   ]
  },
  {
   "cell_type": "code",
   "execution_count": null,
   "id": "c592b9a0-3b5d-4a77-bd23-7b304e650491",
   "metadata": {},
   "outputs": [],
   "source": [
    "# Para poder ver cada edad como un gráfico distinto, tenemos que agrupar por dos columnas, y no por una única\n",
    "consumo_por_edad = consumo_por_edad.groupby(['coke','age'], observed=False).size().unstack()\n",
    "\n",
    "# Generamos un gráfico de tortas\n",
    "consumo_por_edad.plot.pie(subplots=True, figsize=(10, 15), autopct=None, startangle=90, layout=(4, 2))\n",
    "\n",
    "plt.tight_layout()\n",
    "plt.show()"
   ]
  },
  {
   "cell_type": "markdown",
   "id": "8c2200a8-fdd7-4d09-8bfb-b9ffe83e6847",
   "metadata": {},
   "source": [
    "Para nuestra sorpresa, ocurre lo contrario: Observamos que el mayor consumo esta en 25-34 años y a partir de el es menor en cada rango etario. Podríamos asociar este aumento del consumo en generaciones más recientes a la creciente popularización de las sustancias. También podría estar relacionado con el enfoque conservador que suelen tener las pesonas mayores con respecto a las sustancia, el cual no está tan marcado en las generaciones más nuevas."
   ]
  },
  {
   "cell_type": "markdown",
   "id": "5a731d86-8893-4114-b034-2858d8ccaa8c",
   "metadata": {},
   "source": [
    "## ¿Un mayor nivel educativo implica un alejamiento del consumo de sustancias?"
   ]
  },
  {
   "cell_type": "markdown",
   "id": "55e752fe-9989-42ee-913d-b94285581565",
   "metadata": {},
   "source": [
    "Podríamos llegar a pensar que mientras menor sea el nivel educativo alcanzado por una persona, mayores son sus probabilidades de haber consumido cocaína\n",
    "\n",
    "Para el análisis usaremos el mismo proceso que con la edad, porque los datos también están algo desbalanceados."
   ]
  },
  {
   "cell_type": "code",
   "execution_count": null,
   "id": "73d65b68-d7b2-447c-ae2b-b1566992a08c",
   "metadata": {},
   "outputs": [],
   "source": [
    "# Aprovechamos el dataset que creamos anteriormente\n",
    "df_education_converted.education.value_counts().sort_index().plot.barh(stacked=False)\n",
    "\n",
    "plt.ylabel('Nivel Educativo')\n",
    "plt.title('Cantidad de encuestados por nivel educativo')\n",
    "plt.show()"
   ]
  },
  {
   "cell_type": "code",
   "execution_count": null,
   "id": "41bd27c4-3715-46e5-90a7-024fb4c329b3",
   "metadata": {},
   "outputs": [],
   "source": [
    "# Usamos el mismo mapping que con la hipótesis de la edad\n",
    "consumo_por_educacion = df_education_converted.copy()\n",
    "consumo_por_educacion['coke'] = consumo_por_educacion['coke'].replace(consumo_binario_mapping)\n",
    "\n",
    "# Para poder ver cada edad como un gráfico distinto, tenemos que agrupar por dos columnas, y no por una única\n",
    "consumo_por_educacion = consumo_por_educacion.groupby(['coke','education'], observed=False).size().unstack()\n",
    "\n",
    "# Generamos un gráfico de tortas\n",
    "consumo_por_educacion.plot.pie(subplots=True, figsize=(10, 15), autopct=None, startangle=90, layout=(5, 2))\n",
    "\n",
    "plt.tight_layout()\n",
    "plt.show()"
   ]
  },
  {
   "cell_type": "markdown",
   "id": "3435264f-d329-4bc8-99f8-6f37d290c703",
   "metadata": {},
   "source": [
    "Esto es lo que escribimos antes de ejecutar la celda de los gráficos. Planteamos la hipótesis para refutarla, y nos refutó a nosotros:\n",
    "\n",
    "\"Sin embargo, no hay una relación evidente entre el consumo y la educación. Esto es así porque la cocaína no es una droga que diferencie entre clases, y su consumo se disemina entre los múltiples estratos de la sociedad\"\n",
    "\n",
    "En realidad vemos que hay una disminución del consumo a partir de los niveles universitarios."
   ]
  },
  {
   "cell_type": "markdown",
   "id": "9ec69bcf-6933-4cfe-aab5-a97448fc9ecc",
   "metadata": {},
   "source": [
    "## Hallazgos y nuevas variables\n",
    "Entre los hallazgos que encontramos en los datos, más allá de las dos hipótesis enunciadas, están los que se desprenden del análisis de las variables de entrada. Estos no tienen un impacto en el modelo más que el de asignarle más peso a ciertas variables antes que a otras.\n",
    "\n",
    "Esto es claro en las columnas psicológicas, que presentan una buena linealidad con la salida. En cuanto al resto, el género puede ser útil por la tendencia que muestra, pero otras columnas, como país y etnia, podrían tranquilamente no ser consideradas para la clasificación.\n",
    "\n",
    "En cuanto a nuevas variables, siendo sinceros, no se nos ocurre demasiado. Creemos que con las actuales es suficiente y no salta a la luz ninguna combinación de columnas ingeniosa."
   ]
  },
  {
   "cell_type": "markdown",
   "id": "41e248ed-3038-4199-99cd-1d220c747a31",
   "metadata": {},
   "source": [
    "# Modelado"
   ]
  },
  {
   "cell_type": "markdown",
   "id": "89f24a1e-18d1-4d44-8f73-e5070736e087",
   "metadata": {},
   "source": [
    "### Dependencias"
   ]
  },
  {
   "cell_type": "code",
   "execution_count": null,
   "id": "7d9ebd9a-dc70-4ab0-846d-d53ad7883cf6",
   "metadata": {},
   "outputs": [],
   "source": [
    "from sklearn_pandas import DataFrameMapper\n",
    "from sklearn.linear_model import LogisticRegression\n",
    "from sklearn.pipeline import Pipeline\n",
    "from sklearn import metrics\n",
    "from sklearn.model_selection import GridSearchCV\n",
    "\n",
    "from sklearn.preprocessing import StandardScaler, OneHotEncoder"
   ]
  },
  {
   "cell_type": "markdown",
   "id": "78a31ea7-901d-4d42-b8ff-9b04d92232c5",
   "metadata": {},
   "source": [
    "## Métricas elegidas: Precision, Recall y F-Score\n",
    "Al ser un problema de clasificación, estamos acotados en las métricas que podemos utilizar.\n",
    "\n",
    "Precision podría ser una opción si no queremos arriesgarnos a acusar a alguien de consumir cocaína cuando no es así, siendo que un falso positivo podría dañar la reputación de la persona y generar desconfianza en el modelo.\n",
    "\n",
    "Por otro lado, Recall sería útil si usaramos el modelo para ámbitos donde es muy importante que la persona no consuma ningún tipo de drogas, como trabajos en los que los individuos se someten a largos períodos de aislamiento, o trabajos en los que pueden peligrar vidas.\n",
    "\n",
    "Consideramos que una mezcla de ambas es lo adecuado, pero priorizando Precision. Para combinar ambas, lo más sensato es agregar F-Score\n"
   ]
  },
  {
   "cell_type": "markdown",
   "id": "1863b649-1c13-4939-a6ec-c1764312bed1",
   "metadata": {},
   "source": [
    "Para comprender la elección del average en la función de metricas\n",
    "\n",
    "https://scikit-learn.org/stable/modules/generated/sklearn.metrics.precision_score.html#sklearn.metrics.precision_score"
   ]
  },
  {
   "cell_type": "code",
   "execution_count": null,
   "id": "26c5b82f-66c3-4242-b644-d0385ffb8135",
   "metadata": {},
   "outputs": [],
   "source": [
    "# Nos aprovechamos de la función definida en la intro de sklearn para ir testeando los modelos\n",
    "# Le agregamos un parametro multiclase para que cambie el average usado para obtener las metricas\n",
    "def evaluate_model(model, set_names=('train', 'validation'), title='', show_cm=False, multiclase=False):\n",
    "    if title:\n",
    "        display(title)\n",
    "\n",
    "    average = 'weighted' if multiclase else 'binary'\n",
    "    division = 'warn' if multiclase else (np.nan)\n",
    "        \n",
    "    final_metrics = {\n",
    "        'Accuracy': [],\n",
    "        'Precision': [],\n",
    "        'Recall': [],\n",
    "        'F1': [],        \n",
    "    }\n",
    "        \n",
    "    for i, set_name in enumerate(set_names):\n",
    "        #assert set_name in ['train', 'validation', 'test']\n",
    "        set_data = globals()[set_name]  # <- hack feo...\n",
    "\n",
    "        # Modificamos esta linea para que apunte a 'coke', que es la salida\n",
    "        y = set_data.coke\n",
    "        y_pred = model.predict(set_data)\n",
    "        final_metrics['Accuracy'].append(metrics.accuracy_score(y, y_pred))\n",
    "\n",
    "        # Como es multiclase, le definimos average a la funcion para que no sea 'binary\"\n",
    "        final_metrics['Precision'].append(metrics.precision_score(y, y_pred, average=average))\n",
    "        final_metrics['Recall'].append(metrics.recall_score(y, y_pred, average=average))\n",
    "        final_metrics['F1'].append(metrics.f1_score(y, y_pred, average=average))\n",
    "        \n",
    "        if show_cm:\n",
    "            cm = metrics.confusion_matrix(y, y_pred)\n",
    "            cm_plot = metrics.ConfusionMatrixDisplay(confusion_matrix=cm, \n",
    "                                                     display_labels=['no consume', 'consume'])\n",
    "            cm_plot.plot(cmap=\"Blues\")\n",
    "            cm_plot.ax_.set_title(set_name)\n",
    "        \n",
    "    display(pd.DataFrame(final_metrics, index=set_names))"
   ]
  },
  {
   "cell_type": "markdown",
   "id": "90d47efe-9504-4c42-a62d-0ca4904a9b0f",
   "metadata": {},
   "source": [
    "### Baseline\n",
    "Dentro de los datos no hay una baseline simple que involucre una única variable contra la cual comparar el modelo. Sí podríamos llegar a usar combinaciones de variables, pero ya pasa a una complejidad cercana a la del modelo final"
   ]
  },
  {
   "cell_type": "markdown",
   "id": "3d0d819b-d1c6-4f3f-be69-d6eecd9e980c",
   "metadata": {},
   "source": [
    "## Feature Engineering"
   ]
  },
  {
   "cell_type": "markdown",
   "id": "34e554f0-9e8c-4556-a472-a274ea01e9f1",
   "metadata": {},
   "source": [
    "### Variables a eliminar\n",
    "No es una tarea exclusiva de feature engineering, pero consideramos que es el momento para quitar del dataset a la columna 'ethnicity', por el grado de desbalance que presenta. Si bien era interesante ver si había una suerte de racismo al predecir, hace incómoda a la tarea de generar el modelo "
   ]
  },
  {
   "cell_type": "code",
   "execution_count": null,
   "id": "bb77cc46-a80f-4056-b38c-0bfaba653e74",
   "metadata": {},
   "outputs": [],
   "source": [
    "data = data.drop(['ethnicity'], axis=1)"
   ]
  },
  {
   "cell_type": "markdown",
   "id": "bb0b8982-09a4-4c36-b5ce-6845ddda52ec",
   "metadata": {},
   "source": [
    "### Combinación de variables\n",
    "Hay información escondida en los datos, que el modelo tendría que aprender por sí solo: \"El nivel educativo de la persona teniendo en cuenta el rango etáreo\".\n",
    "\n",
    "No es lo mismo una persona de 18 años con secundario completo, que una persona de 65 años con secundario completo. Quizás este último a los 18 había dejado la escuela, y luego finalizó en la nocturna, mientras que el individuo de 18 capaz en un futuro haga una carrera universitaria e incluso un doctorado."
   ]
  },
  {
   "cell_type": "markdown",
   "id": "8ab72785-cf4c-4fb2-9106-9d30fc205f9b",
   "metadata": {},
   "source": [
    "### Binning\n",
    "No parece haber variables con valores que necesiten ser redondeados.\n",
    "\n",
    "La edad por defecto ya viene en rangos.\n",
    "\n",
    "Dentro del nivel educativo, podría llegar a unificarse las etiquetas que representan dejar la escuela a los 16, 17, y 18 años, pasando a ser 'Dejar la escuela después de los 16', y 'Dejar la escuela antes de los 16'\n",
    "\n",
    "En cuanto a las columnas psicológicas, no presentan muchos valores posibles. De todos modos, para probar sería útil un redondeo, dejando 6 o 7 valores"
   ]
  },
  {
   "cell_type": "markdown",
   "id": "81d5314e-b256-4054-95c5-e2e5a3d88466",
   "metadata": {},
   "source": [
    "### Quantile transformation\n",
    "No es necesario aplicarla porque las variables psicológicas, que son las más susceptibles de sufrir esta transformación, ya tienen una distribución normal (seguramente aplicada por el proveedor del dataset)"
   ]
  },
  {
   "cell_type": "markdown",
   "id": "7a2a9aa2-5b17-493f-97ee-998d27b109a3",
   "metadata": {},
   "source": [
    "### Features a partir de datos pasados\n",
    "No hay una temporalidad en los datos, y no hay tal cosa como datos pasados, ni algún riesgo de estar prediciendo usando data futura al momento de la predicción. Entonces, no aplicamos esta técnica de feature engineering."
   ]
  },
  {
   "cell_type": "markdown",
   "id": "9dfdd866-6ce7-4269-9a04-c5a3b8b1e934",
   "metadata": {},
   "source": [
    "## Entrenamiento de modelos"
   ]
  },
  {
   "cell_type": "markdown",
   "id": "90153d4b-80cd-4f6f-b73c-0b819710e739",
   "metadata": {},
   "source": [
    "### Transformaciones previas"
   ]
  },
  {
   "cell_type": "markdown",
   "id": "554a7677-84ea-4393-91b8-fdcd0e6227dc",
   "metadata": {},
   "source": [
    "Para la transformación de 'age' primero tenemos que mapearla a los valores promedios de cada rango etareo, y luego escalamos"
   ]
  },
  {
   "cell_type": "code",
   "execution_count": null,
   "id": "53fe71dd-78b1-4ee5-a764-db35ad34afc8",
   "metadata": {},
   "outputs": [],
   "source": [
    "# Reemplazamos la edad\n",
    "age_mapping_nuevo = {\n",
    "          '18-24': 21,\n",
    "          '25-34': 29.5,\n",
    "          '35-44': 39.5,\n",
    "          '45-54': 49.5,\n",
    "          '55-64': 59.5,\n",
    "          '65+': 70\n",
    "          }\n",
    "data['age'] = data['age'].replace(age_mapping_nuevo)\n",
    "\n",
    "data.sample(3)"
   ]
  },
  {
   "cell_type": "markdown",
   "id": "d3d5216e-0a4e-4353-9015-d9bc3663a8a7",
   "metadata": {},
   "source": [
    "### Hold Out"
   ]
  },
  {
   "cell_type": "code",
   "execution_count": null,
   "id": "4e369d7f-8d38-41dc-967e-51e2ad2e750e",
   "metadata": {},
   "outputs": [],
   "source": [
    "from sklearn.model_selection import train_test_split"
   ]
  },
  {
   "cell_type": "code",
   "execution_count": null,
   "id": "a42a0ac2-d28b-4cfd-bada-c419040b55b6",
   "metadata": {},
   "outputs": [],
   "source": [
    "# Hacemos 60% train, 20% test, 20% validation\n",
    "# Primero partimos en train y no_train\n",
    "train, not_train = train_test_split(data, test_size=0.4, random_state=semilla)\n",
    "\n",
    "# Despues separamos no_train en validation y test\n",
    "validation, test = train_test_split(not_train, test_size=0.5, random_state=semilla)\n",
    "\n",
    "train.shape, validation.shape, test.shape"
   ]
  },
  {
   "cell_type": "markdown",
   "id": "d29249e8-02ae-4d44-9fad-80b01d81803c",
   "metadata": {},
   "source": [
    "## Separando el conjunto de datos en variables psicológicas y no psicológicas"
   ]
  },
  {
   "cell_type": "markdown",
   "id": "b766b133-d55e-41f1-8745-de796f55eca6",
   "metadata": {},
   "source": [
    "En la data, hay variables que son características de la persona (age, education, country, gender), mientras que el resto de columnas surgen de un exámen psicológico realizado sobre dicha persona en un momento específico.\n",
    "\n",
    "Para comenzar con los modelos consideramos separar esta data, a lo que de tener éxito con los resultados, podríamos intentar un ensemble.\n",
    "\n",
    "Spoiler: no hubo éxito."
   ]
  },
  {
   "cell_type": "markdown",
   "id": "d7497118-6a71-46a2-8a85-82e6499447ff",
   "metadata": {},
   "source": [
    "### Regresión Logística con variables psicológicas"
   ]
  },
  {
   "cell_type": "code",
   "execution_count": null,
   "id": "2adec90c-1072-4e29-b32b-f3ee607fcc8e",
   "metadata": {},
   "outputs": [],
   "source": [
    "# Como dijimos en el análisis, no creemos necesaria ninguna transformación sobre estas variables, aunque luego podemos llegar a probar\n",
    "lr_mapper = DataFrameMapper([\n",
    "    (['n_score'], None),\n",
    "    (['e_score'], None),\n",
    "    (['o_score'], None),\n",
    "    (['a_score'], None),\n",
    "    (['c_score'], None),\n",
    "    (['impulsive'], None),\n",
    "    (['sensibility'], None),\n",
    "])"
   ]
  },
  {
   "cell_type": "code",
   "execution_count": null,
   "id": "2807c45b-166a-46d8-a60e-bec0536270aa",
   "metadata": {},
   "outputs": [],
   "source": [
    "# Creamos el pipeline, entrenamos el modelo, y predecimos validation\n",
    "lr_model = Pipeline([\n",
    "    ('mapper', lr_mapper),\n",
    "    ('classifier', LogisticRegression(random_state=semilla)),\n",
    "])\n",
    "\n",
    "lr_model.fit(train, train.coke)\n",
    "\n",
    "y_pred = lr_model.predict(validation)"
   ]
  },
  {
   "cell_type": "code",
   "execution_count": null,
   "id": "b8c7afd7-08e0-4102-b66f-b87b933032fd",
   "metadata": {},
   "outputs": [],
   "source": [
    "# Para el caso de metricas como precision, recall y F1, hay que definirle el average cuando el modelo no es multiclase\n",
    "# Con None, como en este caso, nos devuelve la metrica para cada clase posible de la salida.\n",
    "# Vemos que le pegó bastante bien a Never, pero no se animó a predecir nada en el resto de valores\n",
    "metrics.recall_score(validation.coke, y_pred, average=None)"
   ]
  },
  {
   "cell_type": "code",
   "execution_count": null,
   "id": "c3d2094e-e6dc-4afc-95b2-ec81fcd09809",
   "metadata": {},
   "outputs": [],
   "source": [
    "evaluate_model(lr_model, title='LR con variables psicológicas', multiclase=True)"
   ]
  },
  {
   "cell_type": "markdown",
   "id": "e6b0e9d0-05fb-4b63-9dc5-61e74ba4509a",
   "metadata": {},
   "source": [
    "Conclusión: nuestro primer modelo es malísimo."
   ]
  },
  {
   "cell_type": "markdown",
   "id": "4426866b-09a9-462e-a384-81345f9b8b60",
   "metadata": {},
   "source": [
    "Veamos los pesos que le asignó a cada variable"
   ]
  },
  {
   "cell_type": "code",
   "execution_count": null,
   "id": "d089136b-b4d5-485c-8609-38d19f1bcaae",
   "metadata": {},
   "outputs": [],
   "source": [
    "clf = lr_model.named_steps['classifier']\n",
    "\n",
    "df_importancia = pd.DataFrame({\n",
    "    'feature': lr_mapper.transformed_names_, \n",
    "    'coeficiente': clf.coef_[0],\n",
    "}).sort_values(by='coeficiente')\n",
    "\n",
    "sns.barplot(data=df_importancia, x='coeficiente', y='feature')"
   ]
  },
  {
   "cell_type": "markdown",
   "id": "2d9c7d0d-e114-4b9b-9aa5-d0c1ff905172",
   "metadata": {},
   "source": [
    "El o_score afecta de forma inversa, lo que no representa la curva cuando lo graficamos. Deberíamos no tenerlo en cuenta. Algo similar ocurre con e_score"
   ]
  },
  {
   "cell_type": "markdown",
   "id": "4cdb61be-b7ef-47a7-832c-b9b0b0c41bd8",
   "metadata": {},
   "source": [
    "Vamos a ver si dejando solo las variables que tienen una muy buena linealidad a simple vista anda mejor (n_score, a_score, impulsive, sensibility) "
   ]
  },
  {
   "cell_type": "code",
   "execution_count": null,
   "id": "d0000d24-cbc8-4e9e-897a-52197a61aca9",
   "metadata": {},
   "outputs": [],
   "source": [
    "# Como dijimos en el análisis, no creemos necesaria ninguna transformación, luego podemos llegar a probar\n",
    "lr2_mapper = DataFrameMapper([\n",
    "    (['n_score'], None),\n",
    "    (['a_score'], None),\n",
    "    (['impulsive'], None),\n",
    "    (['sensibility'], None),\n",
    "])\n",
    "\n",
    "# Creamos el pipeline, entrenamos el modelo, y predecimos validation\n",
    "lr2_model = Pipeline([\n",
    "    ('mapper', lr2_mapper),\n",
    "    ('classifier', LogisticRegression(random_state=semilla)),\n",
    "])\n",
    "\n",
    "lr2_model.fit(train, train.coke)\n",
    "\n",
    "evaluate_model(lr2_model, title='LR con variables psicológicas', multiclase=True)"
   ]
  },
  {
   "cell_type": "markdown",
   "id": "0257ea7f-a494-4e16-b9de-fc4606eae47f",
   "metadata": {},
   "source": [
    "No, sigue siendo lo mismo. Ahora anda un poco mejor en validation, pero sigue siendo muy malo"
   ]
  },
  {
   "cell_type": "markdown",
   "id": "6a9d3a06-1a3a-44e2-8282-5de18583ddc3",
   "metadata": {},
   "source": [
    "### kNN con variables psicológicas"
   ]
  },
  {
   "cell_type": "code",
   "execution_count": null,
   "id": "2925e6e2-0ff3-4e29-934a-552a9f9f0d18",
   "metadata": {},
   "outputs": [],
   "source": [
    "from sklearn.neighbors import KNeighborsClassifier"
   ]
  },
  {
   "cell_type": "code",
   "execution_count": null,
   "id": "4d214fb2-918e-423a-b07d-85aef04d28a3",
   "metadata": {},
   "outputs": [],
   "source": [
    "knn_clf = KNeighborsClassifier(n_neighbors=1)\n",
    "parameters = {'n_neighbors': [1, 3, 5, 10, 15, 20, 50, 100, 200]}\n",
    "\n",
    "clf = GridSearchCV(knn_clf, parameters, refit=True, verbose=1)\n",
    "\n",
    "gs_pipe_knn = Pipeline([\n",
    "    # Usamos el mismo mapper que para logistic regression\n",
    "    ('mapper', lr_mapper),\n",
    "    ('classifier', clf),\n",
    "])\n",
    "\n",
    "gs_pipe_knn.fit(train, train.coke)\n",
    "\n",
    "clf.best_score_, clf.best_params_"
   ]
  },
  {
   "cell_type": "markdown",
   "id": "ed72fd76-1951-4ab1-85b6-08e5b1bb8bee",
   "metadata": {},
   "source": [
    "Está eligiendo un número muy grande de neighbors, que lógicamente hará que tenga underfitting"
   ]
  },
  {
   "cell_type": "code",
   "execution_count": null,
   "id": "28667535-ffe8-415d-ab02-2a458023ff68",
   "metadata": {},
   "outputs": [],
   "source": [
    "evaluate_model(gs_pipe_knn, title='Knn from Grid Search', multiclase=True)"
   ]
  },
  {
   "cell_type": "markdown",
   "id": "220e57f6-42ea-46a6-b9f8-c9d83a41b483",
   "metadata": {},
   "source": [
    "### Random Forests con variables NO psicológicas"
   ]
  },
  {
   "cell_type": "code",
   "execution_count": null,
   "id": "f61708df-bdb8-4a37-a58a-dda9983c75d8",
   "metadata": {},
   "outputs": [],
   "source": [
    "from sklearn.ensemble import RandomForestClassifier\n",
    "from sklearn.preprocessing import LabelBinarizer"
   ]
  },
  {
   "cell_type": "markdown",
   "id": "3078b806-7e03-4f7a-a2ca-be4b843d45c2",
   "metadata": {},
   "source": [
    "Primero definimos el mapper para estas variables"
   ]
  },
  {
   "cell_type": "code",
   "execution_count": null,
   "id": "0cecc98a-45f8-42cd-9093-d070ceddb6aa",
   "metadata": {},
   "outputs": [],
   "source": [
    "rf_mapper = DataFrameMapper([\n",
    "    (['age'], [StandardScaler()]),\n",
    "    (['gender'], [LabelBinarizer()]),\n",
    "    (['education'], [OneHotEncoder()]),\n",
    "    (['country'], [OneHotEncoder()]),\n",
    "])"
   ]
  },
  {
   "cell_type": "markdown",
   "id": "bc858ae0-0830-4b6d-b0f8-0e144a846845",
   "metadata": {},
   "source": [
    "Entrenamos el modelo usando GridSearch para encontrar los mejores parámetros"
   ]
  },
  {
   "cell_type": "code",
   "execution_count": null,
   "id": "04ca08de-6b90-42f4-afaf-5d94b2e6e6e8",
   "metadata": {},
   "outputs": [],
   "source": [
    "forest_model = RandomForestClassifier(random_state=semilla)\n",
    "\n",
    "parameters = {'n_estimators': [20, 50, 100, 200], \n",
    "              'max_depth':[3, 5, 8],\n",
    "              'max_features': [2, 3]}\n",
    "\n",
    "clf = GridSearchCV(forest_model, parameters, refit=True, verbose=1)\n",
    "\n",
    "gs_pipe_rf = Pipeline([\n",
    "    ('mapper', rf_mapper),\n",
    "    ('classifier', clf),\n",
    "])\n",
    "\n",
    "gs_pipe_rf.fit(train, train.coke)\n",
    "\n",
    "clf.best_score_, clf.best_params_"
   ]
  },
  {
   "cell_type": "code",
   "execution_count": null,
   "id": "a70c6591-bf06-475d-a9c5-74b46b5a1dd6",
   "metadata": {},
   "outputs": [],
   "source": [
    "evaluate_model(gs_pipe_rf, title='Random Forest from Grid Search', multiclase=True)"
   ]
  },
  {
   "cell_type": "markdown",
   "id": "506ce70f-5a43-4802-b167-45a44fb7b461",
   "metadata": {},
   "source": [
    "Está teniendo overfitting, y vemos que elige la máxima profundidad que le permitimos tener"
   ]
  },
  {
   "cell_type": "markdown",
   "id": "e9f01721-2958-479b-8bb0-bd1583a7d52b",
   "metadata": {},
   "source": [
    "## Y si hacemos la salida binaria?"
   ]
  },
  {
   "cell_type": "markdown",
   "id": "e188ec37-e393-4478-b351-7e9e747e0927",
   "metadata": {},
   "source": [
    "Hasta ahora ningún modelo parece estar dando resultados. Probemos haciendo que la salida ya no sea multiclase:"
   ]
  },
  {
   "cell_type": "code",
   "execution_count": null,
   "id": "98eebe3c-93c8-4905-8a33-a93c2ea52310",
   "metadata": {},
   "outputs": [],
   "source": [
    "# Agrupamos en consumidores y no consumidores\n",
    "data_salida_binaria = data.copy()\n",
    "data_salida_binaria['coke'] = data_salida_binaria['coke'].apply(lambda x: 0 if x == 'Never' else 1)\n",
    "\n",
    "data_salida_binaria.sample(3)"
   ]
  },
  {
   "cell_type": "markdown",
   "id": "681a78b2-f414-4317-a92b-a7b68a4974c9",
   "metadata": {},
   "source": [
    "Tenemos que volver a hacer la separación en train, validation y test"
   ]
  },
  {
   "cell_type": "code",
   "execution_count": null,
   "id": "f89497d7-32ef-424f-a31f-29ac4d90401b",
   "metadata": {},
   "outputs": [],
   "source": [
    "train_binario, not_train_binario = train_test_split(data_salida_binaria, test_size=0.4, random_state=semilla)\n",
    "\n",
    "validation_binario, test_binario = train_test_split(not_train_binario, test_size=0.5, random_state=semilla)\n",
    "\n",
    "train_binario.shape, validation_binario.shape, test_binario.shape"
   ]
  },
  {
   "cell_type": "code",
   "execution_count": null,
   "id": "80f3e5a6-7949-4579-8118-3d5f53fa1bc3",
   "metadata": {},
   "outputs": [],
   "source": [
    "train_binario.sample(3)"
   ]
  },
  {
   "cell_type": "markdown",
   "id": "55287030-e298-4f93-80b3-e066be9ed15d",
   "metadata": {},
   "source": [
    "### Regresión Logística con variables psicológicas (salida binaria)\n",
    "Entrenamos el mismo modelo que habíamos creado, pero con salida binaria"
   ]
  },
  {
   "cell_type": "code",
   "execution_count": null,
   "id": "73067c48-bba3-4048-a2e6-fbc0e4acb03f",
   "metadata": {},
   "outputs": [],
   "source": [
    "lr_model.fit(train_binario, train_binario.coke)\n",
    "\n",
    "# No le pasamos el parametro multiclase porque por default es False\n",
    "evaluate_model(lr_model, set_names=('train_binario', 'validation_binario'), title='LR con variables psicológicas')"
   ]
  },
  {
   "cell_type": "markdown",
   "id": "9ac6a20d-d7bf-4ebd-ad8b-88958007e625",
   "metadata": {},
   "source": [
    "### kNN con variables psicológicas (salida binaria)"
   ]
  },
  {
   "cell_type": "code",
   "execution_count": null,
   "id": "b9fe9fdc-6be3-4975-abfc-5064395cd10d",
   "metadata": {},
   "outputs": [],
   "source": [
    "knn_clf = KNeighborsClassifier(n_neighbors=1)\n",
    "parameters = {'n_neighbors': [1, 3, 5, 10, 15, 20, 50, 100, 200]}\n",
    "\n",
    "clf = GridSearchCV(knn_clf, parameters, refit=True, verbose=1)\n",
    "\n",
    "gs_pipe = Pipeline([\n",
    "    # Usamos el mismo mapper que para logistic regression\n",
    "    ('mapper', lr_mapper),\n",
    "    ('classifier', clf),\n",
    "])\n",
    "\n",
    "gs_pipe.fit(train_binario, train_binario.coke)\n",
    "\n",
    "clf.best_score_, clf.best_params_"
   ]
  },
  {
   "cell_type": "code",
   "execution_count": null,
   "id": "68277626-83ad-4920-ab20-0e74c630db5e",
   "metadata": {},
   "outputs": [],
   "source": [
    "evaluate_model(gs_pipe, set_names=('train_binario', 'validation_binario'), title='kNN con variables psicológicas')"
   ]
  },
  {
   "cell_type": "code",
   "execution_count": null,
   "id": "daa9464f-9e15-4067-bc44-40ffd3a174d4",
   "metadata": {},
   "outputs": [],
   "source": [
    "# Mostramos la salida del modelo multiclase\n",
    "evaluate_model(gs_pipe_knn, title='Knn from Grid Search', multiclase=True)"
   ]
  },
  {
   "cell_type": "markdown",
   "id": "39637297-267d-4713-880c-de409ffd6b29",
   "metadata": {},
   "source": [
    "Por más que le reduzcamos el número de vecinos que puede elegir, siempre elige el más alto. Sin embargo mejoró bastante respecto a cuando la salida era multiclase."
   ]
  },
  {
   "cell_type": "markdown",
   "id": "8111dbc6-5f8e-4078-a988-53fcf4e68095",
   "metadata": {},
   "source": [
    "### Random Forests con variables NO psicológicas (salida binaria)"
   ]
  },
  {
   "cell_type": "code",
   "execution_count": null,
   "id": "7412cb19-71a3-4d47-ae2e-930da2f6c0a0",
   "metadata": {},
   "outputs": [],
   "source": [
    "forest_model = RandomForestClassifier(random_state=semilla)\n",
    "\n",
    "parameters = {'n_estimators': [20, 50, 100, 200], \n",
    "              'max_depth':[3, 5, 8],\n",
    "              'max_features': [2, 3]}\n",
    "\n",
    "clf = GridSearchCV(forest_model, parameters, refit=True, verbose=1)\n",
    "\n",
    "gs_pipe_forests = Pipeline([\n",
    "    ('mapper', rf_mapper),\n",
    "    ('classifier', clf),\n",
    "])\n",
    "\n",
    "gs_pipe_forests.fit(train_binario, train_binario.coke)\n",
    "\n",
    "clf.best_score_, clf.best_params_"
   ]
  },
  {
   "cell_type": "code",
   "execution_count": null,
   "id": "5a9fb76b-22bb-417f-91d4-b43a4dc66a08",
   "metadata": {},
   "outputs": [],
   "source": [
    "evaluate_model(gs_pipe_forests, set_names=('train_binario', 'validation_binario'), title='Random Forest from Grid Search')"
   ]
  },
  {
   "cell_type": "markdown",
   "id": "7f93d874-8027-4325-a40b-bcef3488c908",
   "metadata": {},
   "source": [
    "### Mejoremos la regresión logística con feature engineering (binning)"
   ]
  },
  {
   "cell_type": "markdown",
   "id": "4a7589d2-747f-46f5-91e7-8dbf9889b1a5",
   "metadata": {},
   "source": [
    "Probemos aplicar binning sobre las features psicológicas, y veamos si hay alguna mejora. No hay overfitting, pero podemos probar si encuentra mejor los límites"
   ]
  },
  {
   "cell_type": "code",
   "execution_count": null,
   "id": "92f15b8b-60ca-4098-b8e6-f6a495c2eab8",
   "metadata": {},
   "outputs": [],
   "source": [
    "from sklearn.preprocessing import KBinsDiscretizer\n",
    "\n",
    "n_conjuntos = 4\n",
    "\n",
    "lr_binning_mapper = DataFrameMapper([\n",
    "    (['n_score'], [KBinsDiscretizer(n_bins=n_conjuntos)]),\n",
    "    (['a_score'], [KBinsDiscretizer(n_bins=n_conjuntos)]),\n",
    "    (['c_score'], [KBinsDiscretizer(n_bins=n_conjuntos)]),\n",
    "    (['impulsive'], [KBinsDiscretizer(n_bins=n_conjuntos)]),\n",
    "    (['sensibility'], [KBinsDiscretizer(n_bins=n_conjuntos)]),\n",
    "])\n",
    "\n",
    "# Creamos el pipeline, entrenamos el modelo, y predecimos validation\n",
    "lr_binning_model = Pipeline([\n",
    "    ('mapper', lr_binning_mapper),\n",
    "    ('classifier', LogisticRegression(random_state=semilla)),\n",
    "])\n",
    "\n",
    "lr_binning_model.fit(train_binario, train_binario.coke)\n",
    "\n",
    "y_pred = lr_binning_model.predict(validation_binario)\n",
    "\n",
    "evaluate_model(lr_binning_model, set_names=('train_binario', 'validation_binario'), title='LR con variables psicológicas y binning')"
   ]
  },
  {
   "cell_type": "markdown",
   "id": "0af40092-9904-4c8b-9999-e62779e76664",
   "metadata": {},
   "source": [
    "Logramos mejorar levemente los resultados anteriores:"
   ]
  },
  {
   "cell_type": "code",
   "execution_count": null,
   "id": "ad70414d-b861-49c7-95bb-0a65f93cc6f4",
   "metadata": {},
   "outputs": [],
   "source": [
    "evaluate_model(lr_model, set_names=('train_binario', 'validation_binario'), title='LR con variables psicológicas')"
   ]
  },
  {
   "cell_type": "markdown",
   "id": "760832b7-e047-4149-ac2a-4441c73c14a8",
   "metadata": {},
   "source": [
    "### Mejoremos el Random Forests con feature engineering (combinación de features)"
   ]
  },
  {
   "cell_type": "markdown",
   "id": "bb1f8808-4d3b-410c-a3a6-40352d0a764a",
   "metadata": {},
   "source": [
    "Primero modificamos la transformación de education para que sea ordinal"
   ]
  },
  {
   "cell_type": "code",
   "execution_count": null,
   "id": "cdf73d5b-7814-4b84-bee2-411c9121113c",
   "metadata": {},
   "outputs": [],
   "source": [
    "data_education_ordinal = data_salida_binaria.copy()\n",
    "\n",
    "# Primero mapeamos la educación a valores numéricos\n",
    "education_mapping_ordinal = {\n",
    "            'Left School Before 16 years': 0,\n",
    "            'Left School at 16 years': 2,\n",
    "            'Left School at 17 years': 3,\n",
    "            'Left School at 18 years': 4,\n",
    "            'Some College, No Certificate Or Degree': 6,\n",
    "            'Professional Certificate/ Diploma': 8,\n",
    "            'University Degree': 10,\n",
    "            'Masters Degree': 12,\n",
    "            'Doctorate Degree': 14.5,\n",
    "            }\n",
    "\n",
    "data_education_ordinal['education'] = data_education_ordinal['education'].replace(education_mapping_ordinal)\n",
    "\n",
    "data_education_ordinal.sample(3)"
   ]
  },
  {
   "cell_type": "markdown",
   "id": "3894ef3f-9a1c-4698-9bd4-3848a5277aaa",
   "metadata": {},
   "source": [
    "Luego generamos una nueva feature que relacione age con education"
   ]
  },
  {
   "cell_type": "code",
   "execution_count": null,
   "id": "179e7182-d63c-42c8-8e8d-dd8cf3915c06",
   "metadata": {},
   "outputs": [],
   "source": [
    "data_education_ordinal['age_por_education'] = data_education_ordinal['age'] * data_education_ordinal['education']\n",
    "\n",
    "data_education_ordinal.sample(3)"
   ]
  },
  {
   "cell_type": "code",
   "execution_count": null,
   "id": "4f9ea63b-3ba8-4e82-ad38-c07d645ba73b",
   "metadata": {},
   "outputs": [],
   "source": [
    "train_binario_comb, not_train_binario_comb = train_test_split(data_education_ordinal, test_size=0.4, random_state=semilla)\n",
    "\n",
    "validation_binario_comb, test_binario_comb = train_test_split(not_train_binario_comb, test_size=0.5, random_state=semilla)\n",
    "\n",
    "train_binario_comb.shape, validation_binario_comb.shape, test_binario_comb.shape"
   ]
  },
  {
   "cell_type": "code",
   "execution_count": null,
   "id": "324a19f7-7f6e-46c1-841e-620a081c5d51",
   "metadata": {},
   "outputs": [],
   "source": [
    "# No aplicamos ningun OneHotEncoder porque total arboles soporta multiclase nativo\n",
    "rf_comb_mapper = DataFrameMapper([\n",
    "    (['age'], [StandardScaler()]),\n",
    "    (['gender'], [LabelBinarizer()]),\n",
    "    (['education'], [StandardScaler()]),\n",
    "    (['country'], [OneHotEncoder()]),\n",
    "    (['age_por_education'], [StandardScaler()])\n",
    "])"
   ]
  },
  {
   "cell_type": "code",
   "execution_count": null,
   "id": "c7eac830-bba1-4ddb-a093-323d55d59a68",
   "metadata": {},
   "outputs": [],
   "source": [
    "forest_model_engineering = RandomForestClassifier(random_state=semilla)\n",
    "\n",
    "parameters = {'n_estimators': [20, 50, 100, 200, 500], \n",
    "              'max_depth':[3, 5, 8],\n",
    "              'max_features': [2, 3, 5]}\n",
    "\n",
    "clf = GridSearchCV(forest_model_engineering, parameters, refit=True, verbose=1)\n",
    "\n",
    "gs_pipe = Pipeline([\n",
    "    ('mapper', rf_comb_mapper),\n",
    "    ('classifier', clf),\n",
    "])\n",
    "\n",
    "gs_pipe.fit(train_binario_comb, train_binario_comb.coke)\n",
    "\n",
    "clf.best_score_, clf.best_params_"
   ]
  },
  {
   "cell_type": "code",
   "execution_count": null,
   "id": "ca9387b3-8f33-4d0a-aebb-6da80702005a",
   "metadata": {},
   "outputs": [],
   "source": [
    "evaluate_model(gs_pipe, set_names=('train_binario_comb', 'validation_binario_comb'), title='Random Forest con Combinación')"
   ]
  },
  {
   "cell_type": "markdown",
   "id": "7557f4de-f1ee-4b45-b744-6c58341ce131",
   "metadata": {},
   "source": [
    "No, es incluso peor que antes de aplicar feature engineering"
   ]
  },
  {
   "cell_type": "code",
   "execution_count": null,
   "id": "92086cfe-62d0-48fb-b679-8386027e576e",
   "metadata": {},
   "outputs": [],
   "source": [
    "evaluate_model(gs_pipe_forests, set_names=('train_binario', 'validation_binario'), title='Random Forest from Grid Search')"
   ]
  },
  {
   "cell_type": "markdown",
   "id": "ffc3694f-21c4-433b-9672-95e9e0b51665",
   "metadata": {},
   "source": [
    "## Quizás separar el conjunto de datos no fue una buena idea"
   ]
  },
  {
   "cell_type": "markdown",
   "id": "36e3d2d5-fabd-4769-9773-ae0716e85e02",
   "metadata": {},
   "source": [
    "Intentemos replicar los mismos modelos, pero ahora usando tanto variables psicológicas como NO psicológicas"
   ]
  },
  {
   "cell_type": "markdown",
   "id": "f91b1ac2-9331-46be-809a-ae126df677d2",
   "metadata": {},
   "source": [
    "Probemos con multiclase, y si falla otra vez, recién ahí pasemos a binario"
   ]
  },
  {
   "cell_type": "markdown",
   "id": "5fe68393-4b00-4074-b64e-a505efa56f05",
   "metadata": {},
   "source": [
    "Primero apliquemos la transformación a education, usando el mapping que ya definimos"
   ]
  },
  {
   "cell_type": "code",
   "execution_count": null,
   "id": "c45c4714-88cb-456a-aa24-151e7e1d9e84",
   "metadata": {},
   "outputs": [],
   "source": [
    "data_education_ordinal_sin_comb = data.copy()\n",
    "\n",
    "data_education_ordinal_sin_comb['education'] = data_education_ordinal_sin_comb['education'].replace(education_mapping_ordinal)\n",
    "\n",
    "data_education_ordinal_sin_comb.sample(3)"
   ]
  },
  {
   "cell_type": "markdown",
   "id": "fd6d4932-3fbd-411d-9f61-53bfddb897b7",
   "metadata": {},
   "source": [
    "Volvemos a separar en train, validation y test"
   ]
  },
  {
   "cell_type": "code",
   "execution_count": null,
   "id": "23f3f394-d0f0-40b6-8faf-bc60cb46130d",
   "metadata": {},
   "outputs": [],
   "source": [
    "train_ordinal, not_train_ordinal = train_test_split(data_education_ordinal_sin_comb, test_size=0.4, random_state=semilla)\n",
    "\n",
    "validation_ordinal, test_ordinal = train_test_split(not_train_ordinal, test_size=0.5, random_state=semilla)\n",
    "\n",
    "train_ordinal.shape, validation_ordinal.shape, test_ordinal.shape"
   ]
  },
  {
   "cell_type": "markdown",
   "id": "e3756cd8-c28e-460b-8179-f5848056ae63",
   "metadata": {},
   "source": [
    "### Regresión Logística"
   ]
  },
  {
   "cell_type": "markdown",
   "id": "0f77fe52-a54a-4b0d-9bf3-e16314e52bfd",
   "metadata": {},
   "source": [
    "Aprovechemos el progreso que ya hicimos: ya sabemos que anda un poco mejor con binning"
   ]
  },
  {
   "cell_type": "code",
   "execution_count": null,
   "id": "efe322b6-6314-404f-9eba-bb4b46139831",
   "metadata": {},
   "outputs": [],
   "source": [
    "n_conjuntos = 7\n",
    "\n",
    "lr_complete_binning_mapper = DataFrameMapper([\n",
    "    (['age'], [StandardScaler()]),\n",
    "    (['gender'], [LabelBinarizer()]),\n",
    "    (['education'], [StandardScaler()]),\n",
    "    (['country'], [LabelBinarizer()]),\n",
    "    (['n_score'], [KBinsDiscretizer(n_bins=n_conjuntos)]),\n",
    "    (['o_score'], [KBinsDiscretizer(n_bins=n_conjuntos)]),\n",
    "    (['a_score'], [KBinsDiscretizer(n_bins=n_conjuntos)]),\n",
    "    (['c_score'], [KBinsDiscretizer(n_bins=n_conjuntos)]),\n",
    "    (['impulsive'], [KBinsDiscretizer(n_bins=n_conjuntos)]),\n",
    "    (['sensibility'], [KBinsDiscretizer(n_bins=n_conjuntos)]),\n",
    "])"
   ]
  },
  {
   "cell_type": "code",
   "execution_count": null,
   "id": "a25453cc-f8d6-4a9a-80ea-a2256e181c01",
   "metadata": {},
   "outputs": [],
   "source": [
    "# Creamos el pipeline, entrenamos el modelo, y predecimos validation\n",
    "lr_complete_binning_model = Pipeline([\n",
    "    ('mapper', lr_complete_binning_mapper),\n",
    "    ('classifier', LogisticRegression(random_state=semilla)),\n",
    "])\n",
    "\n",
    "lr_complete_binning_model.fit(train_ordinal, train_ordinal.coke)"
   ]
  },
  {
   "cell_type": "code",
   "execution_count": null,
   "id": "3ad627d0-8db4-4aad-828f-57b390cb88b5",
   "metadata": {},
   "outputs": [],
   "source": [
    "evaluate_model(lr_complete_binning_model, set_names=(\"train_ordinal\", \"validation_ordinal\"), title='LR completo con binning', multiclase=True)"
   ]
  },
  {
   "cell_type": "markdown",
   "id": "b04e0cef-48de-44c4-ad42-4bfbe2a85f75",
   "metadata": {},
   "source": [
    "Sigue siendo muy malo, incluso tiene overfitting"
   ]
  },
  {
   "cell_type": "markdown",
   "id": "0b887cfd-3c9f-49f9-a6fb-429ae00bd8b3",
   "metadata": {},
   "source": [
    "Vemos a qué le asignó más peso"
   ]
  },
  {
   "cell_type": "code",
   "execution_count": null,
   "id": "18b43c5a-fa91-4a7a-b8eb-9af63d1d8023",
   "metadata": {},
   "outputs": [],
   "source": [
    "clf = lr_complete_binning_model.named_steps['classifier']\n",
    "\n",
    "df_importancia = pd.DataFrame({\n",
    "    'feature': lr_complete_binning_mapper.transformed_names_, \n",
    "    'coeficiente': clf.coef_[0],\n",
    "}).sort_values(by='coeficiente')\n",
    "\n",
    "plt.figure(figsize=(12, 8))\n",
    "sns.barplot(data=df_importancia, x='coeficiente', y='feature')\n",
    "plt.show()"
   ]
  },
  {
   "cell_type": "markdown",
   "id": "661c80b6-c85b-449f-8480-00bce4179f07",
   "metadata": {},
   "source": [
    "Está dandole demasiada importancia a la edad, y prácticamente nula importancia a la educación. El país también vemos que está teniendo un peso muy significativo"
   ]
  },
  {
   "cell_type": "markdown",
   "id": "b306f262-ad86-4f28-8854-44f5160d4bcc",
   "metadata": {},
   "source": [
    "#### Balancear la salida"
   ]
  },
  {
   "cell_type": "markdown",
   "id": "3b983e31-169c-4260-9bc8-de4733476431",
   "metadata": {},
   "source": [
    "Intentemos balancear los pesos de las clases de salida. Esto podríamos hacerlo con under-sampling, borrando registros del dataset, o bien pasandole un parámetro (class-weight) a la Regresión Logística. Recordemos que la salida tiene esta distribución:"
   ]
  },
  {
   "cell_type": "code",
   "execution_count": null,
   "id": "9dba52df-93fa-40d7-8f66-d176fbcabfd9",
   "metadata": {},
   "outputs": [],
   "source": [
    "data.coke.value_counts().plot.bar(title= \"Proporción de consumidores\")"
   ]
  },
  {
   "cell_type": "code",
   "execution_count": null,
   "id": "5f0202e4-fee1-4e7b-9c38-bda02ecedebc",
   "metadata": {},
   "outputs": [],
   "source": [
    "lr_complete_binning_model_balanced = Pipeline([\n",
    "    ('mapper', lr_complete_binning_mapper),\n",
    "    ('classifier', LogisticRegression(random_state=semilla, class_weight='balanced')),\n",
    "])\n",
    "\n",
    "lr_complete_binning_model_balanced.fit(train_ordinal, train_ordinal.coke)"
   ]
  },
  {
   "cell_type": "code",
   "execution_count": null,
   "id": "499f37e5-f6b9-44bb-ba3e-b9c7074e7b40",
   "metadata": {},
   "outputs": [],
   "source": [
    "evaluate_model(lr_complete_binning_model_balanced, set_names=(\"train_ordinal\", \"validation_ordinal\"), title='LR completo con binning balanceado', multiclase=True)"
   ]
  },
  {
   "cell_type": "markdown",
   "id": "d14ce809-0923-4568-8717-a5c517a873b6",
   "metadata": {},
   "source": [
    "Hasta ahora no habíamos tenido un modelo tan mal performante."
   ]
  },
  {
   "cell_type": "markdown",
   "id": "a0cef1a4-b1cd-4fae-b1ac-4112d3c8a403",
   "metadata": {},
   "source": [
    "### kNN"
   ]
  },
  {
   "cell_type": "code",
   "execution_count": null,
   "id": "d0473d83-4e69-40df-a451-34f5927b2b58",
   "metadata": {},
   "outputs": [],
   "source": [
    "knn_clf = KNeighborsClassifier(n_neighbors=1)\n",
    "parameters = {'n_neighbors': [1, 3, 5, 7, 10, 12, 15, 20, 30, 50, 100, 200]}\n",
    "\n",
    "clf = GridSearchCV(knn_clf, parameters, refit=True, verbose=1)\n",
    "\n",
    "gs_pipe_knn_completo = Pipeline([\n",
    "    # Usamos el mismo mapper que para logistic regression\n",
    "    ('mapper', lr_complete_binning_mapper),\n",
    "    ('classifier', clf),\n",
    "])\n",
    "\n",
    "gs_pipe_knn_completo.fit(train_ordinal, train_ordinal.coke)\n",
    "\n",
    "clf.best_score_, clf.best_params_"
   ]
  },
  {
   "cell_type": "code",
   "execution_count": null,
   "id": "cf716f76-4fcd-4bde-ae45-a2c79abfde3a",
   "metadata": {},
   "outputs": [],
   "source": [
    "evaluate_model(gs_pipe_knn_completo, set_names=(\"train_ordinal\", \"validation_ordinal\"), title='Knn from Grid Search', multiclase=True)"
   ]
  },
  {
   "cell_type": "code",
   "execution_count": null,
   "id": "7e487f00-1d8f-414e-899e-4905d1d2e3a5",
   "metadata": {},
   "outputs": [],
   "source": [
    "evaluate_model(gs_pipe_knn, title='Knn from Grid Search', multiclase=True)"
   ]
  },
  {
   "cell_type": "markdown",
   "id": "93729d1c-b1a5-419a-bfc3-a324e07e3120",
   "metadata": {},
   "source": [
    "Mejoró un poco el resultado de kNN solo con variables psicológicas, pero no es un modelo en lo más mínimo aceptable"
   ]
  },
  {
   "cell_type": "markdown",
   "id": "6075533f-4ccd-4af8-bb83-c724d0d2facb",
   "metadata": {},
   "source": [
    "### Random Forests"
   ]
  },
  {
   "cell_type": "code",
   "execution_count": null,
   "id": "25cae2e0-80fe-4d84-a5e9-cb5d89bb7607",
   "metadata": {},
   "outputs": [],
   "source": [
    "forest_complete_model = RandomForestClassifier(random_state=semilla)\n",
    "\n",
    "parameters = {'n_estimators': [20, 50, 100, 200], \n",
    "              'max_depth':[3, 5, 7, 9, 12],\n",
    "              'max_features': [2, 3, 5, 7]}\n",
    "\n",
    "clf = GridSearchCV(forest_model, parameters, refit=True, verbose=1)\n",
    "\n",
    "gs_pipe_forests_complete = Pipeline([\n",
    "    # Vamos a usar el mismo mapper que para logistic regression\n",
    "    ('mapper', lr_complete_binning_mapper),\n",
    "    ('classifier', clf),\n",
    "])\n",
    "\n",
    "gs_pipe_forests_complete.fit(train_ordinal, train_ordinal.coke)\n",
    "\n",
    "clf.best_score_, clf.best_params_"
   ]
  },
  {
   "cell_type": "code",
   "execution_count": null,
   "id": "c3e2899f-0618-4449-91ad-28e00588aef2",
   "metadata": {},
   "outputs": [],
   "source": [
    "evaluate_model(gs_pipe_forests_complete, set_names=(\"train_ordinal\", \"validation_ordinal\"), title='Knn from Grid Search', multiclase=True)"
   ]
  },
  {
   "cell_type": "markdown",
   "id": "86b22074-2c0b-4155-8345-ae24d0f9c811",
   "metadata": {},
   "source": [
    "Hasta ahora no habíamos visto un valor tan bueno en precision. Lástima que sea falso y producto de overfitting"
   ]
  },
  {
   "cell_type": "markdown",
   "id": "2cc023ae-7e8c-4bdd-b762-94148d89ea05",
   "metadata": {},
   "source": [
    "## Última prueba: modificar algunas transformaciones y salida binaria"
   ]
  },
  {
   "cell_type": "markdown",
   "id": "78e78ef7-afc5-4198-93bb-36c857cd0dbb",
   "metadata": {},
   "source": [
    "Cuando hicimos el diagrama de correlación, separamos la salida en Never, Last-Decade y Last-Year. Hay una diferencia importante entre Last-Decade y Last-Year, y lo correcto sería separarlos. Esto es algo que no hicimos antes cuando planteamos salida binaria, sino que los unificamos, y solo dejamos 'Never' por fuera."
   ]
  },
  {
   "cell_type": "code",
   "execution_count": null,
   "id": "2d38e348-8c74-47fd-ac45-bf7022494ca8",
   "metadata": {},
   "outputs": [],
   "source": [
    "data_binaria = data.copy()\n",
    "\n",
    "# Primero mapeamos la educación a valores numéricos\n",
    "mapper_consumo_mejorado = {\n",
    "    'Never': 0,\n",
    "    'A Decade Ago': 0,\n",
    "    'Last Decade': 0,\n",
    "    'Last Year': 1,\n",
    "    'Last Month': 1,\n",
    "    'Last Week': 1,\n",
    "    'Last Day': 1,\n",
    "    }\n",
    "\n",
    "data_binaria['coke'] = data_binaria['coke'].replace(mapper_consumo_mejorado)\n",
    "\n",
    "data_binaria.sample(3)    "
   ]
  },
  {
   "cell_type": "markdown",
   "id": "e6a0a5d9-0cce-4c04-af9e-f5489e3f2386",
   "metadata": {},
   "source": [
    "Separamos el dataset"
   ]
  },
  {
   "cell_type": "code",
   "execution_count": null,
   "id": "291ef0b9-5eae-4c77-aa24-86c00fe75497",
   "metadata": {},
   "outputs": [],
   "source": [
    "train_binario_2, not_train_binario_2 = train_test_split(data_binaria, test_size=0.4, random_state=semilla)\n",
    "\n",
    "validation_binario_2, test_binario_2 = train_test_split(not_train_binario_2, test_size=0.5, random_state=semilla)\n",
    "\n",
    "train_binario_2.shape, validation_binario_2.shape, test_binario_2.shape"
   ]
  },
  {
   "cell_type": "markdown",
   "id": "988538f6-a5ad-4886-8d8d-b31dfd46c6a6",
   "metadata": {},
   "source": [
    "No hagamos binning, usemos OneHotEncoder para la educación, y un StandardScaler sobre todas las variables"
   ]
  },
  {
   "cell_type": "code",
   "execution_count": null,
   "id": "6430da4d-bcc2-460f-a14f-ff0d198565e1",
   "metadata": {},
   "outputs": [],
   "source": [
    "last_chance_mapper = DataFrameMapper([\n",
    "    (['age'], [StandardScaler()]),\n",
    "    (['gender'], [LabelBinarizer()]),\n",
    "    (['education'], [OneHotEncoder()]),\n",
    "    (['country'], [LabelBinarizer()]),\n",
    "    (['n_score'], [StandardScaler()]),\n",
    "    (['e_score'], [StandardScaler()]),\n",
    "    (['o_score'], [StandardScaler()]),\n",
    "    (['a_score'], [StandardScaler()]),\n",
    "    (['c_score'], [StandardScaler()]),\n",
    "    (['impulsive'], [StandardScaler()]),\n",
    "    (['sensibility'], [StandardScaler()]),\n",
    "])"
   ]
  },
  {
   "cell_type": "markdown",
   "id": "0a25003b-1544-4efb-94aa-cb92a804d5ca",
   "metadata": {},
   "source": [
    "Aclaración: dejamos un GridSearch del Random Forest con muchos parámetros, y demoró mucho tiempo corriendo, por lo que para ahorrarle a quien corra de nuevo este notebook, dejamos únicamente 'entropy' como criterion, y dejamos n_estimators en máximo 300"
   ]
  },
  {
   "cell_type": "code",
   "execution_count": null,
   "id": "af9bd44e-cbd6-4127-aca6-66c48aab72ff",
   "metadata": {},
   "outputs": [],
   "source": [
    "# Le agregamos el parametro para que balancee las clases de salida\n",
    "forest_last_chance = RandomForestClassifier(class_weight='balanced', criterion='entropy', random_state=semilla)\n",
    "\n",
    "parameters = {'n_estimators': [100, 150, 200, 250, 300, 350],\n",
    "              #'criterion': 'gini', 'entropy', 'log_loss',\n",
    "              'max_depth':[3, 5, 8],\n",
    "              'max_features': [4, 5, 7]}\n",
    "\n",
    "clf = GridSearchCV(forest_last_chance, parameters, refit=True, verbose=1)\n",
    "\n",
    "gs_pipe_forests_last_chance = Pipeline([\n",
    "    ('mapper', last_chance_mapper),\n",
    "    ('classifier', clf),\n",
    "])\n",
    "\n",
    "gs_pipe_forests_last_chance.fit(train_binario_2, train_binario_2.coke)\n",
    "\n",
    "clf.best_score_, clf.best_params_"
   ]
  },
  {
   "cell_type": "code",
   "execution_count": null,
   "id": "e0060e77-5b4d-4b2f-ba86-f1b268348132",
   "metadata": {},
   "outputs": [],
   "source": [
    "evaluate_model(gs_pipe_forests_last_chance, set_names=(\"train_binario_2\", \"validation_binario_2\"), title='Random Forests Last Chance')"
   ]
  },
  {
   "cell_type": "markdown",
   "id": "e0d2e19a-ba7b-471b-bf0e-667c891106d2",
   "metadata": {},
   "source": [
    "Tiene relativamente buenos valores en train, pero hace overfitting. Viendo precision tan baja, deducimos que tiene varios falsos positivos"
   ]
  },
  {
   "cell_type": "markdown",
   "id": "98b416d0-cf65-4529-a816-c1ee87a88005",
   "metadata": {},
   "source": [
    "### Mismo enfoque con Logistic Regression"
   ]
  },
  {
   "cell_type": "markdown",
   "id": "52a69e17-d52f-4783-9f71-c3b00df2b0bf",
   "metadata": {},
   "source": [
    "Usemos el mismo enfoque para Logistic Regression, a ver si la diferencia estuvo en los datos o en el modelo"
   ]
  },
  {
   "cell_type": "code",
   "execution_count": null,
   "id": "d06dc07c-5fd9-47ce-aa50-006e5d01803a",
   "metadata": {},
   "outputs": [],
   "source": [
    "lr_last_chance = Pipeline([\n",
    "    ('mapper', last_chance_mapper),\n",
    "    ('classifier', LogisticRegression(random_state=semilla, class_weight='balanced')),\n",
    "])\n",
    "\n",
    "lr_last_chance.fit(train_binario_2, train_binario_2.coke)"
   ]
  },
  {
   "cell_type": "code",
   "execution_count": null,
   "id": "2c560780-601f-4b8f-977b-18f30b24d7d3",
   "metadata": {},
   "outputs": [],
   "source": [
    "evaluate_model(lr_last_chance, set_names=(\"train_binario_2\", \"validation_binario_2\"), title='LR Last Chance')"
   ]
  },
  {
   "cell_type": "markdown",
   "id": "c28f3e8c-3b18-4cdf-a1e8-de41d47578a0",
   "metadata": {},
   "source": [
    "Definitivamente está diciendo que hay positivos cuando en realidad no lo son. Así el modelo no sirve para una aplicación práctica."
   ]
  },
  {
   "cell_type": "markdown",
   "id": "f1eefe2f-f4e5-4244-8ad0-fd5fafb50974",
   "metadata": {},
   "source": [
    "## Y si usamos los datos tal cual venían de Kaggle? "
   ]
  },
  {
   "cell_type": "markdown",
   "id": "70592b83-0df3-4bd6-84ba-9edde3b8047c",
   "metadata": {},
   "source": [
    "El dataset que descargamos ya tenía valores numéricos que parecían haber surgido de un pre-procesado. Con este intento pensamos ver si nuestro análisis y transformación de los datos fue tan malo como para que los datos originales, sin nninguna modificación, tengan un mejor resultado. No decidimos usarlo de esta manera al principio ya que no logramos entender las trasnformaciones que venían aplicadas en el DataSet y tampoco pudimos recolectar información al respecto."
   ]
  },
  {
   "cell_type": "code",
   "execution_count": null,
   "id": "8b77984f-120e-48c6-9ef1-4bea31cdacb8",
   "metadata": {},
   "outputs": [],
   "source": [
    "train_original, not_train_original = train_test_split(data_original, test_size=0.4, random_state=semilla)\n",
    "validation_original, test_original = train_test_split(not_train_original, test_size=0.5, random_state=semilla)"
   ]
  },
  {
   "cell_type": "code",
   "execution_count": null,
   "id": "9e428c91-9361-4534-ab73-6a03966c56ca",
   "metadata": {},
   "outputs": [],
   "source": [
    "lr_original_mapper = DataFrameMapper([\n",
    "    (['age'], None),\n",
    "    (['gender'], None),\n",
    "    (['education'], None),\n",
    "    (['country'], None),\n",
    "    (['n_score'], None),\n",
    "    (['e_score'], None),\n",
    "    (['o_score'], None),\n",
    "    (['a_score'], None),\n",
    "    (['c_score'], None),\n",
    "    (['impulsive'], None),\n",
    "    (['sensibility'], None),\n",
    "])"
   ]
  },
  {
   "cell_type": "code",
   "execution_count": null,
   "id": "6ddfb26f-12bb-40ad-a2cb-76925ad8d14d",
   "metadata": {},
   "outputs": [],
   "source": [
    "lr_original = Pipeline([\n",
    "    ('mapper', lr_original_mapper),\n",
    "    ('classifier', LogisticRegression(random_state=semilla, class_weight='balanced')),\n",
    "])\n",
    "\n",
    "lr_original.fit(train_original, train_original.coke)"
   ]
  },
  {
   "cell_type": "code",
   "execution_count": null,
   "id": "06746440-11cc-4927-b11e-0941a908dc18",
   "metadata": {},
   "outputs": [],
   "source": [
    "evaluate_model(lr_original, set_names=(\"train_original\", \"validation_original\"), title='LR Original', multiclase = True)"
   ]
  },
  {
   "cell_type": "markdown",
   "id": "c6201534-eb14-49a5-8a26-c2188e2363e3",
   "metadata": {},
   "source": [
    "No, estuvo bien haber trabajado sobre los datos."
   ]
  },
  {
   "cell_type": "markdown",
   "id": "c77a42ee-2481-4d26-9a8f-a0b357c205ab",
   "metadata": {},
   "source": [
    "## Técnicas de reducción de dimensiones"
   ]
  },
  {
   "cell_type": "markdown",
   "id": "b56e16d1-ea7b-42d2-927a-5f76353b4a26",
   "metadata": {},
   "source": [
    "#### Dependencias"
   ]
  },
  {
   "cell_type": "code",
   "execution_count": null,
   "id": "4c488072-5c25-477b-a1d1-f2f5fbe4e81f",
   "metadata": {},
   "outputs": [],
   "source": [
    "from sklearn.decomposition import PCA\n",
    "import umap\n",
    "from sklearn.manifold import TSNE"
   ]
  },
  {
   "cell_type": "markdown",
   "id": "d2f45b4d-57de-4c38-846f-9d3a1492cba4",
   "metadata": {},
   "source": [
    "Primero vamos a aplicar algunas transformaciones a los datos."
   ]
  },
  {
   "cell_type": "code",
   "execution_count": null,
   "id": "2412d982-26ad-444d-8ab3-c3e0db3f696e",
   "metadata": {},
   "outputs": [],
   "source": [
    "mapper_dim_red = DataFrameMapper([\n",
    "    (['age'], [StandardScaler()]),\n",
    "    (['gender'], [LabelBinarizer()]),\n",
    "    (['education'], [OneHotEncoder()]),\n",
    "    (['country'], [LabelBinarizer()]),\n",
    "    (['n_score'], [StandardScaler()]),\n",
    "    (['e_score'], [StandardScaler()]),\n",
    "    (['o_score'], [StandardScaler()]),\n",
    "    (['a_score'], [StandardScaler()]),\n",
    "    (['c_score'], [StandardScaler()]),\n",
    "    (['impulsive'], [StandardScaler()]),\n",
    "    (['sensibility'], [StandardScaler()])\n",
    "])\n",
    "\n",
    "# Realizamos la transformación de los datos ignorando la columna 'coke'\n",
    "data_transformada = mapper_dim_red.fit_transform(data.drop(columns=['coke']))"
   ]
  },
  {
   "cell_type": "markdown",
   "id": "9a90a741-cee5-4b20-b027-f5487a259ac6",
   "metadata": {},
   "source": [
    "Aplicamos PCA a nuestro dataset y graficamos la varianza: "
   ]
  },
  {
   "cell_type": "code",
   "execution_count": null,
   "id": "64a3ff7a-3ff2-4655-8ef3-f7490b493a23",
   "metadata": {},
   "outputs": [],
   "source": [
    "varianza = []\n",
    "for n in range(1, min(data_transformada.shape[1], 11) + 1):\n",
    "    pca = PCA(n_components=n)\n",
    "    pca.fit(data_transformada)\n",
    "    varianza.append(np.sum(pca.explained_variance_ratio_))\n",
    "\n",
    "# Generamos un gráfico de la varianza para poder analizar cual es la mejor reducción.\n",
    "plt.figure(figsize=(8, 5))\n",
    "plt.plot(range(1, len(varianza) + 1), varianza, marker='o')\n",
    "plt.title('Varianza Explicada Acumulativa por Número de Componentes empleando PCA')\n",
    "plt.xlabel('Número de Componentes')\n",
    "plt.ylabel('Varianza Explicada Acumulativa')\n",
    "plt.grid(True)\n",
    "plt.show()"
   ]
  },
  {
   "cell_type": "markdown",
   "id": "42eb884f-6253-4e5f-9fc5-5c46a9c043d9",
   "metadata": {},
   "source": [
    "Se puede observar un incremento considerable de la varianza al principio, la cual disminuye considerablemente a partir de los 6-7 componentes, por lo que estos pueden ser buenos números para la reducción. Para lo experimentos emplearemos n = [2,3,6] para poder medir.\n",
    "\n",
    "Primero lo haremos con 2 y 3 para poder emplear TSNE, y luego con 6 usando PCA y UMAP"
   ]
  },
  {
   "cell_type": "code",
   "execution_count": null,
   "id": "e157f24a-b607-4228-9195-41d98f816548",
   "metadata": {},
   "outputs": [],
   "source": [
    "#Nos traemos la función para graficar\n",
    "def plot_data(data, labels=None, title=None, legend=True, centroids=None):\n",
    "    plt.figure(figsize=(7,5), dpi=100)\n",
    "    if labels is not None:\n",
    "        if isinstance(labels, list):\n",
    "            labels = np.array(labels)\n",
    "\n",
    "        unique_labels = list(sorted(set(x for x in labels if str(x) != '-1')))\n",
    "        labels = np.array(list(map(str, labels)))\n",
    "        if '-1' in labels:\n",
    "            plt.scatter(data[labels=='-1', 0], data[labels=='-1', 1], s=5, c='black', alpha=0.5)\n",
    "\n",
    "\n",
    "        for i, label in enumerate(unique_labels):\n",
    "            label = str(label)\n",
    "            plt.scatter(data[labels==label, 0], data[labels==label, 1], s=5, c='C{}'.format(i),\n",
    "                        cmap='viridis', label=label, alpha=0.5)\n",
    "\n",
    "            if centroids is not None:\n",
    "                plt.scatter(centroids[i, 0], centroids[i, 1], s=250, c='white', marker='o')\n",
    "                plt.scatter(centroids[i, 0], centroids[i, 1], s=100, marker='X')\n",
    "\n",
    "        if legend:\n",
    "            plt.legend(fontsize=10, markerscale=3, loc='upper left', bbox_to_anchor=(1, 1))\n",
    "    else:\n",
    "        plt.scatter(data[:, 0], data[:, 1], s=5, color='grey', alpha=0.5)\n",
    "\n",
    "    if title:\n",
    "        plt.title(title)\n",
    "    plt.axis('off')"
   ]
  },
  {
   "cell_type": "code",
   "execution_count": null,
   "id": "952490db-9f37-4206-a8a3-976f8a6cf856",
   "metadata": {},
   "outputs": [],
   "source": [
    "#Funcion que para un numero de componentes aplica PCA, UMAP Y T-SNE al dataset\n",
    "def plot_dr(data, labels=None, n_components = 2):\n",
    "\n",
    "    # PCA\n",
    "    pca = PCA(n_components=n_components)\n",
    "    pca_result = pca.fit_transform(data)\n",
    "    plot_data(pca_result, labels=labels, title='PCA', legend=True)\n",
    "\n",
    "    # UMAP\n",
    "    umap_model = umap.UMAP(n_components=n_components)\n",
    "    umap_result = umap_model.fit_transform(data)\n",
    "    plot_data(umap_result, labels=labels, title='UMAP', legend=True)\n",
    "\n",
    "    # T-SNE\n",
    "    if n_components <= 3:\n",
    "        tsne_model = TSNE(n_components=n_components, random_state=42)\n",
    "        tsne_result = tsne_model.fit_transform(data)\n",
    "        plot_data(tsne_result, labels=labels, title='T-SNE', legend=True)"
   ]
  },
  {
   "cell_type": "markdown",
   "id": "1b34aead-0fed-461e-9fa6-db1d052fb3aa",
   "metadata": {},
   "source": [
    "#### Con 2 componentes"
   ]
  },
  {
   "cell_type": "code",
   "execution_count": null,
   "id": "a306d597-23a4-4e93-aa1f-b335d419fcd5",
   "metadata": {},
   "outputs": [],
   "source": [
    "labels_dr = data['coke'].values\n",
    "plot_dr(data=data_transformada,labels=labels_dr, n_components=2)"
   ]
  },
  {
   "cell_type": "markdown",
   "id": "f2064076-1ea4-48cd-af21-46f6639e6688",
   "metadata": {},
   "source": [
    "En este caso podemos ver una mejoría en cuanto a la concentración de los datos en T-SNE y UMAP en comparación a PCA, pero los datos siguen muy dispersos y no son muy descriptivos."
   ]
  },
  {
   "cell_type": "markdown",
   "id": "5ce38efb-f672-4c9d-91d2-357595f8e871",
   "metadata": {},
   "source": [
    "#### Con 3 componentes"
   ]
  },
  {
   "cell_type": "code",
   "execution_count": null,
   "id": "a6d09cb8-467b-44d1-9958-02572239d4ed",
   "metadata": {},
   "outputs": [],
   "source": [
    "plot_dr(data=data_transformada,labels=labels_dr, n_components=3)"
   ]
  },
  {
   "cell_type": "markdown",
   "id": "7317e3ec-d6fc-4178-ba3f-8e8c40376747",
   "metadata": {},
   "source": [
    "Lo mismo que en el caso anterior, solo que vemos una mayor dispersión en t-SNE"
   ]
  },
  {
   "cell_type": "markdown",
   "id": "ecf38f93-f27b-4d5b-838e-861b848bf032",
   "metadata": {},
   "source": [
    "#### Con 6 componentes"
   ]
  },
  {
   "cell_type": "markdown",
   "id": "37f8c37a-4ccb-4937-abc6-d88c62c2c1eb",
   "metadata": {},
   "source": [
    "Recordemos que tSNE no podrá utilizarse en este caso por la cantidad de componentes"
   ]
  },
  {
   "cell_type": "code",
   "execution_count": null,
   "id": "57da1d23-3522-44e0-9102-8158765905ba",
   "metadata": {},
   "outputs": [],
   "source": [
    "#Lo aplicamos con n=6 (No funciona con t-sne)\n",
    "plot_dr(data=data_transformada,labels=labels_dr, n_components=6)"
   ]
  },
  {
   "cell_type": "markdown",
   "id": "789ef8fd-e566-451a-8943-52c0b6bc8863",
   "metadata": {},
   "source": [
    "Vemos una leve mejoría en cuanto a la concentración de puntos rosados en la parte inferior del gráfico de UMAP, pero sigue sin ser de ayuda."
   ]
  },
  {
   "cell_type": "markdown",
   "id": "e825b197-4338-451a-9c91-1ff69e9fb468",
   "metadata": {},
   "source": [
    "## Modelos entrenados empleando PCA de reducción de dimensiones"
   ]
  },
  {
   "cell_type": "code",
   "execution_count": null,
   "id": "5935195f-ae8c-4bf3-bcb0-348f9e3242a5",
   "metadata": {},
   "outputs": [],
   "source": [
    "def evaluate_model_salidas(model, X_train, y_train, X_val, y_val, title='', show_cm=False, average='weighted'):\n",
    "    \"\"\"\n",
    "    Evalúa un modelo en conjuntos de entrenamiento y validación para problemas multiclase.\n",
    "\n",
    "    Parameters:\n",
    "    - model: El modelo a evaluar.\n",
    "    - X_train, y_train: Conjunto de entrenamiento.\n",
    "    - X_val, y_val: Conjunto de validación.\n",
    "    - title: Título opcional para mostrar en la salida.\n",
    "    - show_cm: Booleano para decidir si mostrar la matriz de confusión.\n",
    "    - average: Tipo de promedio para las métricas ('micro', 'macro', 'weighted', None).\n",
    "\n",
    "    Returns:\n",
    "    - DataFrame con métricas de rendimiento (Accuracy, Precision, Recall, F1).\n",
    "    \"\"\"\n",
    "    if title:\n",
    "        display(title)\n",
    "\n",
    "    final_metrics = {\n",
    "        'Accuracy': [],\n",
    "        'Precision': [],\n",
    "        'Recall': [],\n",
    "        'F1': [],\n",
    "    }\n",
    "\n",
    "    # Diccionario para iterar sobre los conjuntos\n",
    "    datasets = {\n",
    "        'train': (X_train, y_train),\n",
    "        'validation': (X_val, y_val),\n",
    "    }\n",
    "\n",
    "    for set_name, (X, y) in datasets.items():\n",
    "        y_pred = model.predict(X)\n",
    "        final_metrics['Accuracy'].append(metrics.accuracy_score(y, y_pred))\n",
    "        final_metrics['Precision'].append(metrics.precision_score(y, y_pred, average=average))\n",
    "        final_metrics['Recall'].append(metrics.recall_score(y, y_pred, average=average))\n",
    "        final_metrics['F1'].append(metrics.f1_score(y, y_pred, average=average))\n",
    "\n",
    "        if show_cm:\n",
    "            cm = metrics.confusion_matrix(y, y_pred)\n",
    "            cm_plot = metrics.ConfusionMatrixDisplay(confusion_matrix=cm,\n",
    "                                                     display_labels=model.classes_)\n",
    "            cm_plot.plot(cmap=\"Blues\")\n",
    "            cm_plot.ax_.set_title(f'Confusion Matrix - {set_name}')\n",
    "\n",
    "    # Mostrar las métricas en un DataFrame\n",
    "    metrics_df = pd.DataFrame(final_metrics, index=['train', 'validation'])\n",
    "    display(metrics_df)\n",
    "    \n",
    "\n",
    "#separamos entradas y salidas  \n",
    "entradas = data.drop(columns=['coke'])\n",
    "salida = data['coke']"
   ]
  },
  {
   "cell_type": "code",
   "execution_count": null,
   "id": "8cb7d8bd-506a-4e59-a8bf-d81573aace3a",
   "metadata": {},
   "outputs": [],
   "source": [
    "# Identificar las columnas categóricas, booleanas y numéricas\n",
    "categorical_columns = entradas.select_dtypes(include=['object']).columns\n",
    "numeric_columns = entradas.select_dtypes(include=['int64', 'float64']).columns\n",
    "\n",
    "print(categorical_columns)\n",
    "print(numeric_columns)"
   ]
  },
  {
   "cell_type": "code",
   "execution_count": null,
   "id": "e5c033ae-f123-471a-8f88-52aac40ef0ad",
   "metadata": {},
   "outputs": [],
   "source": [
    "mapper_PCA = DataFrameMapper([\n",
    "    (['age'], [StandardScaler()]),\n",
    "    (['gender'], [LabelBinarizer()]),\n",
    "    (['education'], [OneHotEncoder()]),\n",
    "    (['country'], [LabelBinarizer()]),\n",
    "    (['n_score'], [StandardScaler()]),\n",
    "    (['e_score'], [StandardScaler()]),\n",
    "    (['o_score'], [StandardScaler()]),\n",
    "    (['a_score'], [StandardScaler()]),\n",
    "    (['c_score'], [StandardScaler()]),\n",
    "    (['impulsive'], [StandardScaler()]),\n",
    "    (['sensibility'], [StandardScaler()]),\n",
    "],df_out=True)\n",
    "mapper_PCA.fit(entradas)\n",
    "data_transformada = mapper_PCA.transform(entradas)\n",
    "data_transformada.head()"
   ]
  },
  {
   "cell_type": "code",
   "execution_count": null,
   "id": "9cdc4012-c6bd-44a3-9f32-cf75a6165681",
   "metadata": {
    "scrolled": true
   },
   "outputs": [],
   "source": [
    "\n",
    "pca = PCA(n_components=6)\n",
    "data_transformada_pca = pca.fit_transform(data_transformada)\n",
    "#Creamos un DataFrame con los componentes generados a partir de las transformaciones:\n",
    "data_transformada_pca_df = pd.DataFrame(data_transformada_pca, columns=[f'PC{i+1}' for i in range(data_transformada_pca.shape[1])])\n",
    "data_transformada_pca_df.head(5)"
   ]
  },
  {
   "cell_type": "code",
   "execution_count": null,
   "id": "7ec33bbe-becd-4ee7-b7e3-7510d8472b3a",
   "metadata": {},
   "outputs": [],
   "source": [
    "train, not_train, salida_train, salida_not_train= train_test_split(data_transformada_pca_df, salida, test_size = 0.4, random_state = semilla)\n",
    "validation, test, salida_validation, salida_test = train_test_split(not_train, salida_not_train, test_size = 0.5, random_state = 42)\n",
    "train.shape, salida_train.shape, validation.shape, salida_validation.shape, test.shape, salida_test.shape"
   ]
  },
  {
   "cell_type": "markdown",
   "id": "bbc94ee2-69a8-4946-8537-64ca22f6ea92",
   "metadata": {},
   "source": [
    "### KNN usando Grid Search"
   ]
  },
  {
   "cell_type": "code",
   "execution_count": null,
   "id": "0526f2e2-ec10-49ec-bf70-23b15a8ebd99",
   "metadata": {
    "scrolled": true
   },
   "outputs": [],
   "source": [
    "clf_PCA = KNeighborsClassifier(n_neighbors=1)\n",
    "parameters = {'n_neighbors': [1, 3, 5, 10, 15, 20, 50, 100, 200]}\n",
    "knn_PCA = GridSearchCV(clf_PCA, parameters, refit=True, verbose=1)\n",
    "knn_PCA.fit(train, salida_train)\n",
    "knn_PCA.best_score_, knn_PCA.best_params_"
   ]
  },
  {
   "cell_type": "code",
   "execution_count": null,
   "id": "96e6d9b1-9162-4847-b11d-931a9248f80c",
   "metadata": {},
   "outputs": [],
   "source": [
    "evaluate_model_salidas(knn_PCA, train, salida_train, validation, salida_validation, title='', show_cm=False)"
   ]
  },
  {
   "cell_type": "markdown",
   "id": "cd305d4f-1285-48a9-93f3-ba98bc1f450c",
   "metadata": {},
   "source": [
    "No obtuvimos resultados mejores."
   ]
  },
  {
   "cell_type": "markdown",
   "id": "82866f4e-156f-4b01-9452-7feed5d99027",
   "metadata": {},
   "source": [
    "### Logistic Regression"
   ]
  },
  {
   "cell_type": "code",
   "execution_count": null,
   "id": "31f6ea33-da43-4d74-a163-8a5f707c2f50",
   "metadata": {},
   "outputs": [],
   "source": [
    "lr_PCA = LogisticRegression().fit(train,salida_train)\n",
    "\n",
    "evaluate_model_salidas(lr_PCA, train, salida_train, validation, salida_validation, title='', show_cm=False)"
   ]
  },
  {
   "cell_type": "markdown",
   "id": "e7e4f968-d845-4c08-816c-378ccbf55d99",
   "metadata": {},
   "source": [
    "### Random Forests"
   ]
  },
  {
   "cell_type": "code",
   "execution_count": null,
   "id": "9e3989dd-8043-4d19-8792-8c7de598712e",
   "metadata": {},
   "outputs": [],
   "source": [
    "rf_PCA = RandomForestClassifier(n_estimators=100, max_depth=10, max_features=8, random_state=semilla)\n",
    "\n",
    "# Entrenar el pipeline\n",
    "rf_PCA.fit(train, salida_train)\n",
    "evaluate_model_salidas(rf_PCA, train, salida_train, validation, salida_validation, title='', show_cm=False)"
   ]
  },
  {
   "cell_type": "markdown",
   "id": "a49e2e63-1de3-439d-a0ca-5946be41f7e4",
   "metadata": {},
   "source": [
    "Está overfitteando."
   ]
  },
  {
   "cell_type": "markdown",
   "id": "97ecdc21-1275-43fb-82c4-1e09729c2c05",
   "metadata": {},
   "source": [
    "### Random Forests empleando Grid Search"
   ]
  },
  {
   "cell_type": "code",
   "execution_count": null,
   "id": "6648b780-1f3b-42aa-81aa-c1ec7ba36384",
   "metadata": {},
   "outputs": [],
   "source": [
    "clf = RandomForestClassifier(class_weight='balanced', criterion='entropy', random_state=semilla)\n",
    "\n",
    "parameters = {'n_estimators': [100, 150, 200, 250, 300, 350],\n",
    "              'max_depth':[3, 5, 8],\n",
    "              'max_features': [4, 5, 7]}\n",
    "rfgs_PCA = GridSearchCV(clf, parameters, refit=True, verbose=1)\n",
    "rfgs_PCA.fit(train, salida_train)\n",
    "evaluate_model_salidas(rf_PCA, train, salida_train, validation, salida_validation, title='', show_cm=False)"
   ]
  },
  {
   "cell_type": "markdown",
   "id": "02fba8e9-1d28-4e27-9afa-5f12c9f97ce8",
   "metadata": {},
   "source": [
    "Al igual que el anterior está overfitteando."
   ]
  },
  {
   "cell_type": "markdown",
   "id": "11480511-9662-48e4-9a22-37e6b560845f",
   "metadata": {
    "jp-MarkdownHeadingCollapsed": true
   },
   "source": [
    "##Matrices de confusión\n",
    "En los 3 modelos se puede visualizar que, aunque existen buenas cantidades de verdaderos positivos, la cantidad de falsos positivos y falsos negativos es muy alta. En los 3 casos de prueba se logra ver que las cantidades de predicciones falsas de 'no consume' y las predicciones verdaderas de 'consume' tienen valores muy cercanos. Esto hace que el resultado no sea óptimo, ya que no se puede aceptar un modelo que falle aproximadamente lo mismo que acierte."
   ]
  },
  {
   "cell_type": "code",
   "execution_count": null,
   "id": "57c8c6ab-984d-4539-acd0-7b371a8bc8b3",
   "metadata": {},
   "outputs": [],
   "source": [
    "evaluate_model(lr_model, set_names=('test_binario',), title='LR con variables psicológicas', show_cm=True)"
   ]
  },
  {
   "cell_type": "code",
   "execution_count": null,
   "id": "5d5f801c-0d1a-43c0-8159-bb61374f0987",
   "metadata": {},
   "outputs": [],
   "source": [
    "evaluate_model(gs_pipe_forests, set_names=('test_binario',), title='Random Forest from Grid Search', show_cm=True)"
   ]
  },
  {
   "cell_type": "code",
   "execution_count": null,
   "id": "cb53e75e-6060-4d4d-affe-825f1887a767",
   "metadata": {},
   "outputs": [],
   "source": [
    "evaluate_model(lr_binning_model, set_names=('test_binario',), title='LR con variables psicológicas y binning', show_cm=True)"
   ]
  },
  {
   "cell_type": "markdown",
   "id": "f07fc69f",
   "metadata": {},
   "source": [
    "# Conclusión  \n",
    "Teniendo en cuenta las métricas de todas las pruebas anteriores que realizamos con distintos modelos, llegamos a la conclusión de que, con las variables que tiene el dataset o bien la muestra con la que cuenta el mismo, nuestro objetivo no es predecible.\n",
    "\n",
    "Basándonos en esta conclusión y en los resultados de nuestras pruebas, en el caso de que se requiera una métrica que presentar a un posible cliente, lo más óptimo es compartir no solo una, sino un análisis general de todas las distintas métricas que se obtuvieron de las pruebas con cada modelo. Esto para demostrar que ningún modelo o transformación nos entrega un valor que nosotros consideremos válido u óptimo para entregar predicciones de calidad.\n",
    "\n",
    "Intentando encontrar una causa para estos resultados, planteamos las siguientes hipótesis:\n",
    "\n",
    "1. Las variables con las que cuenta el dataset no son suficientes para predecir si una persona consume o no.\n",
    "2. La muestra de personas que se tomó para la realización de este dataset no brinda la suficiente información para predecir si consumen o no.\n",
    "3. El dataset está muy desbalanceado, teniendo muchos casos de personas que no consumieron con respecto a las que sí consumieron.\n",
    "\n",
    "Esta última hipótesis la comprobamos generando un diagrama en el que los resultados fueron como lo esperábamos: la gran mayoría nunca había consumido.\n",
    "\n",
    "En ese mismo sentido, usamos el parametro 'balance' en los modelos, buscando lograr que su cantidad se acerque más a la del resto de clasificaciones, y las métricas fueron las peores que habíamos obtenido hasta el momento.\n",
    "\n",
    "### Comparación con otras drogas del dataset:  \n",
    "Buscando comparaciones en Kaggle para ver si era un problema nuestro o del dataset, encontramos distintos análisis sobre los mismos datos que elegimos. En aquellos que vimos, llegaban a los mismos resultados y métricas que en nuestro caso. Todo esto relacionado con la variable de cocaína. En la gran mayoría de las otras drogas, las métricas eran bastante más óptimas.\n",
    "\n",
    "Probablemente, si hubiéramos elegido alguna otra variable del grupo de sustancias, estos problemas no se nos hubieran presentado.\n",
    "\n",
    "Para poder ver con más detalle por qué llegamos a esta conclusión, basándonos en los resultados obtenidos, generamos matrices de confusión de los modelos con salidas binarias:"
   ]
  },
  {
   "cell_type": "markdown",
   "id": "29947a1f-f91d-4fb8-b78b-1d11eb235cca",
   "metadata": {},
   "source": [
    "## Modelos entrenados con variables psicologicas y no psicologicas:"
   ]
  },
  {
   "cell_type": "code",
   "execution_count": null,
   "id": "ecf682b6-d4c2-4401-bc4e-6db19a34a323",
   "metadata": {},
   "outputs": [],
   "source": [
    "train, not_train = train_test_split(data, test_size=0.4, random_state=semilla)\n",
    "# Despues separamos no_train en validation y test\n",
    "validation, test = train_test_split(not_train, test_size=0.5, random_state=semilla)\n",
    "train.shape, validation.shape, test.shape\n",
    "lr_model = Pipeline([\n",
    "    ('mapper', lr_mapper),\n",
    "    ('classifier', LogisticRegression(random_state=semilla)),\n",
    "])\n",
    "lr_model.fit(train, train.coke)\n",
    "\n",
    "y_pred = lr_model.predict(validation)"
   ]
  },
  {
   "cell_type": "code",
   "execution_count": null,
   "id": "020e9afa-7e14-45c7-aa11-f541bc9e9dcb",
   "metadata": {},
   "outputs": [],
   "source": [
    "evaluate_model(lr_model, title='LR con variables psicológicas', multiclase=True)"
   ]
  },
  {
   "cell_type": "code",
   "execution_count": null,
   "id": "618f9a4f-9fed-4100-983f-f8d67023df6d",
   "metadata": {},
   "outputs": [],
   "source": [
    "evaluate_model(lr2_model, title='LR con variables psicológicas', multiclase=True)"
   ]
  },
  {
   "cell_type": "code",
   "execution_count": null,
   "id": "fb4cd2cf-f06a-476f-a18a-f6736f4a9a3e",
   "metadata": {},
   "outputs": [],
   "source": [
    "evaluate_model(gs_pipe_knn, title='Knn from Grid Search', multiclase=True)"
   ]
  },
  {
   "cell_type": "code",
   "execution_count": null,
   "id": "2278c8e9-0ed3-49bd-8186-2e73a2e0d754",
   "metadata": {},
   "outputs": [],
   "source": [
    "evaluate_model(gs_pipe_rf, title='Random Forest from Grid Search', multiclase=True)"
   ]
  },
  {
   "cell_type": "code",
   "execution_count": null,
   "id": "df49731b-1646-4ffd-ae86-3cfee73087e0",
   "metadata": {},
   "outputs": [],
   "source": [
    "evaluate_model(lr_model, set_names=('train_binario', 'validation_binario', 'test_binario'), title='LR con variables psicológicas')"
   ]
  },
  {
   "cell_type": "code",
   "execution_count": null,
   "id": "55769b24-6171-4a2c-bb7a-0f471bbc7d10",
   "metadata": {},
   "outputs": [],
   "source": [
    "knn_clf = KNeighborsClassifier(n_neighbors=1)\n",
    "parameters = {'n_neighbors': [1, 3, 5, 10, 15, 20, 50, 100, 200]}\n",
    "\n",
    "clf = GridSearchCV(knn_clf, parameters, refit=True, verbose=1)\n",
    "\n",
    "gs_pipe = Pipeline([\n",
    "    # Usamos el mismo mapper que para logistic regression\n",
    "    ('mapper', lr_mapper),\n",
    "    ('classifier', clf),\n",
    "])\n",
    "\n",
    "gs_pipe.fit(train_binario, train_binario.coke)\n",
    "\n",
    "clf.best_score_, clf.best_params_\n",
    "evaluate_model(gs_pipe, set_names=('train_binario', 'validation_binario', 'test_binario'), title='kNN con variables psicológicas')"
   ]
  },
  {
   "cell_type": "code",
   "execution_count": null,
   "id": "b478c4c9-c390-487b-960b-40c4eb39a889",
   "metadata": {},
   "outputs": [],
   "source": [
    "evaluate_model(gs_pipe_forests, set_names=('train_binario', 'validation_binario', 'test_binario'), title='Random Forest from Grid Search')"
   ]
  },
  {
   "cell_type": "code",
   "execution_count": null,
   "id": "71a947ab-9461-422e-913c-5e0c79228d64",
   "metadata": {},
   "outputs": [],
   "source": [
    "evaluate_model(lr_binning_model, set_names=('train_binario', 'validation_binario', 'test_binario'), title='LR con variables psicológicas y binning')"
   ]
  },
  {
   "cell_type": "code",
   "execution_count": null,
   "id": "4a8dee98-b695-4405-b1cd-ed72d2c40e5d",
   "metadata": {},
   "outputs": [],
   "source": [
    "evaluate_model(gs_pipe, set_names=('train_binario_comb', 'validation_binario_comb', 'test_binario_comb'), title='Random Forest con Combinación')"
   ]
  },
  {
   "cell_type": "code",
   "execution_count": null,
   "id": "c8884173-aba1-42fb-b853-043040948b9c",
   "metadata": {},
   "outputs": [],
   "source": [
    "evaluate_model(lr_complete_binning_model, set_names=(\"train_ordinal\", \"validation_ordinal\", \"test_ordinal\"), title='LR completo con binning', multiclase=True)"
   ]
  },
  {
   "cell_type": "code",
   "execution_count": null,
   "id": "632f1660-5687-44ef-a0e3-973cfc10a890",
   "metadata": {},
   "outputs": [],
   "source": [
    "evaluate_model(lr_complete_binning_model_balanced, set_names=(\"train_ordinal\", \"validation_ordinal\", \"test_ordinal\"), title='LR completo con binning balanceado', multiclase=True)"
   ]
  },
  {
   "cell_type": "code",
   "execution_count": null,
   "id": "34249208-f996-4865-8299-ca8358235957",
   "metadata": {},
   "outputs": [],
   "source": [
    "evaluate_model(gs_pipe_knn_completo, set_names=(\"train_ordinal\", \"validation_ordinal\", \"test_ordinal\"), title='Knn from Grid Search', multiclase=True)"
   ]
  },
  {
   "cell_type": "markdown",
   "id": "dbff1a8f-0cca-4566-ba09-2e52a4eb16c9",
   "metadata": {},
   "source": [
    "## Aplicando modificacion de transformaciones y salidas binarias."
   ]
  },
  {
   "cell_type": "code",
   "execution_count": null,
   "id": "7e0685ca-6227-43a4-ad87-87387feca9a8",
   "metadata": {},
   "outputs": [],
   "source": [
    "evaluate_model(gs_pipe_forests_last_chance, set_names=(\"train_binario_2\", \"validation_binario_2\"), title='Random Forests Last Chance')"
   ]
  },
  {
   "cell_type": "code",
   "execution_count": null,
   "id": "1808a34f-72c1-491f-8ff3-fbc35b23f581",
   "metadata": {},
   "outputs": [],
   "source": [
    "evaluate_model(lr_last_chance, set_names=(\"train_binario_2\", \"validation_binario_2\", \"test_binario_2\"), title='LR Last Chance')"
   ]
  },
  {
   "cell_type": "code",
   "execution_count": null,
   "id": "1e6d9b0f-c82a-43aa-ac47-4689baf4f94c",
   "metadata": {},
   "outputs": [],
   "source": [
    "evaluate_model(lr_original, set_names=(\"train_original\", \"validation_original\", \"test_original\"), title='LR Original', multiclase = True)"
   ]
  },
  {
   "cell_type": "markdown",
   "id": "194b8d64-f503-47e9-b8e7-9aeb82848361",
   "metadata": {},
   "source": [
    "## Aplicando técnicas de reducción de dimensiones"
   ]
  },
  {
   "cell_type": "code",
   "execution_count": null,
   "id": "b6d2cfd6-1171-49c6-b272-74801f48c2a0",
   "metadata": {},
   "outputs": [],
   "source": [
    "evaluate_model_salidas(knn_PCA, train_dr, salida_train_dr, validation_dr, salida_validation_dr, title='', show_cm=False)"
   ]
  },
  {
   "cell_type": "code",
   "execution_count": null,
   "id": "46f6ced5-e903-457b-83dd-042135b696ca",
   "metadata": {},
   "outputs": [],
   "source": [
    "evaluate_model_salidas(lr_PCA, train_dr, salida_train_dr, validation_dr, salida_validation_dr, title='', show_cm=False)"
   ]
  },
  {
   "cell_type": "code",
   "execution_count": null,
   "id": "29a000ea-cdc7-4c35-81bf-da286c775a85",
   "metadata": {},
   "outputs": [],
   "source": [
    "evaluate_model_salidas(rf_PCA, train_dr, salida_train_dr, validation_dr, salida_validation_dr, title='', show_cm=False)"
   ]
  }
 ],
 "metadata": {
  "kernelspec": {
   "display_name": "Python 3 (ipykernel)",
   "language": "python",
   "name": "python3"
  },
  "language_info": {
   "codemirror_mode": {
    "name": "ipython",
    "version": 3
   },
   "file_extension": ".py",
   "mimetype": "text/x-python",
   "name": "python",
   "nbconvert_exporter": "python",
   "pygments_lexer": "ipython3",
   "version": "3.12.5"
  }
 },
 "nbformat": 4,
 "nbformat_minor": 5
}
