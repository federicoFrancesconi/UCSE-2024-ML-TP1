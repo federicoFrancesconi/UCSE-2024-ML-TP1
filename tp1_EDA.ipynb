{
 "cells": [
  {
   "cell_type": "markdown",
   "id": "9c8f79e8-3d7f-4f90-b893-4a2d1612d838",
   "metadata": {},
   "source": [
    "# Machine Learning - TP 1: Exploratory Data Analalysis (EDA)"
   ]
  },
  {
   "cell_type": "markdown",
   "id": "0e14bdb1-e66b-47f1-9ea5-e8453fcdd18d",
   "metadata": {},
   "source": [
    "![Calavera hecha con Cocaína](https://cdn.anaheimlighthouse.com/wp-content/uploads/2022/05/Can-You-Die-From-Cocaine-The-Lethal-Truth-About-This-Dangerous-Drug-2.jpg)"
   ]
  },
  {
   "cell_type": "markdown",
   "id": "8dfe3be4-be77-46c2-9e07-51342b61f9e7",
   "metadata": {},
   "source": [
    "## Diccionario de datos\n",
    "El [Dataset empleado](https://www.kaggle.com/datasets/mexwell/drug-consumption-classification) recopila información de 1885 sujetos, donde se recopila información al respecto y se indica que frecuencia de consumo posee de determinada sustancia"
   ]
  },
  {
   "cell_type": "markdown",
   "id": "3dda2fd2-3146-4fd6-b183-a8aa52c4bd1f",
   "metadata": {},
   "source": [
    "<table>\n",
    "  <tr>\n",
    "    <th><b>Variable</b></th>\n",
    "    <th><b>Definición</b></th>\n",
    "    <th><b>Posibles valores</b></th>\n",
    "  </tr>\n",
    "  <tr>\n",
    "    <td>ID</td>\n",
    "    <td>ID por defecto del dataset</td>\n",
    "    <td></td>\n",
    "  </tr>\n",
    "  <tr>\n",
    "    <td>Age</td>\n",
    "    <td>Edad del participante</td>\n",
    "    <td>\n",
    "      <b>-0.95197</b> = 18-24 <br>\n",
    "      <b>-0.07854</b> = 25 - 34 <br>\n",
    "      <b> 0.49788</b> = 35 - 44 <br>\n",
    "      <b> 1.09449</b> = 45 - 54 <br>\n",
    "      <b> 1.82213</b> = 55 - 64 <br>\n",
    "      <b> 2.59171</b> = 65+\n",
    "    </td>\n",
    "  </tr>\n",
    "  <tr>\n",
    "    <td>Gender</td>\n",
    "      <td>Género del participante</td>\n",
    "      <td>\n",
    "         <b> 0.48246</b> = Female <br>\n",
    "         <b>-0.48246</b> = Male <br>\n",
    "      </td>\n",
    "  </tr>\n",
    " <tr>\n",
    "     <td>Education</td>\n",
    "     <td>Nivel de educación máximo alcanzado por el participante</td>\n",
    "     <td>\n",
    "        <b>-2.43591</b>: Left School Before 16 years <br>\n",
    "        <b>-1.73790</b>: Left School at 16 years <br>\n",
    "        <b>-1.43719</b>: Left School at 17 years <br>\n",
    "        <b>-1.22751</b>: Left School at 18 years <br>\n",
    "        <b>-0.61113</b>: Some College, No Certificate Or Degree <br>\n",
    "        <b>-0.05921</b>: Professional Certificate/Diploma <br>\n",
    "        <b> 0.45468</b>: University Degree <br>\n",
    "        <b> 1.16365</b>: Masters Degree <br>\n",
    "        <b> 1.98437</b>: Doctorate Degree\n",
    "     </td>\n",
    "  </tr>\n",
    "<tr>\n",
    "    <td>Country</td>\n",
    "    <td>País de residencia del participante</td>\n",
    "    <td>\n",
    "        <b>-0.09765</b>: Australia <br>\n",
    "        <b> 0.24923</b>: Canada <br>\n",
    "        <b>-0.46841</b>: New Zealand <br>\n",
    "        <b>-0.28519</b>: Other <br>\n",
    "        <b> 0.21128</b>: Republic of Ireland <br>\n",
    "        <b> 0.96082</b>: UK <br>\n",
    "        <b>-0.57009</b>: USA\n",
    "    </td>\n",
    " </tr>\n",
    "<tr>\n",
    "    <td>Ethnicity</td>\n",
    "    <td>Etnia del participante</td>\n",
    "    <td>\n",
    "        <b>-0.50212</b>: Asian <br>\n",
    "        <b>-1.10702</b>: Black <br>\n",
    "        <b> 1.90725</b>: Mixed-Black/Asian <br>\n",
    "        <b> 0.12600</b>: Mixed-White/Asian <br>\n",
    "        <b>-0.22166</b>: Mixed-White/Black <br>\n",
    "        <b> 0.11440</b>: Other <br>\n",
    "        <b>-0.31685</b>: White\n",
    "    </td>\n",
    "</tr>\n",
    "    <tr>\n",
    "        <td>Nscore</td>\n",
    "        <td>Nivel de neuroticismo de una persona</td>\n",
    "        <td>Valores entre -3.46436 y 3.27393</td>\n",
    "    </tr>\n",
    "    <tr>\n",
    "        <td>Escore</td>\n",
    "        <td>Nivel de extroversión</td>\n",
    "        <td>Valores entre -3.27393 y 3.27393</td>\n",
    "    </tr>\n",
    "    <tr>\n",
    "        <td>Oscore</td>\n",
    "        <td>Nivel de apertura a nuevas experiencias</td>\n",
    "        <td>Valores entre -3.27393 y 2.90161</td>\n",
    "    </tr>\n",
    "    <tr>\n",
    "        <td>Ascore</td>\n",
    "        <td>Nivel de tendencia a ser compasivo, cooperativo y considerado con los demás</td>\n",
    "        <td>Valores entre -3.46436 y 3.46436</td>\n",
    "    </tr>\n",
    "    <tr>\n",
    "        <td>Cscore</td>\n",
    "        <td>Nivel de responsabilidad o autocontrol</td>\n",
    "        <td>Valores entre -3.46436 y 3.46436</td>\n",
    "    </tr>\n",
    "    <tr>\n",
    "        <td>Impulsive</td>\n",
    "        <td>Nivel de impulsividad</td>\n",
    "        <td>Valores entre -2.55524 y 2.90161</td>\n",
    "    </tr>\n",
    "    <tr>\n",
    "        <td>Sensation</td>\n",
    "        <td>Nivel de sensibilidad o capacidad para captar estímulos físicos</td>\n",
    "        <td>Valores entre -2.07848 y 1.92173</td>\n",
    "    </tr>\n",
    "    <tr>\n",
    "        <td>Substances</td>\n",
    "        <td>18 sustancias legales e ilegales listadas</td>\n",
    "        <td>\n",
    "            <b>CL0</b>: Never Used <br>\n",
    "            <b>CL1</b>: Used over a Decade Ago <br>\n",
    "            <b>CL2</b>: Used in Last Decade <br>\n",
    "            <b>CL3</b>: Used in Last Year <br>\n",
    "            <b>CL4</b>: Used in Last Month <br>\n",
    "            <b>CL5</b>: Used in Last Week <br>\n",
    "            <b>CL6</b>: Used in Last Day\n",
    "        </td>\n",
    "    </tr>\n",
    "</table>\n"
   ]
  },
  {
   "cell_type": "markdown",
   "id": "856946cc-4b9b-4906-8d9e-a76c0edecd63",
   "metadata": {},
   "source": [
    "## Notas sobre las variables\n",
    "**Age**: Empleada como variable de entrada.\n",
    "\n",
    "**Gender**: Empleada como variable de entrada.\n",
    "\n",
    "**Education**: Empleada como variable de entrada.\n",
    "\n",
    "**Country**: Empleada como variable de entrada.\n",
    "\n",
    "**Ethnicity**: Empleada como variable de entrada.\n",
    "\n",
    "**Nscore**: Un puntaje alto en Nscore sugiere que la persona es más propensa a tener reacciones emocionales intensas y a percibir situaciones cotidianas como estresantes. Por el contrario, un puntaje bajo indica una mayor estabilidad emocional y menor susceptibilidad al estrés. Empleada como variable de entrada.  \n",
    "\n",
    "**Escore**: Un puntaje alto en Escore indica que la persona es sociable, activa y enérgica, disfrutando de la compañía de otros y participando en actividades sociales. Un puntaje bajo sugiere una tendencia hacia la introversión, prefiriendo la soledad, la reflexión y las actividades más tranquilas. Empleada como variable de entrada.  \n",
    "\n",
    "**Oscore**: Un puntaje alto en Oscore indica una persona imaginativa, con interés en ideas novedosas, el arte y la aventura. Por el contrario, un puntaje bajo sugiere una preferencia por la rutina, lo familiar y un enfoque más convencional hacia la vida. Empleada como variable de entrada.  \n",
    "\n",
    "**Ascore**: Un puntaje alto en Ascore indica que la persona es empática, confiada y se lleva bien con los demás, priorizando la armonía en las relaciones. Un puntaje bajo sugiere que la persona puede ser más competitiva, escéptica o confrontativa, con menos preocupación por complacer a otros. Empleada como variable de entrada.  \n",
    "\n",
    "**Cscore**: Un puntaje alto en Cscore sugiere que la persona es meticulosa, confiable y orientada a objetivos, con una fuerte ética de trabajo y un buen manejo del tiempo. Un puntaje bajo indica una tendencia hacia la desorganización, la procrastinación y una menor atención a los detalles. Empleada como variable de entrada.  \n",
    "\n",
    "**Impulsiveness**: Un puntaje alto indica que el individuo es más propenso a actuar de manera impulsiva (realizar acciones sin meditar previamente). Empleada como variable de entrada.  \n",
    "\n",
    "**Sensation**: El puntaje obtenido indica el grado de sensibilidad del individuo ante estímulos. Empleada como variable de entrada.  \n",
    "\n",
    "**Coke**: Indica la última vez que un individuo ha consumido cocaína. Empleada como variable de salida. \n",
    "\n",
    "**Substances** : La mayoría de sustancias del dataset fueron descartadas, excepto oi"
   ]
  },
  {
   "cell_type": "markdown",
   "id": "f3d61312-4c36-4659-b6c7-91a8cbecc20b",
   "metadata": {},
   "source": [
    "## Dependencias"
   ]
  },
  {
   "cell_type": "code",
   "execution_count": null,
   "id": "33d2b6ee-9b09-4525-8167-82b2af85d9dc",
   "metadata": {},
   "outputs": [],
   "source": [
    "import pandas as pd\n",
    "import seaborn as sns\n",
    "import matplotlib.pyplot as plt"
   ]
  },
  {
   "cell_type": "markdown",
   "id": "c7847266-81e8-4ebd-b35a-719117b01d3b",
   "metadata": {},
   "source": [
    "## Importación de Dataset"
   ]
  },
  {
   "cell_type": "code",
   "execution_count": null,
   "id": "e6f12a2a-99f3-4304-8a0e-0828df60c545",
   "metadata": {},
   "outputs": [],
   "source": [
    "#Importamos el dataset\n",
    "data = pd.read_csv('./drug_consumption.csv')\n",
    "\n",
    "# Renombramos las columnas\n",
    "renamed_columns = {\n",
    "    'ID': 'id',\n",
    "    'Age': 'age',\n",
    "    'Gender': 'gender',\n",
    "    'Education': 'education',\n",
    "    'Country': 'country',\n",
    "    'Ethnicity': 'ethnicity',\n",
    "    'Nscore': 'n_score',\n",
    "    'Escore': 'e_score',\n",
    "    'Oscore': 'o_score',\n",
    "    'Ascore': 'a_score',\n",
    "    'Cscore': 'c_score',\n",
    "    'Impulsive': 'impulsive',\n",
    "    'SS': 'sensibility',\n",
    "    'Coke': 'coke',\n",
    "}\n",
    "\n",
    "data.rename(columns=renamed_columns, inplace=True)\n",
    "\n",
    "# Dejamos únicamente las variables que usaremos\n",
    "data = data[[\"age\", \"gender\", \"education\", \"country\", \"ethnicity\", \"n_score\", \"e_score\", \"o_score\", \"a_score\", \"c_score\", \"impulsive\", \"sensibility\", \"coke\"]]"
   ]
  },
  {
   "cell_type": "code",
   "execution_count": null,
   "id": "1b8a18a5-9c65-4c12-a49c-a3d1a27929c2",
   "metadata": {},
   "outputs": [],
   "source": [
    "data.sample(9)"
   ]
  },
  {
   "cell_type": "markdown",
   "id": "ed5e0e38-df71-4e58-91d9-a9fc7d7247a6",
   "metadata": {},
   "source": [
    "Debido a que muchas variables son numéricas cuando en realidad representan etiquetas, reemplazamos los valores para que el análisis en general sea más entendible"
   ]
  },
  {
   "cell_type": "code",
   "execution_count": null,
   "id": "4d352bc7-e76a-4837-9158-68d9ee703da9",
   "metadata": {},
   "outputs": [],
   "source": [
    "# Reemplazamos la edad\n",
    "age_mapping = {\n",
    "          -0.95197: '18-24',\n",
    "          -0.07854: '25-34',\n",
    "          0.49788: '35-44',\n",
    "          1.09449: '45-54',\n",
    "          1.82213: '55-64',\n",
    "          2.59171: '65+'\n",
    "          }\n",
    "data['age'] = data['age'].replace(age_mapping)\n",
    "\n",
    "# Reemplazamos el género\n",
    "gender_mapping = {\n",
    "            0.48246: 'Female',\n",
    "            -0.48246: 'Male'\n",
    "            }\n",
    "data['gender'] = data['gender'].replace(gender_mapping)\n",
    "\n",
    "# Reemplazamos la educación\n",
    "education_mapping = {\n",
    "            -2.43591: 'Left School Before 16 years',\n",
    "            -1.73790: 'Left School at 16 years',\n",
    "            -1.43719: 'Left School at 17 years',\n",
    "            -1.22751: 'Left School at 18 years',\n",
    "            -0.61113: 'Some College, No Certificate Or Degree',\n",
    "            -0.05921: 'Professional Certificate/ Diploma',\n",
    "            0.45468: 'University Degree',\n",
    "            1.16365: 'Masters Degree',\n",
    "            1.98437: 'Doctorate Degree',\n",
    "            }\n",
    "data['education'] = data['education'].replace(education_mapping)\n",
    "\n",
    "# Reemplazamos el país\n",
    "country_mapping = {\n",
    "            -0.09765: 'Australia',\n",
    "            0.24923: 'Canada',\n",
    "            -0.46841: 'New Zealand',\n",
    "            -0.28519: 'Other',\n",
    "            0.21128: 'Ireland',\n",
    "            0.96082: 'UK',\n",
    "            -0.57009: 'USA'\n",
    "            }\n",
    "data['country'] = data['country'].replace(country_mapping)\n",
    "\n",
    "# Reemplazamos la etnia\n",
    "ethnicity_mapping = {\n",
    "            -0.50212: 'Asian',\n",
    "            -1.10702: 'Black',\n",
    "            1.90725: 'Black/Asian',\n",
    "            0.12600: 'White/Asian',\n",
    "            -0.22166: 'White/Black',\n",
    "            0.11440: 'Other',\n",
    "            -0.31685: 'White'\n",
    "            }\n",
    "data['ethnicity'] = data['ethnicity'].replace(ethnicity_mapping)\n",
    "\n",
    "# Reemplazamos la variable de salida Coke\n",
    "usage_mapping = {\n",
    "    'CL0': 'Never',\n",
    "    'CL1': 'A Decade Ago',\n",
    "    'CL2': 'Last Decade',\n",
    "    'CL3': 'Last Year',\n",
    "    'CL4': 'Last Month',\n",
    "    'CL5': 'Last Week',\n",
    "    'CL6': 'Last Day',\n",
    "    }\n",
    "data['coke'] = data['coke'].replace(usage_mapping)"
   ]
  },
  {
   "cell_type": "markdown",
   "id": "d4218670",
   "metadata": {},
   "source": [
    "## Descripción general de los datos"
   ]
  },
  {
   "cell_type": "code",
   "execution_count": null,
   "id": "73b84ee2",
   "metadata": {},
   "outputs": [],
   "source": [
    "data.shape, data.drop_duplicates().shape"
   ]
  },
  {
   "cell_type": "markdown",
   "id": "cd7fca03",
   "metadata": {},
   "source": [
    "### Tipos de datos"
   ]
  },
  {
   "cell_type": "code",
   "execution_count": null,
   "id": "5974482f",
   "metadata": {},
   "outputs": [],
   "source": [
    "data.dtypes"
   ]
  },
  {
   "cell_type": "code",
   "execution_count": null,
   "id": "b13e06fc",
   "metadata": {},
   "outputs": [],
   "source": [
    "data.sample(3)"
   ]
  },
  {
   "cell_type": "markdown",
   "id": "8aa30b0b",
   "metadata": {},
   "source": [
    "## Identificacion de valores nulos"
   ]
  },
  {
   "cell_type": "code",
   "execution_count": null,
   "id": "dac40ff4",
   "metadata": {},
   "outputs": [],
   "source": [
    "data.isnull().sum()"
   ]
  },
  {
   "cell_type": "markdown",
   "id": "5b8f16e7",
   "metadata": {},
   "source": [
    "El conjunto de datos no posee valores nulos."
   ]
  },
  {
   "cell_type": "markdown",
   "id": "632ea6d2",
   "metadata": {},
   "source": [
    "## Análisis de la variable de salida"
   ]
  },
  {
   "cell_type": "code",
   "execution_count": null,
   "id": "acae2736",
   "metadata": {},
   "outputs": [],
   "source": [
    "data.coke.value_counts().plot.bar(title= \"Proporción de consumidores\")"
   ]
  },
  {
   "cell_type": "code",
   "execution_count": null,
   "id": "89a81cdf",
   "metadata": {},
   "outputs": [],
   "source": [
    "# Definir las categorías para separar entre consumidores y no consumidores\n",
    "Never = ['Never']\n",
    "AlmostOnce = ['A Decade Ago','Last Decade','Last Year','Last Month','Last Week','Last Day',]\n",
    "Consumo_recategorizado = data[['coke']].copy()\n",
    "# Agrupamos en consumidores y no consumidores\n",
    "Consumo_recategorizado['coke'] = Consumo_recategorizado['coke'].apply(lambda x: 'Never' if x in Never else 'Almost Once')\n",
    "Consumo_recategorizado.coke.value_counts().plot.bar(title= \"Proporción de consumidores\")"
   ]
  },
  {
   "cell_type": "code",
   "execution_count": null,
   "id": "14323ca2",
   "metadata": {},
   "outputs": [],
   "source": [
    "Consumo_recategorizado.coke.value_counts(normalize=True).plot.bar(title= \"Consumidores vs No consumidores\")"
   ]
  },
  {
   "cell_type": "markdown",
   "id": "12589eb7",
   "metadata": {},
   "source": [
    "Podemos ver una mayor presencia de personas que nunca consumieron la sustancia que de personas que si lo hicieron."
   ]
  },
  {
   "cell_type": "markdown",
   "id": "f1a6791a-2556-478f-8c85-584930dac986",
   "metadata": {},
   "source": [
    "## Análisis de variables de entrada"
   ]
  },
  {
   "cell_type": "markdown",
   "id": "0ec9030d-9c6d-4d0a-a231-9d937c68a433",
   "metadata": {},
   "source": [
    "### Age"
   ]
  },
  {
   "cell_type": "code",
   "execution_count": null,
   "id": "ece45eba-2bc6-447c-a4d8-8a9eb05750e6",
   "metadata": {},
   "outputs": [],
   "source": [
    "data.age.describe()"
   ]
  },
  {
   "cell_type": "markdown",
   "id": "8ba3fed1-f764-4b0d-ad48-bbedcbdbe681",
   "metadata": {},
   "source": [
    "Para comprender la distribución de las edades, podemos contar los individuos de cada rango etáreo"
   ]
  },
  {
   "cell_type": "code",
   "execution_count": null,
   "id": "be4d693b-6b7e-4125-9397-a0b9a8487d5c",
   "metadata": {},
   "outputs": [],
   "source": [
    "data.age.value_counts()"
   ]
  },
  {
   "cell_type": "code",
   "execution_count": null,
   "id": "21b53f2e-0039-4ff1-a5a2-12a9110a83e6",
   "metadata": {},
   "outputs": [],
   "source": [
    "# Filtramos el df\n",
    "df_age = data[['age','coke']]\n",
    "\n",
    "# Defino el orden en el que quiero que se visualicen las edades y el consumo\n",
    "age_order = ['18-24', '25-34', '35-44', '45-54', '55-64', '65+']\n",
    "coke_order = ['Never', 'A Decade Ago', 'Last Decade', 'Last Year', 'Last Month', 'Last Week', 'Last Day']\n",
    "\n",
    "sns.countplot(data=df_age, x='age', hue='coke', order=age_order, hue_order=coke_order)\n",
    "plt.xlabel('Edad')\n",
    "plt.ylabel('Casos')\n",
    "plt.title('Relación entre la edad y el consumo de cocaína')\n",
    "plt.show()"
   ]
  },
  {
   "cell_type": "markdown",
   "id": "c0ae72da-6022-4be1-b757-46408627ff52",
   "metadata": {},
   "source": [
    "Notamos que en el caso de los jóvenes, el consumo es más reciente, y a medida que la persona crece, es más probable que el consumo haya sido en el pasado lejano"
   ]
  },
  {
   "cell_type": "markdown",
   "id": "509f9ffb-6a60-4411-834a-4fb5764c71ac",
   "metadata": {},
   "source": [
    "**Posible Transformación**: Tenemos 6 valores posibles para la edad, por lo que podríamos pensar en un one-hot encoder. Sin embargo, al ser una variable ordinal, tranquilamente podríamos mapear cada \"clase\" al valor medio de dicho rango etáreo, y luego escalar."
   ]
  },
  {
   "cell_type": "markdown",
   "id": "99a593be-2f12-4220-b167-f81fe6b0d20d",
   "metadata": {},
   "source": [
    "### Gender"
   ]
  },
  {
   "cell_type": "code",
   "execution_count": null,
   "id": "72513303-f6da-4379-821e-a47423252ffa",
   "metadata": {},
   "outputs": [],
   "source": [
    "data.gender.value_counts()"
   ]
  },
  {
   "cell_type": "markdown",
   "id": "48508faa-3975-4745-b2ea-1c3320fda05c",
   "metadata": {},
   "source": [
    "Vemos que el balance es casi perfecto"
   ]
  },
  {
   "cell_type": "code",
   "execution_count": null,
   "id": "2780af19-8ca8-495f-895a-dd72bd9f4a84",
   "metadata": {},
   "outputs": [],
   "source": [
    "# Agrupamos el dataframe por consumo y género\n",
    "consumo_x_genero = data.groupby(['coke', 'gender']).size().unstack()\n",
    "\n",
    "print(consumo_x_genero)"
   ]
  },
  {
   "cell_type": "code",
   "execution_count": null,
   "id": "3a43a7f1-8fe2-477e-b4a5-298351c73f08",
   "metadata": {},
   "outputs": [],
   "source": [
    "# Definimos el orden correcto de la variable coke\n",
    "consumo_x_genero = consumo_x_genero.loc[coke_order]\n",
    "\n",
    "# Generamos un grafico de barras adyacentes\n",
    "consumo_x_genero.plot(kind='barh', stacked=False)\n",
    "\n",
    "plt.xlabel('Casos')\n",
    "plt.ylabel('Frecuencia')\n",
    "plt.title('Consumo de Cocaína por Género')\n",
    "plt.xticks(rotation=0)\n",
    "plt.legend(title='Género')\n",
    "\n",
    "plt.tight_layout()\n",
    "plt.show()"
   ]
  },
  {
   "cell_type": "markdown",
   "id": "2f7dea2a-b040-4f5f-a5ce-3f53246ec498",
   "metadata": {},
   "source": [
    "Evidentemente los hombres consumen más cocaína que las mujeres"
   ]
  },
  {
   "cell_type": "markdown",
   "id": "94ec44e8-1434-4a3c-a084-9578d91dca36",
   "metadata": {},
   "source": [
    "**Posible transformación**: en este caso, tenemos una columna con dos valores posibles. Está claro que debemos usar un one-hot encoder, que sería lo mismo que mapear los strings 'male' y 'female' a valores binarios."
   ]
  },
  {
   "cell_type": "markdown",
   "id": "f0969522-1b1b-4d05-8191-1361e41c5dae",
   "metadata": {},
   "source": [
    "### Education"
   ]
  },
  {
   "cell_type": "markdown",
   "id": "6b347ea3-f1c0-4da1-9cdb-6e8f036bd13e",
   "metadata": {},
   "source": [
    "Primero analizamos la distribución de la variable"
   ]
  },
  {
   "cell_type": "code",
   "execution_count": null,
   "id": "bab5e659-1e62-4542-bfe0-16ee15ee4fe4",
   "metadata": {},
   "outputs": [],
   "source": [
    "data.education.describe()"
   ]
  },
  {
   "cell_type": "code",
   "execution_count": null,
   "id": "6171420d-43a7-48df-8f73-14f369cd7823",
   "metadata": {},
   "outputs": [],
   "source": [
    "# Nos quedamos solo con las columnas que nos interesan\n",
    "df_education = data[['education','coke']]\n",
    "\n",
    "# Hacemos explícito el orden de educación\n",
    "education_order = [\n",
    "    'Left School Before 16 years',\n",
    "    'Left School at 16 years',\n",
    "    'Left School at 17 years',\n",
    "    'Left School at 18 years',\n",
    "    'Some College, No Certificate Or Degree',\n",
    "    'Professional Certificate/ Diploma',\n",
    "    'University Degree',\n",
    "    'Masters Degree',\n",
    "    'Doctorate Degree'\n",
    "]\n",
    "\n",
    "# Para aplicar el orden convertimos la columna education a columna Categórica\n",
    "df_education_converted = df_education.copy()\n",
    "df_education_converted['education'] = pd.Categorical(df_education_converted['education'], categories=education_order, ordered=True)\n",
    "\n",
    "df_education_converted.education.value_counts().sort_index()"
   ]
  },
  {
   "cell_type": "code",
   "execution_count": null,
   "id": "e469e844-44e8-4c63-8a73-f95edd169c0c",
   "metadata": {},
   "outputs": [],
   "source": [
    "# Contamos la cantidad de cada categoria por nivel educativo\n",
    "df_consumo_x_educacion = df_education_converted.groupby(['education', 'coke'], observed=False).size().unstack()\n",
    "\n",
    "# Generamos un grafico de barras apiladas\n",
    "df_consumo_x_educacion.plot.barh(stacked=True)\n",
    "\n",
    "plt.xlabel('Consumo')\n",
    "plt.ylabel('Nivel Educativo')\n",
    "plt.title('Consumo de cocaína por Nivel Educativo')\n",
    "plt.show()"
   ]
  },
  {
   "cell_type": "markdown",
   "id": "59dfa9dd-b1c2-443f-918f-93a4db9945ae",
   "metadata": {},
   "source": [
    "**Posible transformación:** sucede algo similar a lo que ocurre con la edad. Al ser una variable ordinal, podemos escalar los valores posibles para el nivel educativo, conservando una única columna, pero ahora numérica."
   ]
  },
  {
   "cell_type": "markdown",
   "id": "f8271f22-7776-453c-aed8-308f2e45fd08",
   "metadata": {},
   "source": [
    "### Country"
   ]
  },
  {
   "cell_type": "code",
   "execution_count": null,
   "id": "b54b4ee1-6118-437a-9321-02d666d7bb39",
   "metadata": {},
   "outputs": [],
   "source": [
    "# Filtramos coke y country que son las variables de interés\n",
    "df_country = data[['country','coke']]\n",
    "\n",
    "df_country.sample(10)"
   ]
  },
  {
   "cell_type": "code",
   "execution_count": null,
   "id": "15cd990f-a0b2-4219-b861-1b0a567bf652",
   "metadata": {},
   "outputs": [],
   "source": [
    "# Hacemos un gráfico para analizar la distribución de los datos\n",
    "df_country.country.value_counts().plot.barh(stacked=False)\n",
    "\n",
    "plt.ylabel('País')\n",
    "plt.title('Encuestados por país')\n",
    "plt.show()"
   ]
  },
  {
   "cell_type": "markdown",
   "id": "3d9aefdd-2050-4d60-be86-d236c52d8b13",
   "metadata": {},
   "source": [
    "La columna country está completamente desbalanceada, habiendo registros más que nada de Reino Unido y Estados Unidos"
   ]
  },
  {
   "cell_type": "markdown",
   "id": "d586bed8-9277-4360-9e80-21a69b98a86c",
   "metadata": {},
   "source": [
    "Para analizar la proporción de consumo dentro de cada país, podemos hacer gráficos de torta"
   ]
  },
  {
   "cell_type": "code",
   "execution_count": null,
   "id": "ea713a9a-9041-4091-95c8-c481619ae2c4",
   "metadata": {},
   "outputs": [],
   "source": [
    "consumo_x_pais = df_country.groupby(['coke','country']).size().unstack()\n",
    "\n",
    "print(consumo_x_pais)"
   ]
  },
  {
   "cell_type": "code",
   "execution_count": null,
   "id": "f2a772b3-c47d-477d-a63d-8970f58c323e",
   "metadata": {},
   "outputs": [],
   "source": [
    "consumo_x_pais.plot.pie(subplots=True, figsize=(10, 15), autopct=None, startangle=90, layout=(4, 2))\n",
    "\n",
    "plt.tight_layout()\n",
    "plt.show()"
   ]
  },
  {
   "cell_type": "markdown",
   "id": "3e1a6807-6b71-40ef-bb43-8c45955814f3",
   "metadata": {},
   "source": [
    "Concluímos que el consumo de cocaína en Estados Unidos es mucho mayor que en Reino Unido"
   ]
  },
  {
   "cell_type": "markdown",
   "id": "5b64ae15-1c15-4052-8507-bde2539edf0c",
   "metadata": {},
   "source": [
    "**Posible transformación:** no hay relación de orden entre los países, es una variable nominal. En este caso, aplicamos un one-hot encoder, teniendo una columna binaria para cada país."
   ]
  },
  {
   "cell_type": "markdown",
   "id": "c033d486-7c97-48b1-91bc-0b572c12afcc",
   "metadata": {},
   "source": [
    "### Ethnicity"
   ]
  },
  {
   "cell_type": "code",
   "execution_count": null,
   "id": "28e8b804-63e1-4ce1-af9b-38422694ee3c",
   "metadata": {},
   "outputs": [],
   "source": [
    "# Agrupamos para conocer el consumo puntual por cada etnia\n",
    "consumo_x_etnia = data.groupby(['coke', 'ethnicity']).size().unstack()\n",
    "\n",
    "# Mostramos el df\n",
    "print(consumo_x_etnia)"
   ]
  },
  {
   "cell_type": "code",
   "execution_count": null,
   "id": "0d25a939-7aeb-4a96-afac-06c18cdfb3b0",
   "metadata": {},
   "outputs": [],
   "source": [
    "consumo_x_etnia.transpose().plot.barh(stacked=True);"
   ]
  },
  {
   "cell_type": "markdown",
   "id": "9bf6c1fa-d6e0-4fae-ab18-eeecd25eba33",
   "metadata": {},
   "source": [
    "Observamos que el conjunto de datos está desbalanceado siendo 'white' la etnia predominante"
   ]
  },
  {
   "cell_type": "code",
   "execution_count": null,
   "id": "8fbcc7aa-b6d3-42c4-9aed-e6205a2558b8",
   "metadata": {},
   "outputs": [],
   "source": [
    "# Generamos un gráfico de tortas igual al que hicimos con los países, para ver la proporción de consumo dentro de cada etnia\n",
    "consumo_x_etnia.plot.pie(subplots=True, figsize=(10, 15), autopct=None, startangle=90, layout=(4, 2))\n",
    "\n",
    "plt.tight_layout()\n",
    "plt.show()"
   ]
  },
  {
   "cell_type": "markdown",
   "id": "f19f7b21-33ee-4656-a2fe-8dfb9a6bfddb",
   "metadata": {},
   "source": [
    "**Posible transformación**: de la misma forma que con la variable 'country', podemos aplicar un one-hot encoder"
   ]
  },
  {
   "cell_type": "markdown",
   "id": "c9f0312a-b7db-4298-9550-37589b4ab37d",
   "metadata": {},
   "source": [
    "### Nscore"
   ]
  },
  {
   "cell_type": "code",
   "execution_count": null,
   "id": "dc608c34-a739-4108-8bc4-f1b39093d098",
   "metadata": {},
   "outputs": [],
   "source": [
    "data.n_score.describe()"
   ]
  },
  {
   "cell_type": "code",
   "execution_count": null,
   "id": "eb505ddb-f6f0-4ffa-af2e-f2c082165f8c",
   "metadata": {},
   "outputs": [],
   "source": [
    "# Vemos los valores que toma n_score para el dataset\n",
    "valores_unicos = data.n_score.unique()\n",
    "\n",
    "print(valores_unicos)"
   ]
  },
  {
   "cell_type": "code",
   "execution_count": null,
   "id": "cb819bef-00a0-4d40-a002-b6c68871930e",
   "metadata": {},
   "outputs": [],
   "source": [
    "cantidad_valores_unicos = valores_unicos.size\n",
    "data.n_score.plot.hist(bins=cantidad_valores_unicos)"
   ]
  },
  {
   "cell_type": "code",
   "execution_count": null,
   "id": "e3234bf2-a480-4a4d-9e57-ef1b83b2a978",
   "metadata": {},
   "outputs": [],
   "source": [
    "consumo_x_nscore = data[['coke','n_score']]\n",
    "print(consumo_x_nscore)"
   ]
  },
  {
   "cell_type": "code",
   "execution_count": null,
   "id": "1076ac32-4f4c-48c5-acf1-7a8020e94c51",
   "metadata": {},
   "outputs": [],
   "source": [
    "# Ordenamos la frecuencia de consumo en el gráfico\n",
    "sns.boxplot(x='coke', y='n_score', data=consumo_x_nscore, order=coke_order)\n",
    "\n",
    "plt.xlabel('Consumo')\n",
    "plt.ylabel('N Score')\n",
    "plt.title('Consumo por Neuroticismo')\n",
    "\n",
    "plt.xticks(rotation=45)\n",
    "\n",
    "plt.tight_layout()\n",
    "plt.show()"
   ]
  },
  {
   "cell_type": "markdown",
   "id": "21b45a87-2d93-4f22-a86e-cff6e7b573ba",
   "metadata": {},
   "source": [
    "Observamos que se forma una ligera tendencia: mayor neuroticismo, más reciente fue el consumo"
   ]
  },
  {
   "cell_type": "markdown",
   "id": "c62c7afa-beb7-4360-985f-59bf8d330a9b",
   "metadata": {},
   "source": [
    "### Escore"
   ]
  },
  {
   "cell_type": "code",
   "execution_count": null,
   "id": "ac4709f1-c193-4ac0-8960-0ad3edc3fcbe",
   "metadata": {},
   "outputs": [],
   "source": [
    "# Vemos los valores que toma e_score para el dataset\n",
    "valores_unicos = data.e_score.unique()\n",
    "\n",
    "print(valores_unicos)"
   ]
  },
  {
   "cell_type": "code",
   "execution_count": null,
   "id": "61b968fc-f117-4903-8996-a893f8ba090a",
   "metadata": {},
   "outputs": [],
   "source": [
    "cantidad_valores_unicos = valores_unicos.size\n",
    "data.e_score.plot.hist(bins=cantidad_valores_unicos)"
   ]
  },
  {
   "cell_type": "code",
   "execution_count": null,
   "id": "f3c632a1-d42f-49dc-9d67-c08ea7d83554",
   "metadata": {},
   "outputs": [],
   "source": [
    "consumo_x_escore = data[['coke','e_score']]\n",
    "\n",
    "# Ordenamos la frecuencia de consumo en el gráfico\n",
    "sns.boxplot(x='coke', y='e_score', data=consumo_x_escore, order=coke_order)\n",
    "\n",
    "plt.xlabel('Consumo')\n",
    "plt.ylabel('E Score')\n",
    "plt.title('Consumo por Extroversión')\n",
    "\n",
    "plt.xticks(rotation=45)\n",
    "\n",
    "plt.tight_layout()\n",
    "plt.show()"
   ]
  },
  {
   "cell_type": "markdown",
   "id": "390d06b2-6214-444b-a1ff-8b60a360f0fe",
   "metadata": {},
   "source": [
    "No encontramos una relación explícita"
   ]
  },
  {
   "cell_type": "markdown",
   "id": "ca768da5-f5a1-4c68-b4d9-1175ff8d272f",
   "metadata": {},
   "source": [
    "### Oscore"
   ]
  },
  {
   "cell_type": "code",
   "execution_count": null,
   "id": "61193dbd-36cf-4310-b113-b7c32fa83f51",
   "metadata": {},
   "outputs": [],
   "source": [
    "# Vemos los valores que toma o_score para el dataset\n",
    "valores_unicos = data.o_score.unique()\n",
    "\n",
    "print(valores_unicos)"
   ]
  },
  {
   "cell_type": "code",
   "execution_count": null,
   "id": "a0369722-3d8e-4bb9-8685-527807c4d99b",
   "metadata": {},
   "outputs": [],
   "source": [
    "cantidad_valores_unicos = valores_unicos.size\n",
    "data.o_score.plot.hist(bins=cantidad_valores_unicos)"
   ]
  },
  {
   "cell_type": "code",
   "execution_count": null,
   "id": "f95c32f0-6fb4-4aa6-b53b-966a3e0c0851",
   "metadata": {},
   "outputs": [],
   "source": [
    "consumo_x_oscore = data[['coke','o_score']]\n",
    "\n",
    "# Ordenamos la frecuencia de consumo en el gráfico\n",
    "sns.boxplot(x='coke', y='o_score', data=consumo_x_oscore, order=coke_order)\n",
    "\n",
    "plt.xlabel('Consumo')\n",
    "plt.ylabel('O Score')\n",
    "plt.title('Consumo por Apertura a Nuevas Experiencias')\n",
    "\n",
    "plt.xticks(rotation=45)\n",
    "\n",
    "plt.tight_layout()\n",
    "plt.show()"
   ]
  },
  {
   "cell_type": "markdown",
   "id": "6dd1c6ea-1c05-4783-aab7-98f38824a63a",
   "metadata": {},
   "source": [
    "### Ascore"
   ]
  },
  {
   "cell_type": "code",
   "execution_count": null,
   "id": "f6eec814-2c17-4a4e-93a9-e3e934421b18",
   "metadata": {},
   "outputs": [],
   "source": [
    "# Vemos los valores que toma a_score para el dataset\n",
    "valores_unicos = data.a_score.unique()\n",
    "\n",
    "print(valores_unicos)"
   ]
  },
  {
   "cell_type": "code",
   "execution_count": null,
   "id": "b139f0de-7b2c-4714-b42e-47234f9b54f1",
   "metadata": {},
   "outputs": [],
   "source": [
    "cantidad_valores_unicos = valores_unicos.size\n",
    "data.a_score.plot.hist(bins=cantidad_valores_unicos)"
   ]
  },
  {
   "cell_type": "code",
   "execution_count": null,
   "id": "46911cf0-be59-47d3-aa50-74f370dbdc05",
   "metadata": {},
   "outputs": [],
   "source": [
    "consumo_x_ascore = data[['coke','a_score']]\n",
    "\n",
    "# Ordenamos la frecuencia de consumo en el gráfico\n",
    "sns.boxplot(x='coke', y='a_score', data=consumo_x_ascore, order=coke_order)\n",
    "\n",
    "plt.xlabel('Consumo')\n",
    "plt.ylabel('A Score')\n",
    "plt.title('Consumo por Nivel de Empatía')\n",
    "\n",
    "plt.xticks(rotation=45)\n",
    "\n",
    "plt.tight_layout()\n",
    "plt.show()"
   ]
  },
  {
   "cell_type": "markdown",
   "id": "69efe92e-af1a-475a-9da1-3e0014c0918e",
   "metadata": {},
   "source": [
    "### Cscore"
   ]
  },
  {
   "cell_type": "code",
   "execution_count": null,
   "id": "85e98dbd-f6f9-48af-9ab3-908517b65f29",
   "metadata": {},
   "outputs": [],
   "source": [
    "variable = 'c_score'\n",
    "\n",
    "# Vemos los valores que toma c_score para el dataset\n",
    "valores_unicos = data[variable].unique()\n",
    "\n",
    "print(valores_unicos)"
   ]
  },
  {
   "cell_type": "code",
   "execution_count": null,
   "id": "4c2f5120-5e45-44a4-bdee-2ad23dcb2180",
   "metadata": {},
   "outputs": [],
   "source": [
    "cantidad_valores_unicos = valores_unicos.size\n",
    "data[variable].plot.hist(bins=cantidad_valores_unicos)"
   ]
  },
  {
   "cell_type": "code",
   "execution_count": null,
   "id": "bb6a30b6-58ba-4c2d-aba2-0c242235c870",
   "metadata": {},
   "outputs": [],
   "source": [
    "consumo_x_variable = data[['coke',variable]]\n",
    "\n",
    "# Ordenamos la frecuencia de consumo en el gráfico\n",
    "sns.boxplot(x='coke', y=variable, data=consumo_x_variable, order=coke_order)\n",
    "\n",
    "plt.xlabel('Consumo')\n",
    "plt.ylabel('C Score')\n",
    "plt.title('Consumo por Autocontrol')\n",
    "\n",
    "plt.xticks(rotation=45)\n",
    "\n",
    "plt.tight_layout()\n",
    "plt.show()"
   ]
  },
  {
   "cell_type": "markdown",
   "id": "90b7e03d-3bc9-462c-8762-83f5a227b5ed",
   "metadata": {},
   "source": [
    "Quizás las personas que tomaron cocaína el día anterior siguen bajo el efecto de la sustancia y creen que tienen un buen autocontrol"
   ]
  },
  {
   "cell_type": "markdown",
   "id": "626b4b72-29e9-4825-b5d4-8b143580cbce",
   "metadata": {},
   "source": [
    "### Impulsive"
   ]
  },
  {
   "cell_type": "code",
   "execution_count": null,
   "id": "df69b190-b86e-45cd-8e9d-d856b8d174d9",
   "metadata": {},
   "outputs": [],
   "source": [
    "variable = 'impulsive'\n",
    "\n",
    "# Vemos los valores que toma impulsive para el dataset\n",
    "valores_unicos = data[variable].unique()\n",
    "\n",
    "print(valores_unicos)"
   ]
  },
  {
   "cell_type": "code",
   "execution_count": null,
   "id": "30fbd839-d989-428b-b5e5-2724f9b182cc",
   "metadata": {},
   "outputs": [],
   "source": [
    "cantidad_valores_unicos = valores_unicos.size\n",
    "data[variable].plot.hist(bins=cantidad_valores_unicos)"
   ]
  },
  {
   "cell_type": "code",
   "execution_count": null,
   "id": "651dc9e6-eb91-4cb5-95d4-58143b8dbdd7",
   "metadata": {},
   "outputs": [],
   "source": [
    "consumo_x_variable = data[['coke',variable]]\n",
    "\n",
    "# Ordenamos la frecuencia de consumo en el gráfico\n",
    "sns.boxplot(x='coke', y=variable, data=consumo_x_variable, order=coke_order)\n",
    "\n",
    "plt.xlabel('Consumo')\n",
    "plt.ylabel('Nivel de Impulsividad')\n",
    "plt.title('Consumo por Impulsividad')\n",
    "\n",
    "plt.xticks(rotation=45)\n",
    "\n",
    "plt.tight_layout()\n",
    "plt.show()"
   ]
  },
  {
   "cell_type": "markdown",
   "id": "ea72863b-eb7b-41fb-b5ee-9ee748876191",
   "metadata": {},
   "source": [
    "### Sensation"
   ]
  },
  {
   "cell_type": "code",
   "execution_count": null,
   "id": "5a7bdfc6-abda-463a-9b29-93c4524bcc76",
   "metadata": {},
   "outputs": [],
   "source": [
    "variable = 'sensibility'\n",
    "\n",
    "# Vemos los valores que toma sensation para el dataset\n",
    "valores_unicos = data[variable].unique()\n",
    "\n",
    "print(valores_unicos)"
   ]
  },
  {
   "cell_type": "code",
   "execution_count": null,
   "id": "39a4a018-ee41-415f-a8bc-0e6d8b6ea528",
   "metadata": {},
   "outputs": [],
   "source": [
    "cantidad_valores_unicos = valores_unicos.size\n",
    "data[variable].plot.hist(bins=cantidad_valores_unicos)"
   ]
  },
  {
   "cell_type": "code",
   "execution_count": null,
   "id": "78d33d43-6f95-4429-bcb3-832cb6444bf1",
   "metadata": {},
   "outputs": [],
   "source": [
    "consumo_x_variable = data[['coke',variable]]\n",
    "\n",
    "# Ordenamos la frecuencia de consumo en el gráfico\n",
    "sns.boxplot(x='coke', y=variable, data=consumo_x_variable, order=coke_order)\n",
    "\n",
    "plt.xlabel('Consumo')\n",
    "plt.ylabel('Nivel de Sensibilidad')\n",
    "plt.title('Consumo por Sensibilidad')\n",
    "\n",
    "plt.xticks(rotation=45)\n",
    "\n",
    "plt.tight_layout()\n",
    "plt.show()"
   ]
  },
  {
   "cell_type": "markdown",
   "id": "e504cbc7-5f18-4211-8cd3-0f3a270fca9b",
   "metadata": {},
   "source": [
    "### Posible transformación para variables psicológicas\n",
    "Las 7 variables psicológicas son numéricas, y respetan una distribución con media en cero. Todas tienen un desvío que las hace tener valores mínimos en -3 y máximos en 3, excepto para 'sensation', que el valor pasa a ser 2.\n",
    "No parece necesario hacer ningún tipo de pre-procesado sobre estas columnas."
   ]
  },
  {
   "cell_type": "markdown",
   "id": "60953f28-51ec-4c84-85d0-4a0012a34f4b",
   "metadata": {},
   "source": [
    "## Correlación"
   ]
  },
  {
   "cell_type": "code",
   "execution_count": null,
   "id": "07d7db64-f9c5-4061-bf95-6ec1437b0d5c",
   "metadata": {},
   "outputs": [],
   "source": [
    "columnas = data.iloc[:, 5:12]\n",
    "correlacion = columnas.corr()\n",
    "sns.heatmap(correlacion, annot=True, cmap='coolwarm')\n",
    "plt.show()\n"
   ]
  },
  {
   "cell_type": "markdown",
   "id": "566c6883-fe5c-44aa-8f45-3eb156de0d16",
   "metadata": {},
   "source": [
    "# Análisis del diagrama de correlación\n",
    "\n",
    "## Observaciones generales:\n",
    "\n",
    "• Impulsividad y Sensibilidad: La fuerte correlación positiva entre estas dos variables indica que las personas impulsivas tienden a ser más sensibles. Esto sugiere una relación entre la búsqueda de sensaciones intensas y la dificultad para controlar los impulsos.\n",
    "\n",
    "• Neuroticismo y Apertura: La correlación negativa entre neuroticismo y apertura sugiere que las personas más neuróticas suelen ser menos abiertas a nuevas experiencias. Esto podría indicar una mayor vulnerabilidad a la ansiedad y al estrés, y una menor disposición a explorar nuevas opciones.\n",
    "\n",
    "• Apertura y Sensibilidad: Aunque menos pronunciada, la correlación positiva entre o_score y sensibility sugiere que las personas más abiertas a nuevas experiencias también pueden ser más sensibles.\n",
    "\n",
    "• Neuroticismo y Extroversión: Existe una correlación negativa fuerte entre estos dos rasgos. Esto significa que las personas con altos niveles de neuroticismo tienden a ser menos extrovertidas.\n",
    "\n",
    "• Neuroticismo y Consciencia: También hay una correlación negativa fuerte entre el neuroticismo y la conciencia. Las personas neuróticas suelen ser menos organizadas y orientadas a metas.\n",
    "\n",
    "• Consciencia e Impulsividad: La correlación negativa entre estos dos rasgos es lógica. Las personas más conscientes suelen ser más controladas y menos impulsivas.\n",
    "\n",
    "\n",
    "## Explorando las posibles causas:\n",
    "\n",
    "• Búsqueda de sensaciones: La combinación de impulsividad y sensibilidad podría ser un indicador de una búsqueda constante de sensaciones intensas, que la cocaína puede proporcionar de forma rápida y potente.\n",
    "\n",
    "• Automedicación: El alto neuroticismo podría llevar a las personas a utilizar la cocaína como un mecanismo de afrontamiento para aliviar síntomas como la ansiedad y la depresión.\n",
    "\n",
    "• Evitación del aburrimiento: La baja apertura a nuevas experiencias podría llevar a las personas a buscar estímulos externos, como las drogas, para evitar el aburrimiento."
   ]
  },
  {
   "cell_type": "markdown",
   "id": "3c8aed78-a2a5-48d8-be15-386424c8ebf9",
   "metadata": {},
   "source": [
    "# Hipótesis sobre los datos"
   ]
  },
  {
   "cell_type": "markdown",
   "id": "b748d78c-aa31-484f-98cc-0192c5823068",
   "metadata": {},
   "source": [
    "## Más alta la edad de la persona, más chances de haber consumido cocaína?\n",
    "Es algo que parece bastante lógico. Es decir, más tiempo hayas tenido para probar, más probabilidades hay de que hayas probado."
   ]
  },
  {
   "cell_type": "markdown",
   "id": "874f5b65-6a90-4ce6-bca9-d9618b6a0262",
   "metadata": {},
   "source": [
    "La realidad es que el dataset está bastante desbalanceado respecto a la edad, y hay pocas muestras de adultos mayores en comparación con los jóvenes"
   ]
  },
  {
   "cell_type": "code",
   "execution_count": null,
   "id": "6e99ef0b-8f6a-4605-b8ab-5eeadb3a85aa",
   "metadata": {},
   "outputs": [],
   "source": [
    "cantidad_por_edad = df_age.copy()\n",
    "\n",
    "# Usamos el mismo dataset que cuando hicimos el análisis de variables de entrada\n",
    "cantidad_por_edad.age.value_counts().plot.bar(stacked=False)\n",
    "\n",
    "plt.xlabel('Edad')\n",
    "plt.title('Cantidad de encuestados por edad')\n",
    "plt.show()"
   ]
  },
  {
   "cell_type": "markdown",
   "id": "3bab0e4d-2c0c-4deb-8d92-7a88dfc38064",
   "metadata": {},
   "source": [
    "Sin embargo, lo que sí podemos hacer es agrupar coke en dos valores (nunca consumió y alguna vez consumió), y visualizarlo con esas dos salidas. Lo más ilustrativo es usar gráficos de torta."
   ]
  },
  {
   "cell_type": "code",
   "execution_count": null,
   "id": "90d4b7ee-4ffb-4c02-8e64-6358fef09ff5",
   "metadata": {},
   "outputs": [],
   "source": [
    "# Primero mapeamos los valores de coke, donde 'Never' queda tal cual\n",
    "at_least_once = 'At Least Once'\n",
    "consumo_binario_mapping = {\n",
    "    'A Decade Ago': at_least_once,\n",
    "    'Last Decade': at_least_once,\n",
    "    'Last Year': at_least_once,\n",
    "    'Last Month': at_least_once,\n",
    "    'Last Week': at_least_once,\n",
    "    'Last Day': at_least_once,\n",
    "    }\n",
    "\n",
    "consumo_por_edad = df_age.copy()\n",
    "consumo_por_edad['coke'] = consumo_por_edad['coke'].replace(consumo_binario_mapping)\n",
    "\n",
    "consumo_por_edad"
   ]
  },
  {
   "cell_type": "code",
   "execution_count": null,
   "id": "c592b9a0-3b5d-4a77-bd23-7b304e650491",
   "metadata": {},
   "outputs": [],
   "source": [
    "# Para poder ver cada edad como un gráfico distinto, tenemos que agrupar por dos columnas, y no por una única\n",
    "consumo_por_edad = consumo_por_edad.groupby(['coke','age'], observed=False).size().unstack()\n",
    "\n",
    "# Generamos un gráfico de tortas\n",
    "consumo_por_edad.plot.pie(subplots=True, figsize=(10, 15), autopct=None, startangle=90, layout=(4, 2))\n",
    "\n",
    "plt.tight_layout()\n",
    "plt.show()"
   ]
  },
  {
   "cell_type": "markdown",
   "id": "8c2200a8-fdd7-4d09-8bfb-b9ffe83e6847",
   "metadata": {},
   "source": [
    "Para nuestra sorpresa, ocurre lo contrario: las personas más adultas son las que menos cocaína consumieron a lo largo de su vida. Evidentemente es una cuestión puntual de las generaciones."
   ]
  },
  {
   "cell_type": "markdown",
   "id": "5a731d86-8893-4114-b034-2858d8ccaa8c",
   "metadata": {},
   "source": [
    "## Un mayor nivel educativo implica más sabiduría?"
   ]
  },
  {
   "cell_type": "markdown",
   "id": "55e752fe-9989-42ee-913d-b94285581565",
   "metadata": {},
   "source": [
    "Podríamos llegar a pensar que una persona que no terminó el secundario tiene más chances de consumir drogas duras como la cocaína, frente a un individuo con un doctorado.\n",
    "\n",
    "Para el análisis usaremos el mismo proceso que con la edad, porque los datos también están algo desbalanceados."
   ]
  },
  {
   "cell_type": "code",
   "execution_count": null,
   "id": "73d65b68-d7b2-447c-ae2b-b1566992a08c",
   "metadata": {},
   "outputs": [],
   "source": [
    "# Aprovechamos el dataset que creamos anteriormente\n",
    "df_education_converted.education.value_counts().sort_index().plot.barh(stacked=False)\n",
    "\n",
    "plt.ylabel('Nivel Educativo')\n",
    "plt.title('Cantidad de encuestados por nivel educativo')\n",
    "plt.show()"
   ]
  },
  {
   "cell_type": "code",
   "execution_count": null,
   "id": "41bd27c4-3715-46e5-90a7-024fb4c329b3",
   "metadata": {},
   "outputs": [],
   "source": [
    "# Usamos el mismo mapping que con la hipótesis de la edad\n",
    "consumo_por_educacion = df_education_converted.copy()\n",
    "consumo_por_educacion['coke'] = consumo_por_educacion['coke'].replace(consumo_binario_mapping)\n",
    "\n",
    "# Para poder ver cada edad como un gráfico distinto, tenemos que agrupar por dos columnas, y no por una única\n",
    "consumo_por_educacion = consumo_por_educacion.groupby(['coke','education'], observed=False).size().unstack()\n",
    "\n",
    "# Generamos un gráfico de tortas\n",
    "consumo_por_educacion.plot.pie(subplots=True, figsize=(10, 15), autopct=None, startangle=90, layout=(5, 2))\n",
    "\n",
    "plt.tight_layout()\n",
    "plt.show()"
   ]
  },
  {
   "cell_type": "markdown",
   "id": "3435264f-d329-4bc8-99f8-6f37d290c703",
   "metadata": {},
   "source": [
    "Esto es lo que escribimos antes de ejecutar la celda de los gráficos. Planteamos la hipótesis para refutarla, y nos refutó a nosotros:\n",
    "\n",
    "\"Sin embargo, no hay una relación evidente entre el consumo y la educación. Esto es así porque la cocaína no es una droga que diferencie entre clases, y su consumo se disemina entre los múltiples estratos de la sociedad\"\n",
    "\n",
    "En realidad vemos que hay una disminución del consumo a partir de los niveles universitarios."
   ]
  },
  {
   "cell_type": "markdown",
   "id": "9ec69bcf-6933-4cfe-aab5-a97448fc9ecc",
   "metadata": {},
   "source": [
    "## Hallazgos y nuevas variables\n",
    "Entre los hallazgos que encontramos en los datos, más alla de las dos hipótesis enunciadas, están los que se desprenden del análisis de las variables de entrada, que no tienen un impacto en el modelo más que el de asignarle más peso a ciertas variables antes que a otras.\n",
    "\n",
    "Esto es claro en las columnas psicológicas, que presentan una buena linealidad con la salida. En el resto, género puede ser útil, por la tendencia que muestra, pero otras columnas, como país y etnia, podrían tranquilamente no ser consideradas para la clasificación.\n",
    "\n",
    "En cuanto a nuevas variables, siendo sinceros no se nos ocurre demasiado. Creemos que con las actuales es suficiente, y no salta a la luz ninguna combinación de columnas ingeniosa."
   ]
  }
 ],
 "metadata": {
  "kernelspec": {
   "display_name": "Python 3 (ipykernel)",
   "language": "python",
   "name": "python3"
  },
  "language_info": {
   "codemirror_mode": {
    "name": "ipython",
    "version": 3
   },
   "file_extension": ".py",
   "mimetype": "text/x-python",
   "name": "python",
   "nbconvert_exporter": "python",
   "pygments_lexer": "ipython3",
   "version": "3.10.12"
  }
 },
 "nbformat": 4,
 "nbformat_minor": 5
}
